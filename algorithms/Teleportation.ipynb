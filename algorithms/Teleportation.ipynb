{
 "cells": [
  {
   "cell_type": "markdown",
   "id": "compact-blogger",
   "metadata": {},
   "source": [
    "## Imports"
   ]
  },
  {
   "cell_type": "code",
   "execution_count": 1,
   "id": "pursuant-wagon",
   "metadata": {},
   "outputs": [],
   "source": [
    "import config\n",
    "import numpy as np\n",
    "from qiskit import QuantumRegister, ClassicalRegister, QuantumCircuit, Aer, execute\n",
    "from qiskit.visualization import plot_histogram"
   ]
  },
  {
   "cell_type": "markdown",
   "id": "posted-marine",
   "metadata": {},
   "source": [
    "# Teleportation"
   ]
  },
  {
   "cell_type": "markdown",
   "id": "unauthorized-postage",
   "metadata": {},
   "source": [
    "The quantum teleportation protocol is a fundamental part of many quantum algorithms. It enables you to transfer the state of one qubit to another qubit instantly. An important distinction to make is that teleportation in this context refers to the transfer of information rather than matter, since the qubits stay in the same place, but the state is transferred.\n",
    "\n",
    "This protocol is useful to overcome the difficulties imposed by the [no-cloning theorem](https://en.wikipedia.org/wiki/No-cloning_theorem), which tells us that it is not possible to create an exact copy of a quantum state. Which means we cannot copy the state of one qubit into another, but we can teleport it. In fact, most uses of the teleportation protocol are to transfer the state of a qubit into another within a single QPU rather than across large distances like most sci-fi movies portray it. \n",
    "\n",
    "The circuit is composed the following way:"
   ]
  },
  {
   "cell_type": "code",
   "execution_count": 2,
   "id": "signed-saudi",
   "metadata": {},
   "outputs": [],
   "source": [
    "def teleportation(hardware = False):\n",
    "    qreg_sender   = QuantumRegister(1, name='q_sender')\n",
    "    qreg_ep       = QuantumRegister(1, name='q_ancillary')\n",
    "    qreg_receiver = QuantumRegister(1, name='q_receiver')\n",
    "    creg_receiver = ClassicalRegister(1, name='c_receiver')\n",
    "    if not hardware:\n",
    "        creg_ep       = ClassicalRegister(1, name='c_ancillary')\n",
    "        creg_sender   = ClassicalRegister(1, name='c_sender')\n",
    "        qc            = QuantumCircuit(qreg_sender, qreg_ep, qreg_receiver, creg_sender, creg_ep, creg_receiver)\n",
    "    else:\n",
    "        qc = QuantumCircuit(qreg_sender, qreg_ep, qreg_receiver, creg_receiver)\n",
    "\n",
    "    # Entangle ep register with receiver register\n",
    "    qc.h(qreg_ep)\n",
    "    qc.cx(qreg_ep, qreg_receiver)\n",
    "\n",
    "    qc.barrier()\n",
    "\n",
    "    # Prepare qubit to be sent with specific state\n",
    "    qc.reset(qreg_sender)\n",
    "    qc.h(qreg_sender)\n",
    "    qc.rz(np.pi/4, qreg_sender)\n",
    "    qc.h(qreg_sender)\n",
    "\n",
    "    qc.barrier()\n",
    "\n",
    "    # Send qubit\n",
    "    qc.cx(qreg_sender, qreg_ep)\n",
    "    qc.h(qreg_sender)\n",
    "\n",
    "    if not hardware:\n",
    "        qc.measure(qreg_sender, creg_sender)\n",
    "        qc.measure(qreg_ep, creg_ep)\n",
    "\n",
    "        qc.barrier()\n",
    "\n",
    "        # Receive qubit and apply gates depending on measures of sender's and entangled's qubits\n",
    "        qc.x(qreg_receiver).c_if(creg_ep, 1)\n",
    "        qc.z(qreg_receiver).c_if(creg_sender, 1)\n",
    "\n",
    "        qc.barrier()\n",
    "    else:\n",
    "        qc.barrier()\n",
    "\n",
    "        # Use conditional quantum gates instead of classical controlled gates\n",
    "        qc.cx(qreg_ep, qreg_receiver)\n",
    "        qc.cz(qreg_sender, qreg_receiver)\n",
    "\n",
    "        qc.barrier()\n",
    "\n",
    "    # Measure\n",
    "    qc.h(qreg_receiver)\n",
    "    qc.rz(-np.pi/4, qreg_receiver)\n",
    "    qc.h(qreg_receiver)\n",
    "    qc.measure(qreg_receiver, creg_receiver)\n",
    "\n",
    "    # Return circuit\n",
    "    return qc"
   ]
  },
  {
   "cell_type": "code",
   "execution_count": 3,
   "id": "indonesian-start",
   "metadata": {},
   "outputs": [
    {
     "data": {
      "text/html": [
       "<pre style=\"word-wrap: normal;white-space: pre;background: #fff0;line-height: 1.1;font-family: &quot;Courier New&quot;,Courier,monospace\">                          ░      ┌───┐┌─────────┐┌───┐ ░      ┌───┐┌─┐ ░ »\n",
       "     q_sender: ───────────░──|0>─┤ H ├┤ Rz(π/4) ├┤ H ├─░───■──┤ H ├┤M├─░─»\n",
       "               ┌───┐      ░      └───┘└─────────┘└───┘ ░ ┌─┴─┐└┬─┬┘└╥┘ ░ »\n",
       "  q_ancillary: ┤ H ├──■───░────────────────────────────░─┤ X ├─┤M├──╫──░─»\n",
       "               └───┘┌─┴─┐ ░                            ░ └───┘ └╥┘  ║  ░ »\n",
       "   q_receiver: ─────┤ X ├─░────────────────────────────░────────╫───╫──░─»\n",
       "                    └───┘ ░                            ░        ║   ║  ░ »\n",
       "   c_sender: 1/═════════════════════════════════════════════════╬═══╩════»\n",
       "                                                                ║   0    »\n",
       "c_ancillary: 1/═════════════════════════════════════════════════╩════════»\n",
       "                                                                0        »\n",
       " c_receiver: 1/══════════════════════════════════════════════════════════»\n",
       "                                                                         »\n",
       "«                              ░                          \n",
       "«     q_sender: ───────────────░──────────────────────────\n",
       "«                              ░                          \n",
       "«  q_ancillary: ───────────────░──────────────────────────\n",
       "«                ┌───┐  ┌───┐  ░ ┌───┐┌──────────┐┌───┐┌─┐\n",
       "«   q_receiver: ─┤ X ├──┤ Z ├──░─┤ H ├┤ Rz(-π/4) ├┤ H ├┤M├\n",
       "«                └─╥─┘  └─╥─┘  ░ └───┘└──────────┘└───┘└╥┘\n",
       "«                  ║   ┌──╨──┐                          ║ \n",
       "«   c_sender: 1/═══╬═══╡ 0x1 ╞══════════════════════════╬═\n",
       "«               ┌──╨──┐└─────┘                          ║ \n",
       "«c_ancillary: 1/╡ 0x1 ╞═════════════════════════════════╬═\n",
       "«               └─────┘                                 ║ \n",
       "« c_receiver: 1/════════════════════════════════════════╩═\n",
       "«                                                       0 </pre>"
      ],
      "text/plain": [
       "                          ░      ┌───┐┌─────────┐┌───┐ ░      ┌───┐┌─┐ ░ »\n",
       "     q_sender: ───────────░──|0>─┤ H ├┤ Rz(π/4) ├┤ H ├─░───■──┤ H ├┤M├─░─»\n",
       "               ┌───┐      ░      └───┘└─────────┘└───┘ ░ ┌─┴─┐└┬─┬┘└╥┘ ░ »\n",
       "  q_ancillary: ┤ H ├──■───░────────────────────────────░─┤ X ├─┤M├──╫──░─»\n",
       "               └───┘┌─┴─┐ ░                            ░ └───┘ └╥┘  ║  ░ »\n",
       "   q_receiver: ─────┤ X ├─░────────────────────────────░────────╫───╫──░─»\n",
       "                    └───┘ ░                            ░        ║   ║  ░ »\n",
       "   c_sender: 1/═════════════════════════════════════════════════╬═══╩════»\n",
       "                                                                ║   0    »\n",
       "c_ancillary: 1/═════════════════════════════════════════════════╩════════»\n",
       "                                                                0        »\n",
       " c_receiver: 1/══════════════════════════════════════════════════════════»\n",
       "                                                                         »\n",
       "«                              ░                          \n",
       "«     q_sender: ───────────────░──────────────────────────\n",
       "«                              ░                          \n",
       "«  q_ancillary: ───────────────░──────────────────────────\n",
       "«                ┌───┐  ┌───┐  ░ ┌───┐┌──────────┐┌───┐┌─┐\n",
       "«   q_receiver: ─┤ X ├──┤ Z ├──░─┤ H ├┤ Rz(-π/4) ├┤ H ├┤M├\n",
       "«                └─╥─┘  └─╥─┘  ░ └───┘└──────────┘└───┘└╥┘\n",
       "«                  ║   ┌──╨──┐                          ║ \n",
       "«   c_sender: 1/═══╬═══╡ 0x1 ╞══════════════════════════╬═\n",
       "«               ┌──╨──┐└─────┘                          ║ \n",
       "«c_ancillary: 1/╡ 0x1 ╞═════════════════════════════════╬═\n",
       "«               └─────┘                                 ║ \n",
       "« c_receiver: 1/════════════════════════════════════════╩═\n",
       "«                                                       0 "
      ]
     },
     "execution_count": 3,
     "metadata": {},
     "output_type": "execute_result"
    }
   ],
   "source": [
    "circ = teleportation()\n",
    "circ.draw()"
   ]
  },
  {
   "cell_type": "markdown",
   "id": "demographic-teddy",
   "metadata": {},
   "source": [
    "$\\newcommand\\Hto{\\xrightarrow{H}}\\newcommand\\Xto{\\xrightarrow{X}}\\newcommand\\Zto{\\xrightarrow{Z}}\\newcommand\\Htopsi{\\xrightarrow{H|\\psi\\rangle}}\\newcommand\\Rzto{\\xrightarrow{R_z}}\\newcommand\\Cnot{\\xrightarrow{CNOT|\\psi\\phi\\rangle}}$We define three states $|\\psi\\rangle$, $|\\phi\\rangle$, and $|\\omega\\rangle$. $|\\psi\\rangle$ will be the state we want to send, $|\\phi\\rangle$ will be an ancillary qubit, and $|\\omega\\rangle$ will be the qubit to which we want to send the state originally in $|\\psi\\rangle$.\n",
    "\n",
    "$$ |\\psi\\rangle\\textrm{: sender qubit, } \\: |\\phi\\rangle\\textrm{: ancillary qubit, } \\: |\\omega\\rangle\\textrm{: receiver qubit.} $$\n",
    "\n",
    "As you can see, the first thing we do is entangle $|\\phi\\rangle$ with $|\\omega\\rangle$. This gives us the state:\n",
    "\n",
    "\\begin{equation} \\label{eq:first_entanglement}\n",
    "    |\\psi\\rangle \\otimes \\frac{1}{\\sqrt{2}}(|00\\rangle + |11\\rangle) \\tag{1}\n",
    "\\end{equation}\n",
    "\n",
    "Note that in this equation and onward, we will describe our state as $|\\psi\\phi\\omega\\rangle$. For example, the state $|010\\rangle$ means that $|\\psi\\rangle = |0\\rangle$, $|\\phi\\rangle = |1\\rangle$, and $|\\omega\\rangle = |0\\rangle$. After entangling $|\\phi\\rangle$ and $|\\omega\\rangle$, we prepare $|\\psi\\rangle$ to the state we want to send. Let's now focus on this state and how it will result after applying the corresponding gates. \n",
    "\n",
    "\\begin{align}\n",
    "    |\\psi\\rangle = |0\\rangle &\\Hto \\frac{1}{\\sqrt{2}}(|0\\rangle + |1\\rangle) \\\\\n",
    "    &\\Rzto{}  \\frac{1}{\\sqrt{2}}\\left(e^{-i\\frac{\\pi}{8}}|0\\rangle + e^{i\\frac{\\pi}{8}}|1\\rangle\\right) \\\\ \n",
    "    &\\Hto{} \\frac{1}{2}\\left(e^{-i\\frac{\\pi}{8}}(|0\\rangle + |1\\rangle) + e^{i\\frac{\\pi}{8}}(|0\\rangle-|1\\rangle)\\right) = \\cos{\\frac{\\pi}{8}}|0\\rangle - \\sin{\\frac{\\pi}{8}}|1\\rangle \\label{eq:prepare_send_state} \\tag{2}\n",
    "\\end{align}\n",
    "\n",
    "The simplified state at \\eqref{eq:prepare_send_state} is the one we will be sending to $|\\omega\\rangle$. Now, we are going to entangle $|\\psi\\rangle$ with $|\\phi\\rangle$ using a CNOT gate and then we are going to send $|\\psi\\rangle$ through a Hadamard gate. Before applying any gates, let's see our state up to here. We can found this state by replacing $|\\psi\\rangle$ in \\eqref{eq:first_entanglement} with the state for $|\\psi\\rangle$ we got in \\eqref{eq:prepare_send_state}. \n",
    "\n",
    "\\begin{align} \\label{eq:expanded_state}\n",
    "    \\left(\\cos{\\frac{\\pi}{8}}|0\\rangle - \\sin{\\frac{\\pi}{8}}|1\\rangle\\right) \\otimes \\frac{1}{\\sqrt{2}}\\left(|00\\rangle + |11\\rangle\\right) = \\frac{1}{\\sqrt{2}}\\left(\\cos{\\frac{\\pi}{8}}(|000\\rangle + |011\\rangle) - \\sin{\\frac{\\pi}{8}}(|100\\rangle + |111\\rangle)\\right) \\tag{3}\n",
    "\\end{align}\n",
    "\n",
    "First we are going to send our state through the CNOT gate, where $|\\psi\\rangle$ acts as the control qubit and $|\\phi\\rangle$ as the target qubit, and then we are going to send $|\\psi\\rangle$ through a Hadamard gate. The following equations describe this operations. For simplicity, we will denote the state we are starting with as $|\\psi\\phi\\omega\\rangle$, this state is the one we ended up with in \\eqref{eq:expanded_state}.\n",
    "\n",
    "\\begin{align}\n",
    "     |\\psi\\phi\\omega\\rangle &\\Cnot{} \\frac{1}{\\sqrt{2}}\\left(\\cos{\\frac{\\pi}{8}}(|000\\rangle + |011\\rangle) - \\sin{\\frac{\\pi}{8}}(|110\\rangle + |101\\rangle)\\right) \\\\ \n",
    "     &\\Htopsi{} \\frac{1}{2}\\left(\\cos{\\frac{\\pi}{8}} (|000\\rangle + |100\\rangle + |011\\rangle + |111\\rangle) - \\sin{\\frac{\\pi}{8}}(|010\\rangle - |110\\rangle + |001\\rangle - |101\\rangle) \\right) \\label{before_measuring} \\tag{4}\n",
    "\\end{align}\n",
    "\n",
    "Here it gets a little bit tricky, since we are going to measure $|\\psi\\rangle$ and $|\\phi\\rangle$. As you may know, there are 4 possible states we might end up with, these are $|00\\rangle$, $|01\\rangle$, $|10\\rangle$ and $|11\\rangle$. And for each of this four states, you can have either $|0\\rangle$ or $|1\\rangle$ for our last qubit: $|\\omega\\rangle$. This gives us the 8 possible states we can see in \\eqref{before_measuring}. Since we are only going to measure the first two qubits, $|\\omega\\rangle$ will remain in a superposition of states, we will examine the 4 possibilities in the following equations:\n",
    "\n",
    "\\begin{align}\n",
    "    \\textrm{When} \\: |\\psi\\phi\\rangle=|00\\rangle \\textrm{, } |\\omega\\rangle&=\\cos{\\frac{\\pi}{8}}|0\\rangle - \\sin{\\frac{\\pi}{8}}|1\\rangle \\\\\n",
    "    \\textrm{When} \\: |\\psi\\phi\\rangle=|01\\rangle \\textrm{, } |\\omega\\rangle&=-\\sin{\\frac{\\pi}{8}}|0\\rangle + \\cos{\\frac{\\pi}{8}}|1\\rangle \\\\\n",
    "    \\textrm{When} \\: |\\psi\\phi\\rangle=|10\\rangle \\textrm{, } |\\omega\\rangle&=\\cos{\\frac{\\pi}{8}}|0\\rangle + \\sin{\\frac{\\pi}{8}}|1\\rangle \\\\\n",
    "    \\textrm{When} \\: |\\psi\\phi\\rangle=|11\\rangle \\textrm{, } |\\omega\\rangle&=\\sin{\\frac{\\pi}{8}}|0\\rangle + \\cos{\\frac{\\pi}{8}}|1\\rangle\n",
    "\\end{align}\n",
    "\n",
    "Now, as you can see in the circuit, we are going to send $|\\omega\\rangle$ through some gates depending on the measurements we made. We are going to apply a Pauli-X gate if $|\\phi\\rangle = |1\\rangle$, followed by a Pauli-Z gate if $|\\psi\\rangle=|1\\rangle$. After applying this conditional gates, $|\\omega\\rangle$ should be in the state of $|\\psi\\rangle$ showed in \\eqref{eq:prepare_send_state}, meaning that the teleportation was completed successfully. Let's see what happens exactly in each case, we will start with the case in which $|\\psi\\phi\\rangle=|00\\rangle$. Well, in this case no further gate is applied, we just have the following state.\n",
    "\n",
    "\\begin{equation} \\label{eq:first_case}\n",
    "    |\\omega\\rangle = \\cos{\\frac{\\pi}{8}}|0\\rangle - \\sin{\\frac{\\pi}{8}}|1\\rangle \\tag{5}\n",
    "\\end{equation}\n",
    "\n",
    "Now, let's look at what happens when $|\\psi\\phi\\rangle=|01\\rangle$. We will only apply a Pauli-X gate. \n",
    "\n",
    "\\begin{align} \\label{eq:second_case}\n",
    "    |\\omega\\rangle=-\\sin{\\frac{\\pi}{8}}|0\\rangle + \\cos{\\frac{\\pi}{8}}|1\\rangle \\Xto{} \\cos{\\frac{\\pi}{8}}|0\\rangle - \\sin{\\frac{\\pi}{8}}|1\\rangle \\tag{6}\n",
    "\\end{align}\n",
    "\n",
    "Now, we look at the case where $|\\psi\\phi\\rangle=|10\\rangle$. In this case, we only apply a Pauli-Z gate. \n",
    "\n",
    "\\begin{align} \\label{eq:third_case}\n",
    "    |\\omega\\rangle=\\cos{\\frac{\\pi}{8}}|0\\rangle + \\sin{\\frac{\\pi}{8}}|1\\rangle \\Zto{} \\cos{\\frac{\\pi}{8}}|0\\rangle - \\sin{\\frac{\\pi}{8}}|1\\rangle \\tag{7}\n",
    "\\end{align}\n",
    "\n",
    "Finally, we look at what happens when $|\\psi\\phi\\rangle=|11\\rangle$. This time, we apply a Pauli-X gate followed by a Pauli-Z gate.\n",
    "\n",
    "\\begin{align} \n",
    "    |\\omega\\rangle=\\sin{\\frac{\\pi}{8}}|0\\rangle + \\cos{\\frac{\\pi}{8}}|1\\rangle &\\Xto{} \\cos{\\frac{\\pi}{8}}|0\\rangle + \\sin{\\frac{\\pi}{8}}|1\\rangle \\\\\n",
    "    &\\Zto{} \\cos{\\frac{\\pi}{8}}|0\\rangle - \\sin{\\frac{\\pi}{8}}|1\\rangle \\label{eq:fourth_case} \\tag{8}\n",
    "\\end{align}\n",
    "\n",
    "At this point, the quantum teleportation protocol is over. $|\\omega\\rangle$ is in the state we showed on \\eqref{eq:prepare_send_state}, meaning that we successfully sent the state from $|\\psi\\rangle$ into $|\\omega\\rangle$. To achieve this, we needed to send two bits of information through classical channels, which allowed us to perform the controlled operations showed in \\eqref{eq:first_case}, \\eqref{eq:second_case}, \\eqref{eq:third_case}, and \\eqref{eq:fourth_case}. It is common to think that this use of classical channels throws away the whole purpose of teleporting a quantum state, but it really doesn't. This classical communication is really the only way of ensuring that we teleport the state successfully; if we didn't apply this step, we would be stuck with one of the four possibilities shown above without the person that has $|\\omega\\rangle$ having a clue about what $|\\psi\\phi\\rangle$ is, therefore this person would only have the intended state $1/4$ of the time.\n",
    "\n",
    "In the circuit shown earlier in this notebook, we apply some additional gates to $|\\omega\\rangle$. This is just a way to ensure that the teleportation protocol was successful when running in IBM's quantum computers. As you can see, this gates are the same that were applied to the state $|\\psi\\rangle$ when preparing it, but backwards (which turns out to be the same in this case). As you may know, quantum computation is reversible, so performing this operations will turn $|\\omega\\rangle$ back to the state $|0\\rangle$ (we are applying the operations shown in \\eqref{eq:prepare_send_state} but in reverse). This makes it easier to measure if the protocol was successful since the computer will measure $|\\omega\\rangle$ to be $|0\\rangle$ with certainty (without taking into account noise of actual quantum hardware). "
   ]
  },
  {
   "cell_type": "code",
   "execution_count": 7,
   "id": "boolean-strip",
   "metadata": {},
   "outputs": [
    {
     "data": {
      "image/png": "[encoded data removed]",
      "text/plain": [
       "<Figure size 504x360 with 1 Axes>"
      ]
     },
     "execution_count": 7,
     "metadata": {},
     "output_type": "execute_result"
    }
   ],
   "source": [
    "backend = Aer.get_backend('qasm_simulator')\n",
    "result  = execute(circ, backend, shots=1024).result()\n",
    "counts  = result.get_counts(circ)\n",
    "\n",
    "plot_histogram(counts)"
   ]
  },
  {
   "cell_type": "markdown",
   "id": "transparent-fundamental",
   "metadata": {},
   "source": [
    "Notice that $|\\omega\\rangle$ is the first bit of the strings included in the histogram above."
   ]
  },
  {
   "cell_type": "markdown",
   "id": "handled-wrist",
   "metadata": {},
   "source": [
    "### Running on hardware\n",
    "\n",
    "Running this circuit on hardware requires some modifications, which makes the circuit look like the following"
   ]
  },
  {
   "cell_type": "code",
   "execution_count": 5,
   "id": "ranging-friend",
   "metadata": {},
   "outputs": [
    {
     "data": {
      "text/html": [
       "<pre style=\"word-wrap: normal;white-space: pre;background: #fff0;line-height: 1.1;font-family: &quot;Courier New&quot;,Courier,monospace\">                         ░      ┌───┐┌─────────┐┌───┐ ░      ┌───┐ ░         »\n",
       "    q_sender: ───────────░──|0>─┤ H ├┤ Rz(π/4) ├┤ H ├─░───■──┤ H ├─░───────■─»\n",
       "              ┌───┐      ░      └───┘└─────────┘└───┘ ░ ┌─┴─┐└───┘ ░       │ »\n",
       " q_ancillary: ┤ H ├──■───░────────────────────────────░─┤ X ├──────░───■───┼─»\n",
       "              └───┘┌─┴─┐ ░                            ░ └───┘      ░ ┌─┴─┐ │ »\n",
       "  q_receiver: ─────┤ X ├─░────────────────────────────░────────────░─┤ X ├─■─»\n",
       "                   └───┘ ░                            ░            ░ └───┘   »\n",
       "c_receiver: 1/═══════════════════════════════════════════════════════════════»\n",
       "                                                                             »\n",
       "«               ░                          \n",
       "«    q_sender: ─░──────────────────────────\n",
       "«               ░                          \n",
       "« q_ancillary: ─░──────────────────────────\n",
       "«               ░ ┌───┐┌──────────┐┌───┐┌─┐\n",
       "«  q_receiver: ─░─┤ H ├┤ Rz(-π/4) ├┤ H ├┤M├\n",
       "«               ░ └───┘└──────────┘└───┘└╥┘\n",
       "«c_receiver: 1/══════════════════════════╩═\n",
       "«                                        0 </pre>"
      ],
      "text/plain": [
       "                         ░      ┌───┐┌─────────┐┌───┐ ░      ┌───┐ ░         »\n",
       "    q_sender: ───────────░──|0>─┤ H ├┤ Rz(π/4) ├┤ H ├─░───■──┤ H ├─░───────■─»\n",
       "              ┌───┐      ░      └───┘└─────────┘└───┘ ░ ┌─┴─┐└───┘ ░       │ »\n",
       " q_ancillary: ┤ H ├──■───░────────────────────────────░─┤ X ├──────░───■───┼─»\n",
       "              └───┘┌─┴─┐ ░                            ░ └───┘      ░ ┌─┴─┐ │ »\n",
       "  q_receiver: ─────┤ X ├─░────────────────────────────░────────────░─┤ X ├─■─»\n",
       "                   └───┘ ░                            ░            ░ └───┘   »\n",
       "c_receiver: 1/═══════════════════════════════════════════════════════════════»\n",
       "                                                                             »\n",
       "«               ░                          \n",
       "«    q_sender: ─░──────────────────────────\n",
       "«               ░                          \n",
       "« q_ancillary: ─░──────────────────────────\n",
       "«               ░ ┌───┐┌──────────┐┌───┐┌─┐\n",
       "«  q_receiver: ─░─┤ H ├┤ Rz(-π/4) ├┤ H ├┤M├\n",
       "«               ░ └───┘└──────────┘└───┘└╥┘\n",
       "«c_receiver: 1/══════════════════════════╩═\n",
       "«                                        0 "
      ]
     },
     "execution_count": 5,
     "metadata": {},
     "output_type": "execute_result"
    }
   ],
   "source": [
    "h_circ = teleportation(hardware = True)\n",
    "h_circ.draw()"
   ]
  },
  {
   "cell_type": "markdown",
   "id": "dangerous-choir",
   "metadata": {},
   "source": [
    "As you can see, the gates that changed are the ones that were conditioned in a classical bit. This types of gates are not available currently in IBM's computers, so we need to change them in order to run the circuit on them. It's quite easy to overcome this difficulty, since we can condition the gates with the corresponding qubits (this time without measuring) and we will get the same result. However, we lose the advantage that we haved where the only connection between the sender and the receiver was at the beggining to split the entangled qubits and afterwards through classical channels. Now, the whole quantum circuit has to be connected. Read more about this [here](https://qiskit.org/textbook/ch-algorithms/teleportation.html#5.-Teleportation-on-a-Real-Quantum-Computer-)."
   ]
  }
 ],
 "metadata": {
  "kernelspec": {
   "display_name": "Python 3 (ipykernel)",
   "language": "python",
   "name": "python3"
  },
  "language_info": {
   "codemirror_mode": {
    "name": "ipython",
    "version": 3
   },
   "file_extension": ".py",
   "mimetype": "text/x-python",
   "name": "python",
   "nbconvert_exporter": "python",
   "pygments_lexer": "ipython3",
   "version": "3.10.6"
  }
 },
 "nbformat": 4,
 "nbformat_minor": 5
}
