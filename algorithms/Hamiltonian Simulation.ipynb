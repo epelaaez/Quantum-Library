{
 "cells": [
  {
   "attachments": {
    "image.png": {
     "image/png": "[encoded data removed]"
    }
   },
   "cell_type": "markdown",
   "id": "5e256027",
   "metadata": {},
   "source": [
    "# Hamiltonian simulation via Trotter decomposition\n",
    "One of the most sought-after applications of quantum computing is the simulation of physical processes, e.g., simulating molecules for drug development and many-body problems. These simulations generally involve taking a Hamiltonian operator $\\hat H$ and a time $t$ which is used to evolve an arbitrary state from $|\\psi\\rangle$ to $e^{i\\hat H t}|\\psi\\rangle$. Creating a circuit that applies the operator $e^{i \\hat H t}$ is not immediately obvious, but we can start off with a two-qubit example. \n",
    "\n",
    "**Simulating $\\sigma_i$ exponentials**\n",
    "\n",
    "Suppose we want to simulate $e^{i \\sigma_z \\otimes \\sigma_z t}$. The circuit to do this is known to be [[1]](https://quantumcomputing.stackexchange.com/a/11373/16092):\n",
    "\n",
    "![image.png](attachment:image.png)\n",
    "\n",
    "where the argument to the rotation gate $R_z$ is $-2t$. \n",
    "\n",
    "Showing that this circuit is equivalent to $e^{i \\sigma_z \\otimes \\sigma_z t}$ is not too hard. Remember that we have the Euler-like decomposition of the operator as $e^{i \\sigma_z \\otimes \\sigma_z t} = \\cos(t) I+ i \\sin(t) \\sigma_z \\otimes \\sigma_z$ (which works since we have that $\\sigma_z^2 = I$). Thus, we have to show that the circuit above simplifies to this same expression. Doing this is a bit long but not hard, as shown below:\n",
    "\n",
    "$$\n",
    "\\begin{align}\n",
    "\\text{CNOT}(I \\otimes e^{i \\sigma_zt})\\text{CNOT} &= \\text{CNOT}\\big[ \\cos(t) I\\otimes I + i \\sin(t) I \\otimes \\sigma_z \\big]\\big[|0\\rangle \\langle 0 | \\otimes I + |1\\rangle \\langle 1 | \\otimes \\sigma_x \\big] \\\\\n",
    "&=\\text{CNOT}\\big[ \\cos(t)|0\\rangle\\langle0|\\otimes I+\\cos(t)|1\\rangle\\langle1| \\otimes \\sigma_x + i\\sin(t)|0\\rangle\\langle0|\\otimes\\sigma_z+ i\\sin(t)|1\\rangle\\langle1|\\otimes\\sigma_z\\sigma_x \\big] \\\\\n",
    "&= \\cos(t)|0\\rangle\\langle0|\\otimes I + \\cos(t)|1\\rangle\\langle1|\\otimes I + i\\sin(t)|0\\rangle\\langle0|\\otimes\\sigma_z+i\\sin(t)|1\\rangle\\langle1|\\otimes\\sigma_x\\sigma_z\\sigma_x \\\\\n",
    "&= \\cos(t) I+i \\sin(t)\\big[|0\\rangle\\langle0|\\otimes\\sigma_z-|1\\rangle\\langle1|\\otimes\\sigma_z\\big] \\qquad (\\text{since }\\sigma_x\\sigma_z\\sigma_x=-\\sigma_z) \\\\\n",
    "&= \\cos(t) I+i \\sin(t)\\big[(|0\\rangle\\langle0| - |1\\rangle\\langle1|) \\otimes\\sigma_z\\big] \\\\\n",
    "&= \\cos(t) I + i \\sin(t) \\sigma_z \\otimes \\sigma_z \\qquad (\\text{since } \\sigma_z = |0\\rangle\\langle0| - |1\\rangle\\langle1|)\n",
    "\\end{align}\n",
    "$$\n",
    "\n",
    "This can easily be extended to any number of qubits, i.e., $e^{i \\sigma_z \\otimes \\sigma_z \\otimes \\cdots \\otimes \\sigma_z t}$ [[3]](https://www.tandfonline.com/doi/abs/10.1080/00268976.2011.552441). Now, what happens if we have a Pauli matrix that is not $\\sigma_z$ in the exponent? Well, just apply a self-inverse gate $U$ before and after the chain of $CX$s such that $\\sigma_k = U\\sigma_zU$, where $k \\in \\{x, y\\}$. This gate would be the Hadamard gate for $\\sigma_x$ and $\\frac{1}{\\sqrt{2}} \\begin{bmatrix} 1 & -i \\\\ i & -1 \\end{bmatrix}$ for $\\sigma_y$. And if its the identity, you can just leave that qubit unaffected!\n",
    "\n",
    "**Simulating general exponentials**\n",
    "\n",
    "But this just tells us how to simulate Pauli strings, and we may not be given the Hamiltonian $\\hat H$ on this form. However, it is a fact that for any matrix $A$ with its dimension being a power of $2$ (which would be the case here since we are working with qubits), there exists some decomposition into a Pauli string of the following form [[2]](https://quantumcomputing.stackexchange.com/a/8726/16092):\n",
    "\n",
    "$$ A =\\sum_{i,j,k,l}h_{ijkl}\\cdot \\frac{1}{4}\\sigma_i\\otimes\\sigma_j\\otimes\\sigma_k\\otimes\\sigma_l $$\n",
    "where\n",
    "$$ h_{ijkl} = \\frac{1}{4}\\text{Tr}\\big((\\sigma_i\\otimes\\sigma_j\\otimes\\sigma_k\\otimes\\sigma_l) \\cdot A\\big) $$\n",
    "\n",
    "Thus, knowing how to simulate Pauli strings, we can basically simulate any Hamiltonian $H$. Using the Pauli string of a Hamiltonian, we can construct the Trotter decomposition for which we can create a circuit based off the simple circuit we saw above. The Trotter decomposition looks as follows:\n",
    "\n",
    "$$e^{i\\hat Ht} \\approx \\big(\\prod_k e^{i c_k P_k t/N }\\big)^{N},$$\n",
    "\n",
    "where $P_k$ is a tensor product of Pauli matrices, $c_k$ the coefficient corresponding to each $P_k$, $t$ the time introduced at the beggining, and $N$ a number called the Trotter number. The bigger $N$ is, the more accurate our simulation is. The specifics of Trotter decomposition are out of the scope of this brief notebook, but a good start is chapter 4.1 of [[3]](https://www.tandfonline.com/doi/abs/10.1080/00268976.2011.552441).\n",
    "\n",
    "**Qiskit implementation**\n",
    "\n",
    "With this background in place, we can start implementing the simulation in Qiskit. First we are going to define a simple function that creates the circuit scheme introduced at the beggining for operators of the form $e^{i \\sigma_z \\otimes \\sigma_z \\otimes \\cdots \\otimes \\sigma_z t}$."
   ]
  },
  {
   "cell_type": "code",
   "execution_count": 1,
   "id": "ee033d63",
   "metadata": {},
   "outputs": [],
   "source": [
    "from qiskit import QuantumCircuit\n",
    "import numpy as np\n",
    "\n",
    "def sim_z(t, qc, qubits):\n",
    "    \"\"\"\n",
    "    Add gates to simulate a Pauli Z string exponential\n",
    "   \n",
    "    Parameters:\n",
    "        t: float\n",
    "            Time parameter to simulate for\n",
    "        qc: QuantumCircuit\n",
    "            Circuit to append gates to\n",
    "        qubits: array\n",
    "            Array indicating qubits indeces (in order) to \n",
    "            append the gates to\n",
    "    \"\"\"\n",
    "    for i in range(len(qubits) - 1):\n",
    "        qc.cx(qubits[i], qubits[i + 1])\n",
    "    qc.rz(-2 * t, qubits[-1])\n",
    "    for i in range(len(qubits) - 1, 0, -1):\n",
    "        qc.cx(qubits[i - 1], qubits[i])"
   ]
  },
  {
   "cell_type": "markdown",
   "id": "56b8be4d",
   "metadata": {},
   "source": [
    "Using this, we can clearly picture the basic component of the simulation. "
   ]
  },
  {
   "cell_type": "code",
   "execution_count": 2,
   "id": "3e09dd1c",
   "metadata": {},
   "outputs": [
    {
     "data": {
      "text/html": [
       "<pre style=\"word-wrap: normal;white-space: pre;background: #fff0;line-height: 1.1;font-family: &quot;Courier New&quot;,Courier,monospace\">                                    \n",
       "q_0: ──■─────────────────────────■──\n",
       "     ┌─┴─┐                     ┌─┴─┐\n",
       "q_1: ┤ X ├──■───────────────■──┤ X ├\n",
       "     └───┘┌─┴─┐┌─────────┐┌─┴─┐└───┘\n",
       "q_2: ─────┤ X ├┤ Rz(-2π) ├┤ X ├─────\n",
       "          └───┘└─────────┘└───┘     </pre>"
      ],
      "text/plain": [
       "                                    \n",
       "q_0: ──■─────────────────────────■──\n",
       "     ┌─┴─┐                     ┌─┴─┐\n",
       "q_1: ┤ X ├──■───────────────■──┤ X ├\n",
       "     └───┘┌─┴─┐┌─────────┐┌─┴─┐└───┘\n",
       "q_2: ─────┤ X ├┤ Rz(-2π) ├┤ X ├─────\n",
       "          └───┘└─────────┘└───┘     "
      ]
     },
     "execution_count": 2,
     "metadata": {},
     "output_type": "execute_result"
    }
   ],
   "source": [
    "qc = QuantumCircuit(3)\n",
    "sim_z(np.pi, qc, [0, 1, 2])\n",
    "qc.draw()"
   ]
  },
  {
   "cell_type": "markdown",
   "id": "9b654bc3",
   "metadata": {},
   "source": [
    "Now, we can expand this so we can simulate any Pauli string."
   ]
  },
  {
   "cell_type": "code",
   "execution_count": 3,
   "id": "88abacf3",
   "metadata": {},
   "outputs": [],
   "source": [
    "def sim_pauli(arr, t, qc, qubits):\n",
    "    \"\"\"\n",
    "    Append gates to simulate any Pauli string\n",
    "    \n",
    "    Parameters:\n",
    "        arr: array\n",
    "            Array encoding the Pauli string\n",
    "        t: float\n",
    "            Time parameter to simulate for\n",
    "        qc: QuantumCircuit\n",
    "            Circuit to append gates to\n",
    "        qubits: array\n",
    "            Array indicating qubits indeces (in order) to \n",
    "            append the gates to\n",
    "    \"\"\"\n",
    "    new_arr = []\n",
    "    new_qub = []\n",
    "    for idx in range(len(arr)):\n",
    "        if arr[idx] != 'I':\n",
    "            new_arr.append(arr[idx])\n",
    "            new_qub.append(qubits[idx])\n",
    "\n",
    "    h_y = 1 / np.sqrt(2) * np.array([[1, -1j], [1j, -1]])\n",
    "    for i in range(len(new_arr)):\n",
    "        if new_arr[i] == 'X':\n",
    "            qc.h(new_qub[i])\n",
    "        elif new_arr[i] == 'Y':\n",
    "            qc.unitary(h_y, [new_qub[i]], r'$H_y$')\n",
    "            \n",
    "    sim_z(t, qc, new_qub)\n",
    "    \n",
    "    for i in range(len(new_arr)):\n",
    "        if new_arr[i] == 'X':\n",
    "            qc.h(new_qub[i])\n",
    "        elif new_arr[i] == 'Y':\n",
    "            qc.unitary(h_y, [new_qub[i]], r'$H_y$')"
   ]
  },
  {
   "cell_type": "markdown",
   "id": "7de4f752",
   "metadata": {},
   "source": [
    "And finally, we write a small function that takes in a Hamiltonian $\\hat H$ as its Trotter decomposition and simulates it in a given quantum circuit. "
   ]
  },
  {
   "cell_type": "code",
   "execution_count": 4,
   "id": "b9f204bc",
   "metadata": {},
   "outputs": [],
   "source": [
    "def sim_ham(hamiltonian, t, qc, qubits, trotter=1):\n",
    "    \"\"\"\n",
    "    Simulates Hamiltonian given as Pauli string\n",
    "    \n",
    "    Parameters:\n",
    "        hamiltonian: dict\n",
    "            Dictionary encoding the hamiltonian with each\n",
    "            Pauli product as a key with the coefficient as value\n",
    "        t: float\n",
    "            Time parameter to simulate for\n",
    "        qc: QuantumCircuit\n",
    "            Circuit to append gates to\n",
    "        qubits: array\n",
    "            Array indicating qubits indeces (in order) to \n",
    "            append the gates to\n",
    "        \n",
    "    \"\"\"\n",
    "    temp    = QuantumCircuit(len(qubits))\n",
    "    delta_t = t / trotter\n",
    "    for pauli in hamiltonian:\n",
    "        sim_pauli(pauli, hamiltonian[pauli] * delta_t, temp, range(len(qubits)))\n",
    "        \n",
    "    for i in range(trotter):\n",
    "        qc.compose(temp, qubits, inplace=True)"
   ]
  },
  {
   "cell_type": "markdown",
   "id": "28844433",
   "metadata": {},
   "source": [
    "Analyzing this function, we can see that it basically resembles this formula that we introduced in the background:\n",
    "\n",
    "$$ e^{i\\hat Ht} \\approx \\big(\\prod_k e^{i c_k P_k t/N }\\big)^{N} $$\n",
    "\n",
    "First, we see that `delta_t` corresponds to $t / N$. Then, for each Pauli term in the Pauli string representing the Hamiltonian (the first loop corresponds to the product $\\prod_k$, since consecutive gates correspond to matrix multiplication), we call our function `sim_pauli` that adds the corresponding gates, using `time = hamiltonian[pauli] * delta_t`, which corresponds to $c_k t/n$ in the formula. Finally, we simply append the resulting circuit $N$ times in the second loop, which resembles the exponentiation.\n",
    "\n",
    "**Comparing to exact calculation**\n",
    "\n",
    "To wrap everything up, we can see how our simulation circuit compares to directly computing $e^{i \\hat H t}|\\psi\\rangle$. Here, we test this with the Hamiltonian $\\hat H = 2 XZY + 5 ZXX + 2 YXZ$, time $\\frac{1}{2 * \\pi}$ and $N = 50$, which gives us high accuracy. First, we will create the quantum circuit that simulates this and extract the resulting statevector."
   ]
  },
  {
   "cell_type": "code",
   "execution_count": 5,
   "id": "5903f68b",
   "metadata": {},
   "outputs": [
    {
     "data": {
      "text/html": [
       "<pre style=\"word-wrap: normal;white-space: pre;background: #fff0;line-height: 1.1;font-family: &quot;Courier New&quot;,Courier,monospace\">     ┌───────┐     ┌───┐┌──────────┐┌───┐┌───────┐┌───┐     ┌───┐┌──────────┐»\n",
       "q_0: ┤ $H_y$ ├─────┤ X ├┤ Rz(-2/π) ├┤ X ├┤ $H_y$ ├┤ H ├─────┤ X ├┤ Rz(-5/π) ├»\n",
       "     └───────┘┌───┐└─┬─┘└──────────┘└─┬─┘└─┬───┬─┘├───┤┌───┐└─┬─┘└──────────┘»\n",
       "q_1: ─────────┤ X ├──■────────────────■────┤ X ├──┤ H ├┤ X ├──■──────────────»\n",
       "       ┌───┐  └─┬─┘                        └─┬─┘  ├───┤└─┬─┘                 »\n",
       "q_2: ──┤ H ├────■────────────────────────────■────┤ H ├──■───────────────────»\n",
       "       └───┘                                      └───┘                      »\n",
       "«     ┌───┐┌───┐                   ┌───┐┌──────────┐┌───┐              \n",
       "«q_0: ┤ X ├┤ H ├───────────────────┤ X ├┤ Rz(-2/π) ├┤ X ├──────────────\n",
       "«     └─┬─┘├───┤  ┌───┐  ┌───┐┌───┐└─┬─┘└──────────┘└─┬─┘┌───┐  ┌───┐  \n",
       "«q_1: ──■──┤ X ├──┤ H ├──┤ H ├┤ X ├──■────────────────■──┤ X ├──┤ H ├──\n",
       "«          └─┬─┘┌─┴───┴─┐└───┘└─┬─┘                      └─┬─┘┌─┴───┴─┐\n",
       "«q_2: ───────■──┤ $H_y$ ├───────■──────────────────────────■──┤ $H_y$ ├\n",
       "«               └───────┘                                     └───────┘</pre>"
      ],
      "text/plain": [
       "     ┌───────┐     ┌───┐┌──────────┐┌───┐┌───────┐┌───┐     ┌───┐┌──────────┐»\n",
       "q_0: ┤ $H_y$ ├─────┤ X ├┤ Rz(-2/π) ├┤ X ├┤ $H_y$ ├┤ H ├─────┤ X ├┤ Rz(-5/π) ├»\n",
       "     └───────┘┌───┐└─┬─┘└──────────┘└─┬─┘└─┬───┬─┘├───┤┌───┐└─┬─┘└──────────┘»\n",
       "q_1: ─────────┤ X ├──■────────────────■────┤ X ├──┤ H ├┤ X ├──■──────────────»\n",
       "       ┌───┐  └─┬─┘                        └─┬─┘  ├───┤└─┬─┘                 »\n",
       "q_2: ──┤ H ├────■────────────────────────────■────┤ H ├──■───────────────────»\n",
       "       └───┘                                      └───┘                      »\n",
       "«     ┌───┐┌───┐                   ┌───┐┌──────────┐┌───┐              \n",
       "«q_0: ┤ X ├┤ H ├───────────────────┤ X ├┤ Rz(-2/π) ├┤ X ├──────────────\n",
       "«     └─┬─┘├───┤  ┌───┐  ┌───┐┌───┐└─┬─┘└──────────┘└─┬─┘┌───┐  ┌───┐  \n",
       "«q_1: ──■──┤ X ├──┤ H ├──┤ H ├┤ X ├──■────────────────■──┤ X ├──┤ H ├──\n",
       "«          └─┬─┘┌─┴───┴─┐└───┘└─┬─┘                      └─┬─┘┌─┴───┴─┐\n",
       "«q_2: ───────■──┤ $H_y$ ├───────■──────────────────────────■──┤ $H_y$ ├\n",
       "«               └───────┘                                     └───────┘"
      ]
     },
     "execution_count": 5,
     "metadata": {},
     "output_type": "execute_result"
    }
   ],
   "source": [
    "qc = QuantumCircuit(3)\n",
    "sim_ham({\"XZY\": 2, \"ZXX\": 5, \"YXZ\": 2}, 1 / (2 * np.pi), qc, [0, 1, 2], trotter=1) \n",
    "qc = qc.reverse_bits() # reverse because of Qiskit's endianness\n",
    "qc.draw()"
   ]
  },
  {
   "cell_type": "markdown",
   "id": "7ad3d0ce-c645-41c3-b715-f28ab563d216",
   "metadata": {},
   "source": [
    "For illustration purposes, the circuit above has $N=1$, but we will set it to $N=50$ when actually sending the circuit to the simulator."
   ]
  },
  {
   "cell_type": "code",
   "execution_count": 9,
   "id": "9fd5b0c4",
   "metadata": {},
   "outputs": [
    {
     "data": {
      "text/latex": [
       "$\\displaystyle \\left[\\begin{matrix}0.62069\\\\0\\\\0\\\\0.0279 + 0.66576 i\\\\0\\\\-0.26743 + 0.23046 i\\\\-0.21432 + 0.01279 i\\\\0\\end{matrix}\\right]$"
      ],
      "text/plain": [
       "Matrix([\n",
       "[             0.62069],\n",
       "[                   0],\n",
       "[                   0],\n",
       "[  0.0279 + 0.66576*I],\n",
       "[                   0],\n",
       "[-0.26743 + 0.23046*I],\n",
       "[-0.21432 + 0.01279*I],\n",
       "[                   0]])"
      ]
     },
     "execution_count": 9,
     "metadata": {},
     "output_type": "execute_result"
    }
   ],
   "source": [
    "from qiskit import Aer, execute\n",
    "from sympy import Matrix\n",
    "\n",
    "qc = QuantumCircuit(3)\n",
    "sim_ham({\"XZY\": 2, \"ZXX\": 5, \"YXZ\": 2}, 1 / (2 * np.pi), qc, [0, 1, 2], trotter=50)\n",
    "qc = qc.reverse_bits()\n",
    "\n",
    "backend = Aer.get_backend('statevector_simulator')\n",
    "result  = execute(qc, backend).result()\n",
    "vec     = result.get_statevector()\n",
    "vec     = vec / vec[0] # global phase\n",
    "qvec    = vec / np.linalg.norm(vec) # normalize\n",
    "Matrix(np.round(qvec, 5))"
   ]
  },
  {
   "cell_type": "markdown",
   "id": "3ea1eca6",
   "metadata": {},
   "source": [
    "Note that here we used the `statevector_simulator` to directly extract the statevector. When using a real device, we would need to use state tomography (or a similar procedure) if we want to directly know the statevector. Now that we have our result with a quantum circuit, we can directly compute the expected result and compare. This is relatively simple, but a few comments are left in the following cell to clear any doubts.  "
   ]
  },
  {
   "cell_type": "code",
   "execution_count": 7,
   "id": "cb7f7ebd",
   "metadata": {},
   "outputs": [
    {
     "data": {
      "text/latex": [
       "$\\displaystyle \\left[\\begin{matrix}0.62068\\\\0\\\\0\\\\0.02652 + 0.66582 i\\\\0\\\\-0.26746 + 0.23046 i\\\\-0.21449 + 0.00854 i\\\\0\\end{matrix}\\right]$"
      ],
      "text/plain": [
       "Matrix([\n",
       "[             0.62068],\n",
       "[                   0],\n",
       "[                   0],\n",
       "[ 0.02652 + 0.66582*I],\n",
       "[                   0],\n",
       "[-0.26746 + 0.23046*I],\n",
       "[-0.21449 + 0.00854*I],\n",
       "[                   0]])"
      ]
     },
     "execution_count": 7,
     "metadata": {},
     "output_type": "execute_result"
    }
   ],
   "source": [
    "import scipy\n",
    "\n",
    "# Start with |0> state\n",
    "start    = np.zeros(2 ** 3)\n",
    "start[0] = 1\n",
    "\n",
    "# Get the matrix corresponding to some Pauli product\n",
    "# This function can be optimized, but it is left as it\n",
    "# is for clarity purposes\n",
    "def get_pauli(string):\n",
    "    init   = string[0]\n",
    "    string = string[1:]\n",
    "    if init == 'X':\n",
    "        out = np.array([[0, 1], [1, 0]])\n",
    "    elif init == 'Z':\n",
    "        out = np.array([[1, 0], [0, -1]])\n",
    "    elif init == 'Y':\n",
    "        out = np.array([[0, -1j], [1j, 0]])\n",
    "    else:\n",
    "        out = np.eye(2)\n",
    "    \n",
    "    for p in string:\n",
    "        if p == 'X':\n",
    "            out = np.kron(out, np.array([[0, 1], [1, 0]]))\n",
    "        elif p == 'Z':\n",
    "            out = np.kron(out, np.array([[1, 0], [0, -1]]))\n",
    "        elif p == 'Y':\n",
    "            out = np.kron(out, np.array([[0, -1j], [1j, 0]]))\n",
    "        else:\n",
    "            out = np.kron(out, np.eye(2))\n",
    "\n",
    "    return out\n",
    "\n",
    "# Hamiltonian is calculated from the Pauli decomposition\n",
    "decomp = {\"XZY\": 2, \"ZXX\": 5, \"YXZ\": 2}\n",
    "H      = np.zeros((2 ** 3, 2 ** 3))\n",
    "H      = H.astype('complex128')\n",
    "for pauli in decomp:\n",
    "    H += decomp[pauli] * get_pauli(pauli)\n",
    "    \n",
    "# Hamiltonian is exponentiated and we multiply the starting\n",
    "# vector by it to get our result\n",
    "simul  = scipy.linalg.expm(1j * H * (1 / (2 * np.pi)))\n",
    "vec    = simul @ start\n",
    "vec    = vec / vec[0] # global phase\n",
    "cvec   = vec / np.linalg.norm(vec) # normalize\n",
    "Matrix(np.round(cvec, 5))"
   ]
  },
  {
   "cell_type": "markdown",
   "id": "21b4480e",
   "metadata": {},
   "source": [
    "By simply comparing the two vectors, we can say that our simulation was pretty accurate! As a more mathematically rigorous comparison, we can use state fidelity, which also shows us that our simulation is pretty good!"
   ]
  },
  {
   "cell_type": "code",
   "execution_count": 8,
   "id": "57927828",
   "metadata": {},
   "outputs": [
    {
     "data": {
      "text/plain": [
       "0.9999834345555809"
      ]
     },
     "execution_count": 8,
     "metadata": {},
     "output_type": "execute_result"
    }
   ],
   "source": [
    "from qiskit.quantum_info import state_fidelity\n",
    "\n",
    "state_fidelity(qvec, cvec)"
   ]
  },
  {
   "cell_type": "markdown",
   "id": "bacb0e57",
   "metadata": {},
   "source": [
    "**References**:\n",
    "- [[1]](https://quantumcomputing.stackexchange.com/a/11373/16092) An approach for Hamiltonian simulation by Davit Khachatryan on Quantum Computing StackExchange.\n",
    "- [[2]](https://quantumcomputing.stackexchange.com/a/8726/16092) Can arbitrary matrices be decomposed using the Pauli basis? by Danylo Y on Quantum Computing StackExchange.\n",
    "- [[3]](https://www.tandfonline.com/doi/abs/10.1080/00268976.2011.552441) Simulation of electronic structure Hamiltonians using quantum computers by James D. Whitfield ,Jacob Biamonte and Alán Aspuru-Guzik."
   ]
  }
 ],
 "metadata": {
  "kernelspec": {
   "display_name": "Python 3 (ipykernel)",
   "language": "python",
   "name": "python3"
  },
  "language_info": {
   "codemirror_mode": {
    "name": "ipython",
    "version": 3
   },
   "file_extension": ".py",
   "mimetype": "text/x-python",
   "name": "python",
   "nbconvert_exporter": "python",
   "pygments_lexer": "ipython3",
   "version": "3.10.6"
  },
  "widgets": {
   "application/vnd.jupyter.widget-state+json": {
    "state": {},
    "version_major": 2,
    "version_minor": 0
   }
  }
 },
 "nbformat": 4,
 "nbformat_minor": 5
}
