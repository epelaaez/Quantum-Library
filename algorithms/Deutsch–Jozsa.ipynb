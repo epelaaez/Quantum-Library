{
 "cells": [
  {
   "cell_type": "markdown",
   "id": "5ae34246-de19-4561-80f1-bcffc51495f9",
   "metadata": {},
   "source": [
    "## Imports"
   ]
  },
  {
   "cell_type": "code",
   "execution_count": 1,
   "id": "alive-anger",
   "metadata": {},
   "outputs": [],
   "source": [
    "import config\n",
    "import random\n",
    "from qiskit import QuantumRegister, ClassicalRegister, QuantumCircuit, IBMQ, Aer, execute\n",
    "from qiskit.visualization import plot_histogram\n",
    "from qiskit.providers.ibmq import least_busy"
   ]
  },
  {
   "cell_type": "markdown",
   "id": "capable-greensboro",
   "metadata": {},
   "source": [
    "# Deutsch–Jozsa"
   ]
  },
  {
   "cell_type": "markdown",
   "id": "toxic-actress",
   "metadata": {},
   "source": [
    "The Deutsch-Jozsa algorithm was proposed by David Deutsch and Richard Jozsa (hence the name) in 1992; it marked a very important step for the field of quantum computing since it was the first example of how a quantum computer performs a task exponentially faster than any classical computer. More specifically, for an $n$-bit input, the classical algorithm has time complexity $\\newcommand{\\bigO}{\\mathcal{O}}$$\\bigO(2^n)$, while Deutsch-Jozsa algorithm has constant time complexity, i.e. $\\bigO(1)$.\n",
    "\n",
    "**The problem**\n",
    "\n",
    "Given an unknown Boolean function $f$, which takes as input a string of 0's and 1's and returns either a 0 or 1. We know $f$ is either balanced (returns 0 for half the input and 1 for the other half) or constant (returns either 0 or 1 for all inputs) and our task is to determine which one it is. Mathematically written, our function is $f:\\{0,1\\}^n \\rightarrow{} \\{0,1\\}$, meaning that it maps a $n$-bit string to 0 or 1.\n",
    "\n",
    "**The oracle**\n",
    "\n",
    "To implement $f$ in our quantum circuit, we are going to use an oracle. (An oracle is a \"blackbox\" that performs a certain operation without letting the rest of the circuit what's going on inside it.) Of course, we need to implement this oracle ourselves so we are going to know what is going inside it. \n",
    "\n",
    "**Note**: we will implement the Deutsch-Jozsa algorithm first with $n=1$ (called Deutsch's algorithm), go through it and at the end we will provide the generalization for any $n$.\n",
    "\n",
    "To start, we are going to implement the oracle we need for this algorithm. We will make one function called `dj_oracle()` which takes two arguments:\n",
    "- Oracle: 0 for a balanced oracle and 1 for a constant oracle (as defined above).\n",
    "- Choice: for a balanced oracle, 0 will make the output the same as the input (i.e. $f(x)=x$) and 1 will make the output the opposite of the input (i.e. $f(x)=\\lnot x$). For a constant oracle, 0 will make the output always 0 (i.e. $f(x)=0$) and the same for 1.\n",
    "\n",
    "The code to make these oracles is the following:"
   ]
  },
  {
   "cell_type": "code",
   "execution_count": 2,
   "id": "apart-eleven",
   "metadata": {},
   "outputs": [],
   "source": [
    "def d_oracle(qc, oracle, choice):\n",
    "    \"\"\"\n",
    "    Add oracle for Deutsch's algoritm, in the form of a gate, to quantum circuit.\n",
    "    \n",
    "    Parameters:\n",
    "    -----------\n",
    "    qc: QuantumCircuit\n",
    "        Quantum circuit with 2 qubits.\n",
    "    oracle: int\n",
    "        Type of oracle. 0 for balanced and 1 for constant.\n",
    "    choice: int\n",
    "        Choice of oracle type. For a balanced oracle, 0 will make f(x)=x and 1 will make f(x)=¬x. \n",
    "        For a constant oracle, 0 will make f(x)=0 and 1 will make f(x)=1.\n",
    "        \n",
    "    Returns:\n",
    "    --------\n",
    "    qc: QuantumCircuit\n",
    "        Quantum circuit with Deutsch's algorithm oracle added at the end.\n",
    "    \"\"\"\n",
    "    qreg           = QuantumRegister(2, 'q')\n",
    "    oracle_circuit = QuantumCircuit(qreg, name='$U_f$')\n",
    "    \n",
    "    # Balanced oracle\n",
    "    if oracle == 0:\n",
    "        if choice == 0:\n",
    "            oracle_circuit.cx(0, 1)\n",
    "        elif choice == 1:\n",
    "            oracle_circuit.cx(0, 1)\n",
    "            oracle_circuit.x(1)\n",
    "            \n",
    "    # Constant oracle\n",
    "    elif oracle == 1:\n",
    "        if choice == 0:\n",
    "            pass # qubit is already initialized to 0\n",
    "        elif choice == 1:\n",
    "            oracle_circuit.x(1)\n",
    "    \n",
    "    # Turn oracle into single gate and append to qc\n",
    "    oracle_gate = oracle_circuit.to_gate()\n",
    "    qc.append(oracle_gate, [0, 1])\n",
    "    \n",
    "    return qc"
   ]
  },
  {
   "cell_type": "markdown",
   "id": "foster-leone",
   "metadata": {},
   "source": [
    "Before going into each possible oracle, it is important to note that due to the requirement of quantum computation that all circuits are reversible, we cannot make our oracle lose any information of the inputs. Therefore, our oracle $U_f$ will take an input $|x\\rangle|y\\rangle$ and map it to an output $|x\\rangle|y \\oplus f(x)\\rangle$. In our implementation of the oracle, we will take $|y\\rangle=|0\\rangle$ to be the input, therefore we can simplify the action that $U_f$ takes to mapping $|x\\rangle|0\\rangle$ to $|x\\rangle|f(x)\\rangle$.\n",
    "\n",
    "Now we can start going through our different oracles.\n",
    "- Constant 0 oracle. As you can see in the function above, no gates are appended to the circuit. This is because $|y\\rangle$ is already $|0\\rangle$, therefore we don't need to apply any more gates.\n",
    "- Constant 1 oracle. We just append an $\\textbf{X}$ gate to $|y\\rangle$. Since we know that $\\textbf{X}: |0\\rangle \\rightarrow |1\\rangle$, this gate is sufficient to make our oracle always output $|1\\rangle$.\n",
    "- Balanced 0 oracle. Remember that this will make $U_f: |x\\rangle|0\\rangle \\rightarrow |x\\rangle|x\\rangle$. To make this oracle, we just apply a $\\textbf{CX}$ gate with control qubit $|x\\rangle$ and target qubit $|y\\rangle$. Therefore, if $|x\\rangle=|0\\rangle$ no gate will be applied to $|y\\rangle$ and it will stay in the $|0\\rangle$ state. If $|x\\rangle=|1\\rangle$, an $\\textbf{X}$ gate will be applied to $|y\\rangle$ transforming it into state $|1\\rangle$; these two cases satisfy the behavior we wanted.\n",
    "- Balanced 1 oracle. Remember that this will make $U_f: |x\\rangle|0\\rangle \\rightarrow |x\\rangle|\\lnot x\\rangle$. Therefore, we can apply the gate from the previous oracle and then apply an $\\textbf{X}$ gate to $|y\\rangle$ to make it the opposite of $x$. \n",
    "\n",
    "With our oracle function, we can know build Deutsch's algorithm circuit that will make use of this oracle. The function used to build this circuit is the following:"
   ]
  },
  {
   "cell_type": "code",
   "execution_count": 3,
   "id": "civilian-therapist",
   "metadata": {},
   "outputs": [],
   "source": [
    "def deutsch(oracle = None, choice = None):\n",
    "    \"\"\"\n",
    "    Create quantum circuit implementing Deutsch's algorithm.\n",
    "    \n",
    "    Parameters:\n",
    "    -----------\n",
    "    oracle: int\n",
    "        Type of oracle. 0 for balanced and 1 for constant.\n",
    "    choice: int\n",
    "        Choice of oracle type. For a balanced oracle, 0 will make f(x)=x and 1 will make f(x)=¬x. \n",
    "        For a constant oracle, 0 will make f(x)=0 and 1 will make f(x)=1.\n",
    "        \n",
    "    NOTE: if any parameter is set to none (default), the value will be randomized.    \n",
    "    \n",
    "    Returns:\n",
    "    --------\n",
    "    qc: QuantumCircuit\n",
    "        Quantum circuit implementing Deutsch's algorithm.\n",
    "    \"\"\"\n",
    "    # Randomize oracle and choice if not given\n",
    "    if oracle == None:\n",
    "        oracle = random.randint(0, 1)\n",
    "    if choice == None:\n",
    "        choice = random.randint(0, 1)\n",
    "    \n",
    "    qreg = QuantumRegister(2, 'q')\n",
    "    creg = ClassicalRegister(1, 'c')\n",
    "    qc   = QuantumCircuit(qreg, creg)\n",
    "    \n",
    "    # Prepare initial state\n",
    "    qc.x(qreg[1])\n",
    "    \n",
    "    qc.barrier()\n",
    "    \n",
    "    # Put into superpusition\n",
    "    qc.h(qreg)\n",
    "    \n",
    "    qc.barrier()\n",
    "    \n",
    "    # Add oracle\n",
    "    d_oracle(qc, oracle, choice)\n",
    "    \n",
    "    qc.barrier()\n",
    "    \n",
    "    # Apply interference\n",
    "    qc.h(qreg[0])\n",
    "    \n",
    "    qc.barrier()\n",
    "    \n",
    "    # Measure first qubit\n",
    "    qc.measure(qreg[0], creg)\n",
    "    \n",
    "    # Return circuit\n",
    "    return qc"
   ]
  },
  {
   "cell_type": "markdown",
   "id": "beautiful-quick",
   "metadata": {},
   "source": [
    "The first thing our circuit does is apply an $\\textbf{X}$ gate to our second qubit, which takes it to the $|1\\rangle$ state (remember that all qubits at the beggining of a qiskit circuit are in state $|0\\rangle$). This is going to be useful later on in the cirquit.\n",
    "\n",
    "The next thing in our circuit is the one-qubit Quantum Fourier Transform (QFT); which is just a normal Hadamard gate. This will take the current state of our circtui, $|0\\rangle\\otimes|1\\rangle$ to \n",
    "$$\\frac{1}{2}\\cdot\\left(|0\\rangle+|1\\rangle\\right)\\otimes\\left(|0\\rangle-|1\\rangle\\right),$$\n",
    "which will then go through the oracle we prepared previously.\n",
    "\n",
    "Remember that our oracle $U_f$ will take a two qubit state $|x\\rangle|y\\rangle$ to $|x\\rangle|y \\oplus f(x)\\rangle$. (While constructing the oracles we had in mind an output of the type $|x\\rangle|0\\rangle$, but this was just to facilitate the construction, the oracle works fine with other inputs.) Therefore, our oracle will turn the current state into \n",
    "$$ \\frac{1}{2}\\cdot\\left(|0\\rangle+|1\\rangle\\right)\\otimes\\left(|0 \\oplus f(x)\\rangle-|1 \\oplus f(x)\\rangle\\right),$$\n",
    "however, this doesn't helps us very much to solve our problem. Let's look at this state from another perspective.\n",
    "\n",
    "Imagine that $f(x)=0$, this will make our state remain in the state it was before passing throught $U_f$. Now imagine that $f(x)=1$, this will make the second qubit change its signs and turn into $|1\\rangle-|0\\rangle$ (normalized). With this in mind, we can write the state above as\n",
    "$$ \\frac{1}{2}\\cdot (-1)^{f(x)} \\left(|0\\rangle+|1\\rangle\\right)\\otimes\\left(|0\\rangle-|1\\rangle\\right).$$\n",
    "This is much more helpful to solve our problem. Remember that in this case $x$ is our first qubit, and therefore $|0\\rangle+|1\\rangle$ (normalized). This means that $f(x)$ in the equation above will be evaluated for both $f(0)$ and $f(1)$. Thus, we have the following cases:\n",
    "- If $f(1)=f(0)$, which means that the oracle is constant, we will have either $(-1)(-1)$ or no $-1$ at all. Therefore, the state will not change.\n",
    "- If $f(1)\\not=f(0)$, which means that the oracle is balanced, we will have one $-1$. Therefore, the state will receive a relative phase of $-1$.\n",
    "\n",
    "We will now focus only on the first qubit and the $H$ gate applied to it after the oracle.\n",
    "- If the oracle is constant, the first qubit will be in state $|0\\rangle+|1\\rangle$ (normalized) and the Hadamard gate will take it to the $|0\\rangle$ state. \n",
    "- If the oracle is balanced, the first qubit will be in state $|0\\rangle-|1\\rangle$ (normalized) and the Hadamard gate will take it to the $|1\\rangle$ state. \n",
    "\n",
    "Then, we just measure our first qubit. Let's see how the whole circuit looks like."
   ]
  },
  {
   "cell_type": "code",
   "execution_count": 4,
   "id": "contrary-coupon",
   "metadata": {},
   "outputs": [
    {
     "data": {
      "text/html": [
       "<pre style=\"word-wrap: normal;white-space: pre;background: #fff0;line-height: 1.1;font-family: &quot;Courier New&quot;,Courier,monospace\">           ░ ┌───┐ ░ ┌────────┐ ░ ┌───┐ ░ ┌─┐\n",
       "q_0: ──────░─┤ H ├─░─┤0       ├─░─┤ H ├─░─┤M├\n",
       "     ┌───┐ ░ ├───┤ ░ │  $U_f$ │ ░ └───┘ ░ └╥┘\n",
       "q_1: ┤ X ├─░─┤ H ├─░─┤1       ├─░───────░──╫─\n",
       "     └───┘ ░ └───┘ ░ └────────┘ ░       ░  ║ \n",
       "c: 1/══════════════════════════════════════╩═\n",
       "                                           0 </pre>"
      ],
      "text/plain": [
       "           ░ ┌───┐ ░ ┌────────┐ ░ ┌───┐ ░ ┌─┐\n",
       "q_0: ──────░─┤ H ├─░─┤0       ├─░─┤ H ├─░─┤M├\n",
       "     ┌───┐ ░ ├───┤ ░ │  $U_f$ │ ░ └───┘ ░ └╥┘\n",
       "q_1: ┤ X ├─░─┤ H ├─░─┤1       ├─░───────░──╫─\n",
       "     └───┘ ░ └───┘ ░ └────────┘ ░       ░  ║ \n",
       "c: 1/══════════════════════════════════════╩═\n",
       "                                           0 "
      ]
     },
     "execution_count": 4,
     "metadata": {},
     "output_type": "execute_result"
    }
   ],
   "source": [
    "circ = deutsch()\n",
    "circ.draw()"
   ]
  },
  {
   "cell_type": "markdown",
   "id": "present-demographic",
   "metadata": {},
   "source": [
    "Based on the analysis above, if $|q_0\\rangle=0$, the oracle is constant, and if $|q_0\\rangle=1$, the oracle is balanced. We can try this, we will make two circuits, one with a balanced oracle and one with a constant one and see what output we get."
   ]
  },
  {
   "cell_type": "code",
   "execution_count": 5,
   "id": "numerous-tongue",
   "metadata": {},
   "outputs": [],
   "source": [
    "circ_balanced = deutsch(0)\n",
    "circ_constant = deutsch(1) # We will let the choice be random for both circuits"
   ]
  },
  {
   "cell_type": "markdown",
   "id": "ultimate-syndicate",
   "metadata": {},
   "source": [
    "Results for balanced circuit:"
   ]
  },
  {
   "cell_type": "code",
   "execution_count": 6,
   "id": "d4e0bd50-47d0-46a8-b808-ee5d924000bd",
   "metadata": {},
   "outputs": [
    {
     "data": {
      "text/plain": [
       "<AccountProvider for IBMQ(hub='ibm-q', group='open', project='main')>"
      ]
     },
     "execution_count": 6,
     "metadata": {},
     "output_type": "execute_result"
    }
   ],
   "source": [
    "IBMQ.save_account(f\"{config.IBM_KEY}\", overwrite = True)\n",
    "IBMQ.load_account()"
   ]
  },
  {
   "cell_type": "code",
   "execution_count": 13,
   "id": "finite-thought",
   "metadata": {},
   "outputs": [
    {
     "data": {
      "image/png": "[encoded data removed]",
      "text/plain": [
       "<Figure size 504x360 with 1 Axes>"
      ]
     },
     "execution_count": 13,
     "metadata": {},
     "output_type": "execute_result"
    }
   ],
   "source": [
    "backend = Aer.get_backend('qasm_simulator')\n",
    "\n",
    "# Uncomment below to run on hardware\n",
    "# provider = IBMQ.get_provider(hub='ibm-q')\n",
    "# backend  = least_busy(provider.backends())\n",
    "\n",
    "result  = execute(circ_balanced, backend, shots=1024).result()\n",
    "count_b = result.get_counts(circ_balanced)\n",
    "\n",
    "plot_histogram(count_b)"
   ]
  },
  {
   "cell_type": "markdown",
   "id": "descending-bones",
   "metadata": {},
   "source": [
    "Results for constant circuit:"
   ]
  },
  {
   "cell_type": "code",
   "execution_count": 14,
   "id": "skilled-translator",
   "metadata": {},
   "outputs": [
    {
     "data": {
      "image/png": "[encoded data removed]",
      "text/plain": [
       "<Figure size 504x360 with 1 Axes>"
      ]
     },
     "execution_count": 14,
     "metadata": {},
     "output_type": "execute_result"
    }
   ],
   "source": [
    "backend = Aer.get_backend('qasm_simulator')\n",
    "\n",
    "# Uncomment below to run on hardware\n",
    "# provider = IBMQ.get_provider(hub='ibm-q')\n",
    "# backend  = least_busy(provider.backends())\n",
    "\n",
    "result  = execute(circ_constant, backend, shots=1024).result()\n",
    "count_c = result.get_counts(circ_constant)\n",
    "\n",
    "plot_histogram(count_c)"
   ]
  },
  {
   "cell_type": "markdown",
   "id": "duplicate-remains",
   "metadata": {},
   "source": [
    "As we can see, these results agree with what we expected.\n",
    "\n",
    "**Generalizing**\n",
    "\n",
    "With Deutsch's algorithm in place, we can generalize to the $n$ input Deutsch-Jozsa algorithm. The function to generate the oracle is the following."
   ]
  },
  {
   "cell_type": "code",
   "execution_count": 9,
   "id": "continued-knife",
   "metadata": {},
   "outputs": [],
   "source": [
    "def dj_oracle(qc, n, oracle, choice, to_gate=True):\n",
    "    \"\"\"\n",
    "    Add oracle for Deutsch-Jozsa algoritm, in the form of a gate, to quantum circuit.\n",
    "    \n",
    "    Parameters:\n",
    "    -----------\n",
    "    qc: QuantumCircuit\n",
    "        Quantum circuit with n+1 qubits.\n",
    "    n: int\n",
    "        Number of qubits in first register. n-input to Deutsch-Jozsa. \n",
    "        Should be one less that the total size of the circuit.\n",
    "    oracle: int\n",
    "        Type of oracle. 0 for balanced and 1 for constant.\n",
    "    choice: int\n",
    "        Choice of oracle type. For a balanced oracle, this parameter is irrelevant. \n",
    "        For a constant oracle, 0 will make f(x)=0 and 1 will make f(x)=1.\n",
    "    to_gate: bool\n",
    "        If true, the oracle will be added as a gate to the original circuit. \n",
    "        If false, the individual gates will be added to the original circuit.\n",
    "        \n",
    "    Returns:\n",
    "    --------\n",
    "    qc: QuantumCircuit\n",
    "        Quantum circuit with Deutsch-Jozsa oracle added at the end.\n",
    "    \"\"\"\n",
    "    qc_len = 0\n",
    "    for qr in qc.qregs:\n",
    "        qc_len += len(qr)\n",
    "    if qc_len != n + 1:\n",
    "        raise Exception(('Length of oracle and circuit given do not match correctly.'\n",
    "                         ' Parameter n should be one less than number of qubits in parameter qc.'))\n",
    "    \n",
    "    if to_gate:\n",
    "        qreg_input     = QuantumRegister(n, 'x')\n",
    "        qreg_output    = QuantumRegister(1, 'y')\n",
    "        oracle_circuit = QuantumCircuit(qreg_input, qreg_output, name='$U_f$')\n",
    "\n",
    "        # Balanced oracle\n",
    "        if oracle == 0:\n",
    "            for i in range(n):\n",
    "                oracle_circuit.cx(qreg_input[i], qreg_output)\n",
    "\n",
    "        # Constant oracle\n",
    "        elif oracle == 1:\n",
    "            if choice == 0:\n",
    "                pass # y is already initialized to 0\n",
    "            elif choice == 1:\n",
    "                oracle_circuit.x(qreg_output)\n",
    "        \n",
    "        oracle_gate = oracle_circuit.to_gate()\n",
    "        qc.append(oracle_gate, range(n+1))\n",
    "    else:        \n",
    "        # Balanced oracle\n",
    "        if oracle == 0:\n",
    "            for i in range(n):\n",
    "                qc.cx(i, n)\n",
    "\n",
    "        # Constant oracle\n",
    "        elif oracle == 1:\n",
    "            if choice == 0:\n",
    "                pass # y is already initialized to 0\n",
    "            elif choice == 1:\n",
    "                qc.x(n)\n",
    "        \n",
    "    return qc"
   ]
  },
  {
   "cell_type": "markdown",
   "id": "golden-serbia",
   "metadata": {},
   "source": [
    "With the oracle in place, we can build the function for the whole Deutsch-Jozsa algorithm."
   ]
  },
  {
   "cell_type": "code",
   "execution_count": 10,
   "id": "pediatric-bundle",
   "metadata": {},
   "outputs": [],
   "source": [
    "def deutsch_jozsa(n, oracle=None, choice=None, oracle_gate=True):\n",
    "    \"\"\"\n",
    "    Create quantum circuit implementing n-input Deutsch-Jozsa algorithm.\n",
    "    \n",
    "    Parameters:\n",
    "    -----------\n",
    "    n: int\n",
    "        Number of qubits in first register. n-input to Deutsch-Jozsa. \n",
    "        Should be one less that the total size of the circuit.\n",
    "    oracle: int\n",
    "        Type of oracle. 0 for balanced and 1 for constant.\n",
    "    choice: int\n",
    "        Choice of oracle type. For a balanced oracle, this parameter is irrelevant. \n",
    "        For a constant oracle, 0 will make f(x)=0 and 1 will make f(x)=1.\n",
    "    oracle_gate: bool\n",
    "        If true, the oracle will be added as a gate to the original circuit. \n",
    "        If false, the individual gates enclosed by barriers will be added to the original circuit.\n",
    "        \n",
    "    Returns:\n",
    "    --------\n",
    "    qc: QuantumCircuit\n",
    "        Quantum circuit with Deutsch-Jozsa oracle added at the end.\n",
    "    \"\"\"\n",
    "    # Randomize oracle and choice if not given\n",
    "    if oracle == None:\n",
    "        oracle = random.randint(0, 1)\n",
    "    if choice == None:\n",
    "        choice = random.randint(0, 1)\n",
    "    \n",
    "    qreg_in  = QuantumRegister(n, 'x')\n",
    "    qreg_out = QuantumRegister(1, 'y')\n",
    "    creg     = ClassicalRegister(n, 'c')\n",
    "    qc       = QuantumCircuit(qreg_in, qreg_out, creg)\n",
    "    \n",
    "    # Prepare initial state\n",
    "    qc.x(qreg_in)\n",
    "    \n",
    "    qc.barrier()\n",
    "    \n",
    "    # Put into superpusition\n",
    "    qc.h(range(n+1))\n",
    "    \n",
    "    qc.barrier()\n",
    "    \n",
    "    # Add oracle\n",
    "    dj_oracle(qc, n, oracle, choice, oracle_gate)\n",
    "    \n",
    "    qc.barrier()\n",
    "    \n",
    "    # Apply interference\n",
    "    qc.h(qreg_in)\n",
    "    \n",
    "    qc.barrier()\n",
    "    \n",
    "    # Measure first qubit\n",
    "    qc.measure(qreg_in, creg)\n",
    "    \n",
    "    return qc"
   ]
  },
  {
   "cell_type": "markdown",
   "id": "conservative-uncertainty",
   "metadata": {},
   "source": [
    "With this in mind, we can create a Deutsch-Jozsa circuit with a balanced oracle; we will specify that we want the individual gates of the oracle to make sure our functions are functioning correctly."
   ]
  },
  {
   "cell_type": "code",
   "execution_count": 11,
   "id": "light-stopping",
   "metadata": {},
   "outputs": [
    {
     "data": {
      "text/html": [
       "<pre style=\"word-wrap: normal;white-space: pre;background: #fff0;line-height: 1.1;font-family: &quot;Courier New&quot;,Courier,monospace\">     ┌───┐ ░ ┌───┐ ░                 ░ ┌───┐ ░ ┌─┐      \n",
       "x_0: ┤ X ├─░─┤ H ├─░───■─────────────░─┤ H ├─░─┤M├──────\n",
       "     ├───┤ ░ ├───┤ ░   │             ░ ├───┤ ░ └╥┘┌─┐   \n",
       "x_1: ┤ X ├─░─┤ H ├─░───┼────■────────░─┤ H ├─░──╫─┤M├───\n",
       "     ├───┤ ░ ├───┤ ░   │    │        ░ ├───┤ ░  ║ └╥┘┌─┐\n",
       "x_2: ┤ X ├─░─┤ H ├─░───┼────┼────■───░─┤ H ├─░──╫──╫─┤M├\n",
       "     └───┘ ░ ├───┤ ░ ┌─┴─┐┌─┴─┐┌─┴─┐ ░ └───┘ ░  ║  ║ └╥┘\n",
       "  y: ──────░─┤ H ├─░─┤ X ├┤ X ├┤ X ├─░───────░──╫──╫──╫─\n",
       "           ░ └───┘ ░ └───┘└───┘└───┘ ░       ░  ║  ║  ║ \n",
       "c: 3/═══════════════════════════════════════════╩══╩══╩═\n",
       "                                                0  1  2 </pre>"
      ],
      "text/plain": [
       "     ┌───┐ ░ ┌───┐ ░                 ░ ┌───┐ ░ ┌─┐      \n",
       "x_0: ┤ X ├─░─┤ H ├─░───■─────────────░─┤ H ├─░─┤M├──────\n",
       "     ├───┤ ░ ├───┤ ░   │             ░ ├───┤ ░ └╥┘┌─┐   \n",
       "x_1: ┤ X ├─░─┤ H ├─░───┼────■────────░─┤ H ├─░──╫─┤M├───\n",
       "     ├───┤ ░ ├───┤ ░   │    │        ░ ├───┤ ░  ║ └╥┘┌─┐\n",
       "x_2: ┤ X ├─░─┤ H ├─░───┼────┼────■───░─┤ H ├─░──╫──╫─┤M├\n",
       "     └───┘ ░ ├───┤ ░ ┌─┴─┐┌─┴─┐┌─┴─┐ ░ └───┘ ░  ║  ║ └╥┘\n",
       "  y: ──────░─┤ H ├─░─┤ X ├┤ X ├┤ X ├─░───────░──╫──╫──╫─\n",
       "           ░ └───┘ ░ └───┘└───┘└───┘ ░       ░  ║  ║  ║ \n",
       "c: 3/═══════════════════════════════════════════╩══╩══╩═\n",
       "                                                0  1  2 "
      ]
     },
     "execution_count": 11,
     "metadata": {},
     "output_type": "execute_result"
    }
   ],
   "source": [
    "qc = deutsch_jozsa(3, oracle=0, oracle_gate=False)\n",
    "qc.draw()"
   ]
  },
  {
   "cell_type": "markdown",
   "id": "chicken-street",
   "metadata": {},
   "source": [
    "Now, we can test the output of simulating this circuit to make sure everything is in order."
   ]
  },
  {
   "cell_type": "code",
   "execution_count": 12,
   "id": "dietary-legend",
   "metadata": {},
   "outputs": [
    {
     "data": {
      "image/png": "[encoded data removed]",
      "text/plain": [
       "<Figure size 504x360 with 1 Axes>"
      ]
     },
     "execution_count": 12,
     "metadata": {},
     "output_type": "execute_result"
    }
   ],
   "source": [
    "backend = Aer.get_backend('qasm_simulator')\n",
    "\n",
    "# Uncomment below to run on hardware\n",
    "# provider = IBMQ.get_provider(hub='ibm-q')\n",
    "# backend  = least_busy(provider.backends())\n",
    "\n",
    "result = execute(qc, backend, shots=1024).result()\n",
    "counts = result.get_counts(qc)\n",
    "\n",
    "plot_histogram(counts)"
   ]
  },
  {
   "cell_type": "markdown",
   "id": "turned-andrews",
   "metadata": {},
   "source": [
    "We see that our output is $1$, as expected for a balanced oracle. Thus, we certify that our generalization of the Deutsch-Jozsa algorithm is correct. It may be hard to see why this works, but comparing the first circuit to this generalized circuit a couple times with a good attention of detail should suffice to understand this. "
   ]
  }
 ],
 "metadata": {
  "kernelspec": {
   "display_name": "Python 3 (ipykernel)",
   "language": "python",
   "name": "python3"
  },
  "language_info": {
   "codemirror_mode": {
    "name": "ipython",
    "version": 3
   },
   "file_extension": ".py",
   "mimetype": "text/x-python",
   "name": "python",
   "nbconvert_exporter": "python",
   "pygments_lexer": "ipython3",
   "version": "3.10.6"
  }
 },
 "nbformat": 4,
 "nbformat_minor": 5
}
