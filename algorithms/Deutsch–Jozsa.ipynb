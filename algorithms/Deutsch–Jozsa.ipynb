{
 "cells": [
  {
   "cell_type": "markdown",
   "id": "given-waste",
   "metadata": {},
   "source": [
    "## Imports"
   ]
  },
  {
   "cell_type": "code",
   "execution_count": 1,
   "id": "alive-anger",
   "metadata": {},
   "outputs": [],
   "source": [
    "from ipynb.fs.full._Functions import *"
   ]
  },
  {
   "cell_type": "markdown",
   "id": "capable-greensboro",
   "metadata": {},
   "source": [
    "# Deutsch–Jozsa"
   ]
  },
  {
   "cell_type": "markdown",
   "id": "tested-minister",
   "metadata": {},
   "source": [
    "For an $n$-bit input, the classical algorithm has time complexity $\\newcommand{\\bigO}{\\mathcal{O}}$$\\bigO(2^n)$. The Deutsch-Jozsa algorithm has constant time complexity, i.e. $\\bigO(1)$."
   ]
  },
  {
   "cell_type": "code",
   "execution_count": 25,
   "id": "apart-eleven",
   "metadata": {},
   "outputs": [],
   "source": [
    "def dj_oracle(qc, oracle, choice):\n",
    "    \"\"\"\n",
    "    Add Deutsch-Jozsa oracle to quantum circuit.\n",
    "    \n",
    "    Parameters:\n",
    "    -----------\n",
    "    qc: QuantumCircuit\n",
    "        Quantum circuit with 2 qubits.\n",
    "    oracle: int\n",
    "        Type of oracle. 0 for balanced and 1 for constant.\n",
    "    choice: int\n",
    "        Choice of oracle type. For a balanced oracle, 0 will make f(x)=x and 1 will make f(x)=¬x. \n",
    "        For a constant oracle, 0 will make f(x)=0 and 1 will make f(x)=1.\n",
    "        \n",
    "    Returns:\n",
    "    --------\n",
    "    qc: QuantumCircuit\n",
    "        Quantum circuit with Deutsch-Jozsa oracle added at the end.\n",
    "    \"\"\"\n",
    "    \n",
    "    # Balanced oracle\n",
    "    if oracle == 0:\n",
    "        if choice == 0:\n",
    "            qc.cx(0, 1)\n",
    "        elif choice == 1:\n",
    "            qc.x(0)\n",
    "            qc.cx(0, 1)\n",
    "            \n",
    "    # Constant oracle\n",
    "    elif oracle == 1:\n",
    "        if choice == 0:\n",
    "            pass # x is already initialized to 0\n",
    "        elif choice == 1:\n",
    "            qc.x(1)\n",
    "    \n",
    "    return qc"
   ]
  },
  {
   "cell_type": "code",
   "execution_count": 31,
   "id": "civilian-therapist",
   "metadata": {},
   "outputs": [],
   "source": [
    "def deutsch_jozsa(oracle = None, choice = None):\n",
    "    \"\"\"\n",
    "    Create quantum circuit implementing the Deutsch-Jozsa algorithm.\n",
    "    \n",
    "    Parameters:\n",
    "    -----------\n",
    "    oracle: int\n",
    "        Type of oracle. 0 for balanced and 1 for constant.\n",
    "    choice: int\n",
    "        Choice of oracle type. For a balanced oracle, 0 will make f(x)=x and 1 will make f(x)=¬x. \n",
    "        For a constant oracle, 0 will make f(x)=0 and 1 will make f(x)=1.\n",
    "        \n",
    "    NOTE: if any parameter is set to none, the value will be randomized.    \n",
    "    \n",
    "    Returns:\n",
    "    --------\n",
    "    qc: QuantumCircuit\n",
    "        Quantum circuit implementing Deutsch-Jozsa algorithm.\n",
    "    \"\"\"\n",
    "    # Randomize oracle and choice if not given\n",
    "    if oracle == None:\n",
    "        oracle = random.randint(0, 1)\n",
    "    if choice == None:\n",
    "        choice = random.randint(0, 1)\n",
    "    \n",
    "    \n",
    "    qreg = QuantumRegister(2, 'q')\n",
    "    creg = ClassicalRegister(1, 'c')\n",
    "    qc   = QuantumCircuit(qreg, creg)\n",
    "    \n",
    "    # Prepare initial state\n",
    "    qc.x(qreg[1])\n",
    "    \n",
    "    qc.barrier()\n",
    "    \n",
    "    # Put into superpusition\n",
    "    qc.h(qreg)\n",
    "    \n",
    "    qc.barrier()\n",
    "    \n",
    "    # Add oracle\n",
    "    dj_oracle(qc, oracle, choice)\n",
    "    \n",
    "    qc.barrier()\n",
    "    \n",
    "    # Apply interference\n",
    "    qc.h(qreg)\n",
    "    \n",
    "    qc.barrier()\n",
    "    \n",
    "    # Measure first qubit\n",
    "    qc.measure(qreg[0], creg)\n",
    "    \n",
    "    # Return circuit\n",
    "    return qc"
   ]
  },
  {
   "cell_type": "code",
   "execution_count": 34,
   "id": "contrary-coupon",
   "metadata": {},
   "outputs": [
    {
     "data": {
      "image/png": "[encoded data removed]",
      "text/plain": [
       "<Figure size 628.252x204.68 with 1 Axes>"
      ]
     },
     "execution_count": 34,
     "metadata": {},
     "output_type": "execute_result"
    }
   ],
   "source": [
    "circ = deutsch_jozsa()\n",
    "draw(circ)"
   ]
  },
  {
   "cell_type": "markdown",
   "id": "present-demographic",
   "metadata": {},
   "source": [
    "If $\\newcommand{\\ket}[1]{\\left|{#1}\\right\\rangle}$$\\ket{q_0}=0$, the oracle is constant. If $\\ket{q_0}=1$, the oracle is balanced."
   ]
  },
  {
   "cell_type": "code",
   "execution_count": 35,
   "id": "shaped-aircraft",
   "metadata": {},
   "outputs": [
    {
     "data": {
      "image/png": "[encoded data removed]",
      "text/plain": [
       "<Figure size 504x360 with 1 Axes>"
      ]
     },
     "execution_count": 35,
     "metadata": {},
     "output_type": "execute_result"
    }
   ],
   "source": [
    "results, count = run(circ)\n",
    "plot_histogram(count)"
   ]
  }
 ],
 "metadata": {
  "kernelspec": {
   "display_name": "Python 3",
   "language": "python",
   "name": "python3"
  },
  "language_info": {
   "codemirror_mode": {
    "name": "ipython",
    "version": 3
   },
   "file_extension": ".py",
   "mimetype": "text/x-python",
   "name": "python",
   "nbconvert_exporter": "python",
   "pygments_lexer": "ipython3",
   "version": "3.8.8"
  }
 },
 "nbformat": 4,
 "nbformat_minor": 5
}
