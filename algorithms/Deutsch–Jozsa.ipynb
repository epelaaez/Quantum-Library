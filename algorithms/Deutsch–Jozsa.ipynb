{
 "cells": [
  {
   "cell_type": "code",
   "execution_count": 3,
   "id": "alive-anger",
   "metadata": {},
   "outputs": [],
   "source": [
    "from ipynb.fs.full._Functions import *"
   ]
  },
  {
   "cell_type": "markdown",
   "id": "capable-greensboro",
   "metadata": {},
   "source": [
    "# Deutsch–Jozsa"
   ]
  },
  {
   "cell_type": "markdown",
   "id": "toxic-actress",
   "metadata": {},
   "source": [
    "The Deutsch-Jozsa algorithm was proposed by David Deutsch and Richard Jozsa (hence the name) in 1992; it marked a very important step for the field of quantum computing since it was the first example of how a quantum computer performs a task exponentially faster than any classical computer. More specifically, for an $n$-bit input, the classical algorithm has time complexity $\\newcommand{\\bigO}{\\mathcal{O}}$$\\bigO(2^n)$, while Deutsch-Jozsa algorithm has constant time complexity, i.e. $\\bigO(1)$.\n",
    "\n",
    "**The problem**\n",
    "\n",
    "Given an unknown Boolean function $f$, which takes as input a string of 0's and 1's and returns either a 0 or 1. We know $f$ is either balanced (returns 0 for half the input and 1 for the other half) or constant (returns either 0 or 1 for all inputs) and our task is to determine which one it is. Mathematically written, our function is $f:\\{0,1\\}^n \\rightarrow{} \\{0,1\\}$, meaning that it maps a $n$-bit string to 0 or 1.\n",
    "\n",
    "**The oracle**\n",
    "\n",
    "To implement $f$ in our quantum circuit, we are going to use an oracle. (An oracle is a \"blackbox\" that performs a certain operation without letting the rest of the circuit what's going on inside it.) Of course, we need to implement this oracle ourselves so we are going to know what is going inside it. \n",
    "\n",
    "**Note**: we will implement the Deutsch-Jozsa algorithm first with $n=1$, go through it and at the end we will provide the generalization for any $n$.\n",
    "\n",
    "To start, we are going to implement the oracle we need for this algorithm. We will make one function called `dj_oracle()` which takes two arguments:\n",
    "- Oracle: 0 for a balanced oracle and 1 for a constant oracle (as defined above).\n",
    "- Choice: for a balanced oracle, 0 will make the output the same as the input (i.e. $f(x)=x$) and 1 will make the output the opposite of the input (i.e. $f(x)=\\lnot x$). For a constant oracle, 0 will make the output always 0 (i.e. $f(x)=0$) and the same for 1.\n",
    "\n",
    "The code to make these oracles is the following:"
   ]
  },
  {
   "cell_type": "code",
   "execution_count": 17,
   "id": "apart-eleven",
   "metadata": {},
   "outputs": [],
   "source": [
    "def dj_oracle(qc, oracle, choice):\n",
    "    \"\"\"\n",
    "    Add Deutsch-Jozsa oracle, in the form of a gate, to quantum circuit.\n",
    "    \n",
    "    Parameters:\n",
    "    -----------\n",
    "    qc: QuantumCircuit\n",
    "        Quantum circuit with 2 qubits.\n",
    "    oracle: int\n",
    "        Type of oracle. 0 for balanced and 1 for constant.\n",
    "    choice: int\n",
    "        Choice of oracle type. For a balanced oracle, 0 will make f(x)=x and 1 will make f(x)=¬x. \n",
    "        For a constant oracle, 0 will make f(x)=0 and 1 will make f(x)=1.\n",
    "        \n",
    "    Returns:\n",
    "    --------\n",
    "    qc: QuantumCircuit\n",
    "        Quantum circuit with Deutsch-Jozsa oracle added at the end.\n",
    "    \"\"\"\n",
    "    qreg           = QuantumRegister(2, 'q')\n",
    "    oracle_circuit = QuantumCircuit(qreg, name='$U_f$')\n",
    "    \n",
    "    # Balanced oracle\n",
    "    if oracle == 0:\n",
    "        if choice == 0:\n",
    "            oracle_circuit.cx(0, 1)\n",
    "        elif choice == 1:\n",
    "            oracle_circuit.cx(0, 1)\n",
    "            oracle_circuit.x(1)\n",
    "            \n",
    "    # Constant oracle\n",
    "    elif oracle == 1:\n",
    "        if choice == 0:\n",
    "            pass # x is already initialized to 0\n",
    "        elif choice == 1:\n",
    "            oracle_circuit.x(1)\n",
    "    \n",
    "    # Turn oracle into single gate and append to qc\n",
    "    oracle_gate = oracle_circuit.to_gate()\n",
    "    qc.append(oracle_gate, [0, 1])\n",
    "    \n",
    "    return qc"
   ]
  },
  {
   "cell_type": "markdown",
   "id": "foster-leone",
   "metadata": {},
   "source": [
    "Before going into each possible oracle, it is important to note that due to the requirement of quantum computation that all circuits are reversible, we cannot make our oracle lose any information of the inputs. Therefore, our oracle $U_f$ will take an input $\\newcommand{\\ket}[1]{\\left|{#1}\\right\\rangle}$$\\ket{x}\\ket{y}$ and map it to an output $\\ket{x}\\ket{y \\oplus f(x)}$. In our implementation of the oracle, we will take $\\ket{y}=\\ket{0}$ to be the input, therefore we can simplify the action that $U_f$ takes to mapping $\\ket{x}\\ket{0}$ to $\\ket{x}\\ket{f(x)}$.\n",
    "\n",
    "Now we can start going through our different oracles.\n",
    "- Constant 0 oracle. As you can see in the function above, no gates are appended to the circuit. This is because $\\ket{y}$ is already $\\ket{0}$, therefore we don't need to apply any more gates.\n",
    "- Constant 1 oracle. We just append an $\\textbf{X}$ gate to $\\ket{y}$. Since we know that $\\textbf{X}: \\ket{0} \\rightarrow \\ket{1}$, this gate is sufficient to make our oracle always output $\\ket{1}$.\n",
    "- Balanced 0 oracle. Remember that this will make $U_f: \\ket{x}\\ket{0} \\rightarrow \\ket{x}\\ket{x}$. To make this oracle, we just apply a $\\textbf{CX}$ gate with control qubit $\\ket{x}$ and target qubit $\\ket{y}$. Therefore, if $\\ket{x}=\\ket{0}$ no gate will be applied to $\\ket{y}$ and it will stay in the $\\ket{0}$ state. If $\\ket{x}=\\ket{1}$, an $\\textbf{X}$ gate will be applied to $\\ket{y}$ transforming it into state $\\ket{1}$; these two cases satisfy the behavior we wanted.\n",
    "- Balanced 1 oracle. Remember that this will make $U_f: \\ket{x}\\ket{0} \\rightarrow \\ket{x}\\ket{\\lnot x}$. Therefore, we can apply the gate from the previous oracle and then apply an $\\textbf{X}$ gate to $\\ket{y}$ to make it the opposite of $x$. \n",
    "\n",
    "With our oracle function, we can know build the Deutsch-Jozsa circuit that will make use of this oracle. The function used to build this circuit is the following:"
   ]
  },
  {
   "cell_type": "code",
   "execution_count": 19,
   "id": "civilian-therapist",
   "metadata": {},
   "outputs": [],
   "source": [
    "def deutsch_jozsa(oracle = None, choice = None):\n",
    "    \"\"\"\n",
    "    Create quantum circuit implementing the Deutsch-Jozsa algorithm.\n",
    "    \n",
    "    Parameters:\n",
    "    -----------\n",
    "    oracle: int\n",
    "        Type of oracle. 0 for balanced and 1 for constant.\n",
    "    choice: int\n",
    "        Choice of oracle type. For a balanced oracle, 0 will make f(x)=x and 1 will make f(x)=¬x. \n",
    "        For a constant oracle, 0 will make f(x)=0 and 1 will make f(x)=1.\n",
    "        \n",
    "    NOTE: if any parameter is set to none, the value will be randomized.    \n",
    "    \n",
    "    Returns:\n",
    "    --------\n",
    "    qc: QuantumCircuit\n",
    "        Quantum circuit implementing Deutsch-Jozsa algorithm.\n",
    "    \"\"\"\n",
    "    # Randomize oracle and choice if not given\n",
    "    if oracle == None:\n",
    "        oracle = random.randint(0, 1)\n",
    "    if choice == None:\n",
    "        choice = random.randint(0, 1)\n",
    "    \n",
    "    \n",
    "    qreg = QuantumRegister(2, 'q')\n",
    "    creg = ClassicalRegister(1, 'c')\n",
    "    qc   = QuantumCircuit(qreg, creg)\n",
    "    \n",
    "    # Prepare initial state\n",
    "    qc.x(qreg[1])\n",
    "    \n",
    "    qc.barrier()\n",
    "    \n",
    "    # Put into superpusition\n",
    "    qc.h(qreg)\n",
    "    \n",
    "    qc.barrier()\n",
    "    \n",
    "    # Add oracle\n",
    "    dj_oracle(qc, oracle, choice)\n",
    "    \n",
    "    qc.barrier()\n",
    "    \n",
    "    # Apply interference\n",
    "    qc.h(qreg)\n",
    "    \n",
    "    qc.barrier()\n",
    "    \n",
    "    # Measure first qubit\n",
    "    qc.measure(qreg[0], creg)\n",
    "    \n",
    "    # Return circuit\n",
    "    return qc"
   ]
  },
  {
   "cell_type": "code",
   "execution_count": 20,
   "id": "contrary-coupon",
   "metadata": {},
   "outputs": [
    {
     "data": {
      "image/png": "[encoded data removed]",
      "text/plain": [
       "<Figure size 780.192x204.68 with 1 Axes>"
      ]
     },
     "execution_count": 20,
     "metadata": {},
     "output_type": "execute_result"
    }
   ],
   "source": [
    "circ = deutsch_jozsa()\n",
    "draw(circ)"
   ]
  },
  {
   "cell_type": "markdown",
   "id": "present-demographic",
   "metadata": {},
   "source": [
    "If $\\newcommand{\\ket}[1]{\\left|{#1}\\right\\rangle}$$\\ket{q_0}=0$, the oracle is constant. If $\\ket{q_0}=1$, the oracle is balanced."
   ]
  },
  {
   "cell_type": "code",
   "execution_count": 29,
   "id": "shaped-aircraft",
   "metadata": {},
   "outputs": [
    {
     "data": {
      "image/png": "[encoded data removed]",
      "text/plain": [
       "<Figure size 504x360 with 1 Axes>"
      ]
     },
     "execution_count": 29,
     "metadata": {},
     "output_type": "execute_result"
    }
   ],
   "source": [
    "results, count = run(circ)\n",
    "plot_histogram(count)"
   ]
  }
 ],
 "metadata": {
  "kernelspec": {
   "display_name": "Python 3",
   "language": "python",
   "name": "python3"
  },
  "language_info": {
   "codemirror_mode": {
    "name": "ipython",
    "version": 3
   },
   "file_extension": ".py",
   "mimetype": "text/x-python",
   "name": "python",
   "nbconvert_exporter": "python",
   "pygments_lexer": "ipython3",
   "version": "3.8.8"
  }
 },
 "nbformat": 4,
 "nbformat_minor": 5
}
