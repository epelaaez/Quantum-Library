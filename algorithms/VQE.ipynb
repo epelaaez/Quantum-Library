{
 "cells": [
  {
   "cell_type": "markdown",
   "id": "baking-ceramic",
   "metadata": {},
   "source": [
    "### Imports"
   ]
  },
  {
   "cell_type": "code",
   "execution_count": 2,
   "id": "primary-counter",
   "metadata": {},
   "outputs": [],
   "source": [
    "from ipynb.fs.full._Functions import *"
   ]
  },
  {
   "cell_type": "markdown",
   "id": "earlier-replacement",
   "metadata": {},
   "source": [
    "# Variational Quantum Eigensolver"
   ]
  },
  {
   "cell_type": "markdown",
   "id": "young-appendix",
   "metadata": {},
   "source": [
    "In many real world applications and situations, finding the minimal eigenvalue of a matrix is an important task. In chemistry, the minimal eigenvalue of the Hermitian matrix that describes the behavior of a molecule is the ground state energy of the molecule. Phase estimation is a good candidate to solve this problem in the future, but the current hardware doesn't allow using phase estimation for this purpose.\n",
    "\n",
    "For this reason, Peruzzo developed the varational quantum eigensolver which is able to estimate the ground state energy of a system using current hardware. \n",
    "\n",
    "**The problem**\n",
    "\n",
    "Given a Hermitian matrix $H$ with a minimal eigenvalue $\\lambda_m$ corresponding to an eigenstate $\\newcommand{\\ket}[1]{\\left|{#1}\\right\\rangle}$$\\newcommand{\\bra}[1]{\\left\\langle{#1}\\right|}$$\\ket{\\phi_m}$, the varational quantum eigensolver allows us to get $\\lambda_\\theta$ which is an estimate of $\\lambda_m$ bounded by \n",
    "\n",
    "$$ \\lambda_m \\leq \\lambda_\\theta \\equiv \\bra{\\psi_\\theta} H \\ket{\\psi_\\theta}, $$\n",
    "\n",
    "where $\\ket{\\psi_\\theta}$ is the eigenstate corresponding to $\\lambda_\\theta$. Remember that $\\bra{\\psi_\\theta}H\\ket{\\psi_\\theta}$ denotes the expectation value of $H$ in the state $\\ket{\\psi_\\theta}$. The algorithm applies a circuit $U(\\theta)$ to some state $\\ket{\\psi}$ to get an estimate $U(\\theta)\\ket{\\psi}=\\ket{\\psi_\\theta}$ of $\\ket{\\psi_m}$. Then, this state is optimized by changing the parameter of $U(\\theta)$ in order to minimze the value of $\\lambda_\\theta$.\n",
    "\n",
    "**Background**\n",
    "\n",
    "The variational quantum eigensolver algorithm is just an application of the variational method of quantum mechanics. Some mathematical background is needed to elaborate on this.\n",
    "\n",
    "The spectral theorem states that the eigenvalues of a Hermitian matrix, $H$, will always be real. Therefore, any eigenvalue $\\lambda_i$ will be equal to its complex conjugate, i.e. $\\lambda_i = \\lambda_i^*$. To facilitate the development of this mathematical background, we will express a Hermitian matrix as\n",
    "\n",
    "$$ H = \\sum_{i=1}^{N} \\lambda_i \\ket{\\psi_i} \\bra{\\psi_i} $$\n",
    "\n",
    "Therefore, we can rewrite the expectation value of $H$ as\n",
    "\n",
    "$$\n",
    "\\newcommand{\\braket}[2]{\\left\\langle{#1}\\middle|{#2}\\right\\rangle} \n",
    "\\begin{align}\n",
    "    \\bra{\\psi} H \\ket{\\psi} &= \\bra{\\psi} \\left(\\sum_{i=1}^{N} \\lambda_i \\ket{\\psi_i} \\bra{\\psi_i} \\right) \\ket{\\psi} \\\\\n",
    "    &= \\sum_{i=1}^{N} \\lambda_i \\braket{\\psi}{\\psi_i} \\braket{\\psi_i}{\\psi} \\\\\n",
    "    &= \\sum_{i=1}^{N} \\lambda_i \\left |  \\braket{\\psi_i}{\\psi} \\right |^2\n",
    "\\end{align}\n",
    "$$\n",
    "\n",
    "This shows that the expectation of a Hermitian matrix can be written as a linear combination using the eigenvalues of $H$. Morever, we know that each term of the combination will be greater than or equal to 0 because $ \\left |  \\braket{\\psi_i}{\\psi} \\right |^2 \\geq 0 $. From this, the equation at the beggining of the notebook \n",
    "\n",
    "$$  \\lambda_m \\leq \\bra{\\psi} H \\ket{\\psi} = \\sum_{i=1}^{N} \\lambda_i \\left |  \\braket{\\psi_i}{\\psi} \\right |^2 $$\n",
    "\n",
    "becomes clear and intuitive. This is helpful because we can represent the Hamiltonian that describes a system as a Hermitian matrix, which we can use to determine the ground state of the energy using VQE. We will arbitrarly select an initial state $\\ket{\\psi}$ (called ansatz) as a guess for $\\ket{\\psi_m}$, which will improve iteratively using the expectation value $\\bra{\\psi} H \\ket{\\psi}$ to update our state.\n",
    "\n",
    "**Improving the ansatz**\n",
    "\n",
    "To vary the ansatz in a way that it approaches the desired value, we are going to use a parametrized circuit denoted $U(\\theta)$. Applying this circuit to our initial state will yield $U(\\theta)\\ket{\\psi} = \\ket{\\psi_\\theta}$. After many iterations, the expected value $\\bra{\\psi_\\theta} H \\ket{\\psi_\\theta}$ will come closer and closer to $\\lambda_m$. The circuit $U(\\theta)$ is called a variational form, and it is what we are going to construct. \n",
    "\n",
    "When designing the variational form, we need to try to use as few parameters as possible while being able to reach any state in the vector space of our circuit, i.e. $\\mathbb{C}^N$ where $N=2^n$ and $n$ is the number of qubits. This ensure that the ability to optimize $\\ket{\\psi}$ relies solely on the capacity of the classical optimizer and not in the implementation of our variational form.\n",
    "\n",
    "Let's look at what happens when we only have one qubit, $n=1$. In this case, $U(\\theta)$ is simply a $U3$ gate, which we know uses three parameters and looks like\n",
    "\n",
    "$$ U3(\\theta, \\phi, \\lambda) = \\begin{pmatrix} \\cos(\\theta/2) && -e^{i\\lambda}\\sin(\\theta/2) \\\\ \n",
    "                                               e^{i\\phi}\\sin(\\theta/2) && e^{i\\lambda+i\\phi}\\cos(\\theta/2) \\end{pmatrix} $$\n",
    "                                               \n",
    "We use this gate because we only need three parameters to reach any possible state $\\ket{\\psi}$. \n",
    "\n",
    "**Clasical optimization**\n",
    "\n",
    "Following the example with $n=1$, we will look at how the parameters are optimized to reach the desired value. The method generally implemented in VQE is Simultaneous Perturbation Stochastic Approximation, abbreviated as [SPSA](https://www.jhuapl.edu/spsa/). This method approximates the gradient of the cost function using only two measurements. It does this by simultaneously perturbing all parameters randomly, in contrast of gradient descent in which each parameter is perturbed one by one. \n",
    "\n",
    "**Implementing SPSA**\n",
    "\n",
    "Suppose we have a differentiable cost function $L(\\theta)$ where $\\theta$ is a parameter vector and the optimization problem can be expressed as finding an specific $\\phi$ such that $\\frac{\\partial L}{\\partial \\phi} = 0$. SPSA starts with an initial paramater $\\theta_0$. "
   ]
  },
  {
   "cell_type": "markdown",
   "id": "exceptional-record",
   "metadata": {},
   "source": [
    "**References**\n",
    "- https://qiskit.org/textbook/ch-applications/vqe-molecules.html\n",
    "- https://pennylane.ai/qml/demos/spsa.html"
   ]
  },
  {
   "cell_type": "code",
   "execution_count": null,
   "id": "covered-association",
   "metadata": {},
   "outputs": [],
   "source": []
  }
 ],
 "metadata": {
  "kernelspec": {
   "display_name": "Python 3",
   "language": "python",
   "name": "python3"
  },
  "language_info": {
   "codemirror_mode": {
    "name": "ipython",
    "version": 3
   },
   "file_extension": ".py",
   "mimetype": "text/x-python",
   "name": "python",
   "nbconvert_exporter": "python",
   "pygments_lexer": "ipython3",
   "version": "3.8.8"
  }
 },
 "nbformat": 4,
 "nbformat_minor": 5
}
