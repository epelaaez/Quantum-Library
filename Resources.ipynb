{
 "cells": [
  {
   "cell_type": "markdown",
   "id": "hidden-consistency",
   "metadata": {},
   "source": [
    "# Learning Resources"
   ]
  },
  {
   "cell_type": "markdown",
   "id": "altered-curtis",
   "metadata": {},
   "source": [
    "The following notebook contains a collection of resources of different types useful for learning quantum computing, from the very basics to more advanced topics."
   ]
  },
  {
   "cell_type": "markdown",
   "id": "authorized-hayes",
   "metadata": {},
   "source": [
    "Books:\n",
    "- [Qiskit textbook](https://qiskit.org/textbook/ch-states/introduction.html)\n",
    "- [Quantum Computing for Everyone](https://direct.mit.edu/books/book/4186/Quantum-Computing-for-Everyone)"
   ]
  },
  {
   "cell_type": "markdown",
   "id": "overall-armstrong",
   "metadata": {},
   "source": [
    "Research papers:\n",
    "- [Gates, States, and Circuits](https://threeplusone.com/pubs/on_gates.pdf)"
   ]
  },
  {
   "cell_type": "markdown",
   "id": "advisory-transcript",
   "metadata": {},
   "source": [
    "Conferences and events:\n",
    "- [Quantum Computing Education - Workforce Development](https://quantum.ieee.org/education/workforce-development)"
   ]
  },
  {
   "cell_type": "markdown",
   "id": "incorrect-calibration",
   "metadata": {},
   "source": [
    "Blogs and publications:\n",
    "- [Quantum Untangled](https://medium.com/quantum-untangled)"
   ]
  }
 ],
 "metadata": {
  "kernelspec": {
   "display_name": "Python 3",
   "language": "python",
   "name": "python3"
  },
  "language_info": {
   "codemirror_mode": {
    "name": "ipython",
    "version": 3
   },
   "file_extension": ".py",
   "mimetype": "text/x-python",
   "name": "python",
   "nbconvert_exporter": "python",
   "pygments_lexer": "ipython3",
   "version": "3.8.8"
  }
 },
 "nbformat": 4,
 "nbformat_minor": 5
}
