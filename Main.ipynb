{
 "cells": [
  {
   "cell_type": "markdown",
   "id": "contrary-report",
   "metadata": {},
   "source": [
    "# Imports"
   ]
  },
  {
   "cell_type": "code",
   "execution_count": 8,
   "id": "compound-clone",
   "metadata": {},
   "outputs": [],
   "source": [
    "import numpy as np\n",
    "from qiskit import *\n",
    "\n",
    "# Qiskit visualization tools\n",
    "from qiskit.visualization import plot_histogram, circuit_drawer, plot_bloch_multivector, plot_state_city\n",
    "import matplotlib\n",
    "\n",
    "# Qiskit providers\n",
    "from qiskit.providers.ibmq import least_busy"
   ]
  },
  {
   "cell_type": "markdown",
   "id": "registered-london",
   "metadata": {},
   "source": [
    "# Functions"
   ]
  },
  {
   "cell_type": "markdown",
   "id": "surrounded-alexander",
   "metadata": {},
   "source": [
    "Draw qiskit circuit with matplotlib."
   ]
  },
  {
   "cell_type": "code",
   "execution_count": 9,
   "id": "affecting-holmes",
   "metadata": {},
   "outputs": [],
   "source": [
    "def draw(circuit):\n",
    "    circuit.draw('mpl')"
   ]
  },
  {
   "cell_type": "code",
   "execution_count": null,
   "id": "behind-expansion",
   "metadata": {},
   "outputs": [],
   "source": []
  }
 ],
 "metadata": {
  "kernelspec": {
   "display_name": "Python 3",
   "language": "python",
   "name": "python3"
  },
  "language_info": {
   "codemirror_mode": {
    "name": "ipython",
    "version": 3
   },
   "file_extension": ".py",
   "mimetype": "text/x-python",
   "name": "python",
   "nbconvert_exporter": "python",
   "pygments_lexer": "ipython3",
   "version": "3.8.8"
  }
 },
 "nbformat": 4,
 "nbformat_minor": 5
}
