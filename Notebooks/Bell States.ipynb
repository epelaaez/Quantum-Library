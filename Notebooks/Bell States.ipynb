{
 "cells": [
  {
   "cell_type": "markdown",
   "id": "mighty-engagement",
   "metadata": {},
   "source": [
    "## Imports"
   ]
  },
  {
   "cell_type": "code",
   "execution_count": 1,
   "id": "premier-lodging",
   "metadata": {},
   "outputs": [],
   "source": [
    "from ipynb.fs.full.Main import *"
   ]
  },
  {
   "cell_type": "markdown",
   "id": "diverse-eight",
   "metadata": {},
   "source": [
    "# Bell States"
   ]
  },
  {
   "cell_type": "markdown",
   "id": "usual-rates",
   "metadata": {},
   "source": [
    "Bell states are quantum states of two qubits that represent the maximally entangled states possible. The four Bell states form what is called the [Bell basis](https://en.wikipedia.org/wiki/Bell_state#Bell_basis), which form the maximally entangled basis for two qubits. In this circuit, the first Bell state is prepare. This state is entangled, meaning that measuring one qubit will immediately tell you the state of the other one. In this case, the states of both qubits will match 100% percent of the time. Thus, if you measure one qubit to be in the state |0>, you will know that the other one is in the state |0> too; and the same way for |1>. \n",
    "\n",
    "The code used to generate this circuit is the following:"
   ]
  },
  {
   "cell_type": "code",
   "execution_count": 2,
   "id": "chubby-advertiser",
   "metadata": {},
   "outputs": [],
   "source": [
    "def bell_state():\n",
    "    qreg = QuantumRegister(2, 'q')\n",
    "    creg = ClassicalRegister(2, 'c')\n",
    "    qc   = QuantumCircuit(qreg, creg)\n",
    "\n",
    "    # Create bell state itself by putting first qubit into superposition and then applying a CNOT gate between the two qubits\n",
    "    qc.h(qreg[0])\n",
    "    qc.cx(qreg[0], qreg[1])\n",
    "\n",
    "    # Measure both qubits\n",
    "    qc.measure(qreg[0], creg[0])\n",
    "    qc.measure(qreg[1], creg[1])\n",
    "\n",
    "    # Return circuit\n",
    "    return qc"
   ]
  },
  {
   "cell_type": "code",
   "execution_count": 3,
   "id": "powerful-darkness",
   "metadata": {},
   "outputs": [
    {
     "data": {
      "image/png": "[encoded data removed]",
      "text/plain": [
       "<Figure size 327.252x204.68 with 1 Axes>"
      ]
     },
     "execution_count": 3,
     "metadata": {},
     "output_type": "execute_result"
    }
   ],
   "source": [
    "circ = bell_state()\n",
    "draw(circ)"
   ]
  },
  {
   "cell_type": "markdown",
   "id": "individual-present",
   "metadata": {},
   "source": [
    "The Hadamard gate puts the first qubit into an equal superposition of states |0> and |1>. The second gate is a CNOT, which is a controlled-not gate, meaning that it will flip the target qubit (the second one in this case) only if the control qubit (the first one) is in state |1>. Since our control qubit is in a superposition of |0> and |1>, the target qubit will be flipped with the same equal probability. This also means that measuring a |0> in the top qubit means that the second qubit was **not** flipped and therefore stayed in the |0> state, but if we measure the first qubit to be in the |1> state, we know that the second qubit was flipped and therefore is in the |1> state. "
   ]
  },
  {
   "cell_type": "markdown",
   "id": "preliminary-capture",
   "metadata": {},
   "source": [
    "And here is an histogram obtained from measuring the two qubits into classical bits. We can see that there was a 50-50 chance of getting either |00> or |11> (without considering noise from the quantum computer)."
   ]
  },
  {
   "cell_type": "code",
   "execution_count": 12,
   "id": "laughing-comparison",
   "metadata": {},
   "outputs": [
    {
     "data": {
      "image/png": "[encoded data removed]",
      "text/plain": [
       "<Figure size 504x360 with 1 Axes>"
      ]
     },
     "execution_count": 12,
     "metadata": {},
     "output_type": "execute_result"
    }
   ],
   "source": [
    "result, counts = run(circ)\n",
    "plot_histogram(counts)"
   ]
  }
 ],
 "metadata": {
  "kernelspec": {
   "display_name": "Python 3",
   "language": "python",
   "name": "python3"
  },
  "language_info": {
   "codemirror_mode": {
    "name": "ipython",
    "version": 3
   },
   "file_extension": ".py",
   "mimetype": "text/x-python",
   "name": "python",
   "nbconvert_exporter": "python",
   "pygments_lexer": "ipython3",
   "version": "3.8.8"
  }
 },
 "nbformat": 4,
 "nbformat_minor": 5
}
