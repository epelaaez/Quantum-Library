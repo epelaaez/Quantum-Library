{
 "cells": [
  {
   "cell_type": "markdown",
   "id": "mighty-engagement",
   "metadata": {},
   "source": [
    "## Imports"
   ]
  },
  {
   "cell_type": "code",
   "execution_count": 1,
   "id": "premier-lodging",
   "metadata": {},
   "outputs": [],
   "source": [
    "from ipynb.fs.full.Main import *"
   ]
  },
  {
   "cell_type": "markdown",
   "id": "diverse-eight",
   "metadata": {},
   "source": [
    "# Bell States"
   ]
  },
  {
   "cell_type": "code",
   "execution_count": 2,
   "id": "closed-persian",
   "metadata": {},
   "outputs": [],
   "source": [
    "def bell_state(hardware = False):\n",
    "    qreg = QuantumRegister(2, 'q')\n",
    "    creg = ClassicalRegister(2, 'c')\n",
    "    qc   = QuantumCircuit(qreg, creg)\n",
    "\n",
    "    # Create bell state itself by putting first qubit into superposition and then applying a CNOT gate between the two qubits\n",
    "    qc.h(qreg[0])\n",
    "    qc.cx(qreg[0], qreg[1])\n",
    "\n",
    "    # Measure both qubits\n",
    "    qc.measure(qreg[0], creg[0])\n",
    "    qc.measure(qreg[1], creg[1])\n",
    "\n",
    "    # Run circuit and output\n",
    "    if hardware:\n",
    "        provider = IBMQ.get_provider(hub='ibm-q')\n",
    "        backend  = least_busy(provider.backends())\n",
    "    else:\n",
    "        backend = BasicAer.get_backend('qasm_simulator')\n",
    "\n",
    "    result   = execute(qc, backend, shots = 1024).result()\n",
    "    counts   = result.get_counts(qc)\n",
    "    print(counts)\n",
    "\n",
    "    draw(qc)"
   ]
  },
  {
   "cell_type": "code",
   "execution_count": 3,
   "id": "closed-morgan",
   "metadata": {},
   "outputs": [
    {
     "name": "stdout",
     "output_type": "stream",
     "text": [
      "{'00': 498, '11': 526}\n"
     ]
    },
    {
     "ename": "VisualizationError",
     "evalue": "'Invalid output type mlp selected. The only valid choices are latex, latex_source, text, and mpl'",
     "output_type": "error",
     "traceback": [
      "\u001b[1;31m---------------------------------------------------------------------------\u001b[0m",
      "\u001b[1;31mVisualizationError\u001b[0m                        Traceback (most recent call last)",
      "\u001b[1;32m<ipython-input-3-97374d3472a6>\u001b[0m in \u001b[0;36m<module>\u001b[1;34m\u001b[0m\n\u001b[1;32m----> 1\u001b[1;33m \u001b[0mbell_state\u001b[0m\u001b[1;33m(\u001b[0m\u001b[1;33m)\u001b[0m\u001b[1;33m\u001b[0m\u001b[1;33m\u001b[0m\u001b[0m\n\u001b[0m",
      "\u001b[1;32m<ipython-input-2-198e6fced8af>\u001b[0m in \u001b[0;36mbell_state\u001b[1;34m(hardware)\u001b[0m\n\u001b[0;32m     23\u001b[0m     \u001b[0mprint\u001b[0m\u001b[1;33m(\u001b[0m\u001b[0mcounts\u001b[0m\u001b[1;33m)\u001b[0m\u001b[1;33m\u001b[0m\u001b[1;33m\u001b[0m\u001b[0m\n\u001b[0;32m     24\u001b[0m \u001b[1;33m\u001b[0m\u001b[0m\n\u001b[1;32m---> 25\u001b[1;33m     \u001b[0mdraw\u001b[0m\u001b[1;33m(\u001b[0m\u001b[0mqc\u001b[0m\u001b[1;33m)\u001b[0m\u001b[1;33m\u001b[0m\u001b[1;33m\u001b[0m\u001b[0m\n\u001b[0m",
      "\u001b[1;32m~\\OneDrive\\Escritorio\\Projects\\Qiskit\\Notebooks\\Main.ipynb\u001b[0m in \u001b[0;36mdraw\u001b[1;34m(circuit)\u001b[0m\n\u001b[0;32m     21\u001b[0m     \u001b[1;34m\"from qiskit import *\\n\"\u001b[0m\u001b[1;33m,\u001b[0m\u001b[1;33m\u001b[0m\u001b[1;33m\u001b[0m\u001b[0m\n\u001b[0;32m     22\u001b[0m     \u001b[1;34m\"\\n\"\u001b[0m\u001b[1;33m,\u001b[0m\u001b[1;33m\u001b[0m\u001b[1;33m\u001b[0m\u001b[0m\n\u001b[1;32m---> 23\u001b[1;33m     \u001b[1;34m\"# Qiskit visualization tools\\n\"\u001b[0m\u001b[1;33m,\u001b[0m\u001b[1;33m\u001b[0m\u001b[1;33m\u001b[0m\u001b[0m\n\u001b[0m\u001b[0;32m     24\u001b[0m     \u001b[1;34m\"from qiskit.visualization import plot_histogram, circuit_drawer, plot_bloch_multivector, plot_state_city\\n\"\u001b[0m\u001b[1;33m,\u001b[0m\u001b[1;33m\u001b[0m\u001b[1;33m\u001b[0m\u001b[0m\n\u001b[0;32m     25\u001b[0m     \u001b[1;34m\"import matplotlib\\n\"\u001b[0m\u001b[1;33m,\u001b[0m\u001b[1;33m\u001b[0m\u001b[1;33m\u001b[0m\u001b[0m\n",
      "\u001b[1;32m~\\anaconda3\\lib\\site-packages\\qiskit\\circuit\\quantumcircuit.py\u001b[0m in \u001b[0;36mdraw\u001b[1;34m(self, output, scale, filename, style, interactive, plot_barriers, reverse_bits, justify, vertical_compression, idle_wires, with_layout, fold, ax, initial_state, cregbundle)\u001b[0m\n\u001b[0;32m   1355\u001b[0m             \u001b[0moutput\u001b[0m \u001b[1;33m=\u001b[0m \u001b[1;32mNone\u001b[0m\u001b[1;33m\u001b[0m\u001b[1;33m\u001b[0m\u001b[0m\n\u001b[0;32m   1356\u001b[0m \u001b[1;33m\u001b[0m\u001b[0m\n\u001b[1;32m-> 1357\u001b[1;33m         return circuit_drawer(self, scale=scale,\n\u001b[0m\u001b[0;32m   1358\u001b[0m                               \u001b[0mfilename\u001b[0m\u001b[1;33m=\u001b[0m\u001b[0mfilename\u001b[0m\u001b[1;33m,\u001b[0m \u001b[0mstyle\u001b[0m\u001b[1;33m=\u001b[0m\u001b[0mstyle\u001b[0m\u001b[1;33m,\u001b[0m\u001b[1;33m\u001b[0m\u001b[1;33m\u001b[0m\u001b[0m\n\u001b[0;32m   1359\u001b[0m                               \u001b[0moutput\u001b[0m\u001b[1;33m=\u001b[0m\u001b[0moutput\u001b[0m\u001b[1;33m,\u001b[0m\u001b[1;33m\u001b[0m\u001b[1;33m\u001b[0m\u001b[0m\n",
      "\u001b[1;32m~\\anaconda3\\lib\\site-packages\\qiskit\\visualization\\circuit_visualization.py\u001b[0m in \u001b[0;36mcircuit_drawer\u001b[1;34m(circuit, scale, filename, style, output, interactive, plot_barriers, reverse_bits, justify, vertical_compression, idle_wires, with_layout, fold, ax, initial_state, cregbundle)\u001b[0m\n\u001b[0;32m    341\u001b[0m                                            cregbundle=cregbundle)\n\u001b[0;32m    342\u001b[0m     \u001b[1;32melse\u001b[0m\u001b[1;33m:\u001b[0m\u001b[1;33m\u001b[0m\u001b[1;33m\u001b[0m\u001b[0m\n\u001b[1;32m--> 343\u001b[1;33m         raise exceptions.VisualizationError(\n\u001b[0m\u001b[0;32m    344\u001b[0m             \u001b[1;34m'Invalid output type %s selected. The only valid choices '\u001b[0m\u001b[1;33m\u001b[0m\u001b[1;33m\u001b[0m\u001b[0m\n\u001b[0;32m    345\u001b[0m             'are latex, latex_source, text, and mpl' % output)\n",
      "\u001b[1;31mVisualizationError\u001b[0m: 'Invalid output type mlp selected. The only valid choices are latex, latex_source, text, and mpl'"
     ]
    }
   ],
   "source": [
    "bell_state()"
   ]
  },
  {
   "cell_type": "code",
   "execution_count": null,
   "id": "endless-crossing",
   "metadata": {},
   "outputs": [],
   "source": []
  }
 ],
 "metadata": {
  "kernelspec": {
   "display_name": "Python 3",
   "language": "python",
   "name": "python3"
  },
  "language_info": {
   "codemirror_mode": {
    "name": "ipython",
    "version": 3
   },
   "file_extension": ".py",
   "mimetype": "text/x-python",
   "name": "python",
   "nbconvert_exporter": "python",
   "pygments_lexer": "ipython3",
   "version": "3.8.8"
  }
 },
 "nbformat": 4,
 "nbformat_minor": 5
}
