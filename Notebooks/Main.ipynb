{
 "cells": [
  {
   "cell_type": "markdown",
   "id": "unique-donna",
   "metadata": {},
   "source": [
    "# Imports"
   ]
  },
  {
   "cell_type": "code",
   "execution_count": 10,
   "id": "compound-clone",
   "metadata": {},
   "outputs": [],
   "source": [
    "# Import IBM secret key\n",
    "import config\n",
    "\n",
    "import numpy as np\n",
    "from qiskit import *\n",
    "\n",
    "# Qiskit visualization tools\n",
    "from qiskit.visualization import plot_histogram, circuit_drawer, plot_bloch_multivector, plot_state_city\n",
    "\n",
    "# Matplotlib imports\n",
    "import matplotlib\n",
    "import matplotlib.pyplot as plt \n",
    "matplotlib.use('Agg')\n",
    "\n",
    "# Qiskit providers\n",
    "from qiskit.providers.ibmq import least_busy"
   ]
  },
  {
   "cell_type": "markdown",
   "id": "hungry-sculpture",
   "metadata": {},
   "source": [
    "# Functions"
   ]
  },
  {
   "cell_type": "markdown",
   "id": "touched-helen",
   "metadata": {},
   "source": [
    "Draws qiskit circuit"
   ]
  },
  {
   "cell_type": "code",
   "execution_count": 2,
   "id": "infectious-replica",
   "metadata": {},
   "outputs": [],
   "source": [
    "def draw(circuit):\n",
    "    return circuit.draw('mpl')"
   ]
  },
  {
   "cell_type": "code",
   "execution_count": 3,
   "id": "extreme-movie",
   "metadata": {},
   "outputs": [],
   "source": [
    "def run(circuit, hardware = False):\n",
    "    if hardware:\n",
    "            provider = IBMQ.get_provider(hub='ibm-q')\n",
    "            backend  = least_busy(provider.backends())\n",
    "    else:\n",
    "        backend = BasicAer.get_backend('qasm_simulator')\n",
    "\n",
    "    result   = execute(circuit, backend, shots=1024).result()\n",
    "    counts   = result.get_counts(circuit)\n",
    "\n",
    "    return (result, counts)"
   ]
  },
  {
   "cell_type": "markdown",
   "id": "fancy-sunset",
   "metadata": {},
   "source": [
    "Load IBM account to run circuits in real hardware"
   ]
  },
  {
   "cell_type": "code",
   "execution_count": 11,
   "id": "virtual-relations",
   "metadata": {},
   "outputs": [],
   "source": [
    "def loadIBM():\n",
    "    try:\n",
    "        IBMQ.load_account()\n",
    "        print('Successfully loaded IBM account.')\n",
    "    except Exception:\n",
    "        try:\n",
    "            IBMQ.save_account(f\"{config.IBM_KEY}\", overwrite = True)\n",
    "        except NameError:\n",
    "            raise Exception(\"You have not set up your config file correctly.\")"
   ]
  },
  {
   "cell_type": "code",
   "execution_count": 12,
   "id": "expected-lewis",
   "metadata": {},
   "outputs": [
    {
     "name": "stderr",
     "output_type": "stream",
     "text": [
      "C:\\Users\\epela\\anaconda3\\lib\\site-packages\\qiskit\\providers\\ibmq\\ibmqfactory.py:192: UserWarning: Timestamps in IBMQ backend properties, jobs, and job results are all now in local time instead of UTC.\n",
      "  warnings.warn('Timestamps in IBMQ backend properties, jobs, and job results '\n"
     ]
    },
    {
     "name": "stdout",
     "output_type": "stream",
     "text": [
      "Successfully loaded IBM account.\n"
     ]
    }
   ],
   "source": [
    "loadIBM()"
   ]
  },
  {
   "cell_type": "markdown",
   "id": "healthy-weight",
   "metadata": {},
   "source": [
    "Runs qiskit circuit, either on hardware or in simulator"
   ]
  },
  {
   "cell_type": "code",
   "execution_count": null,
   "id": "treated-amber",
   "metadata": {},
   "outputs": [],
   "source": []
  }
 ],
 "metadata": {
  "kernelspec": {
   "display_name": "Python 3",
   "language": "python",
   "name": "python3"
  },
  "language_info": {
   "codemirror_mode": {
    "name": "ipython",
    "version": 3
   },
   "file_extension": ".py",
   "mimetype": "text/x-python",
   "name": "python",
   "nbconvert_exporter": "python",
   "pygments_lexer": "ipython3",
   "version": "3.8.8"
  }
 },
 "nbformat": 4,
 "nbformat_minor": 5
}
