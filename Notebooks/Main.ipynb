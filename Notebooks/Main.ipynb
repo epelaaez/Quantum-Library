{
 "cells": [
  {
   "cell_type": "markdown",
   "id": "unique-donna",
   "metadata": {},
   "source": [
    "# Imports"
   ]
  },
  {
   "cell_type": "code",
   "execution_count": 3,
   "id": "compound-clone",
   "metadata": {
    "collapsed": true
   },
   "outputs": [],
   "source": [
    "import numpy as np\n",
    "from qiskit import *\n",
    "\n",
    "# Qiskit visualization tools\n",
    "from qiskit.visualization import plot_histogram, circuit_drawer, plot_bloch_multivector, plot_state_city\n",
    "import matplotlib\n",
    "\n",
    "# Qiskit providers\n",
    "from qiskit.providers.ibmq import least_busy"
   ]
  },
  {
   "cell_type": "markdown",
   "id": "hungry-sculpture",
   "metadata": {},
   "source": [
    "# Functions"
   ]
  },
  {
   "cell_type": "code",
   "execution_count": 4,
   "id": "infectious-replica",
   "metadata": {},
   "outputs": [],
   "source": [
    "def draw(circuit):\n",
    "    circuit.draw('mlp')"
   ]
  },
  {
   "cell_type": "code",
   "execution_count": null,
   "id": "extreme-movie",
   "metadata": {},
   "outputs": [],
   "source": []
  }
 ],
 "metadata": {
  "kernelspec": {
   "display_name": "Python 3",
   "language": "python",
   "name": "python3"
  },
  "language_info": {
   "codemirror_mode": {
    "name": "ipython",
    "version": 3
   },
   "file_extension": ".py",
   "mimetype": "text/x-python",
   "name": "python",
   "nbconvert_exporter": "python",
   "pygments_lexer": "ipython3",
   "version": "3.8.8"
  }
 },
 "nbformat": 4,
 "nbformat_minor": 5
}
