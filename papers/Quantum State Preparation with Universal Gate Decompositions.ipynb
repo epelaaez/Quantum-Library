{
 "cells": [
  {
   "cell_type": "markdown",
   "id": "24dc8177",
   "metadata": {},
   "source": [
    "# Quantum State Preparation with Universal Gate Decompositions\n",
    "This paper [arXiv:1003.5760](https://arxiv.org/abs/1003.5760) by Martin Plesch and Caslav Brukner introduces a state preparation scheme with a $\\rm CNOT$ count of $\\frac{23}{24}2^n$ in the leading order for even number of qubits. The depth of such scheme is at most half of the number of $\\rm CNOT$ gates in the circuit, beating previously known results."
   ]
  },
  {
   "cell_type": "markdown",
   "id": "1a66d46c",
   "metadata": {},
   "source": [
    "## Parameters\n",
    "The paper starts by stating that a general pure state of $n$ qubits is described by $2^{n+1} - 2$ real parameters. It also states that on $n$ qubits and $k$ $\\rm CNOT$ gates, we are able to introduced up to $4k + 2n$ real parameters. Therefore, we can get a lower bound for the number of $\\rm CNOT$ gates in preparing a general $n$-qubit state: $k = \\frac{1}{2}2^n$ in the leading order."
   ]
  },
  {
   "cell_type": "markdown",
   "id": "90a7b10e",
   "metadata": {},
   "source": [
    "## Even number of qubits\n",
    "First, the decomposition is given for states with even number of qubits, as this is easier and then can be used as a building block for the odd case. The following function gives us the Schmidt decomposition for a state with even number of qubits, which is of main interest for the circuit construction presented in this paper."
   ]
  },
  {
   "cell_type": "code",
   "execution_count": 1,
   "id": "ea6a4bcc",
   "metadata": {},
   "outputs": [],
   "source": [
    "import numpy as np\n",
    "from qiskit.quantum_info import state_fidelity"
   ]
  },
  {
   "cell_type": "code",
   "execution_count": 2,
   "id": "62fc9083",
   "metadata": {},
   "outputs": [],
   "source": [
    "def schmidt_decomp_even(state):\n",
    "    n   = int(np.log2(len(state)))\n",
    "    mat = state.reshape(2 ** (n // 2), 2 ** (n // 2))\n",
    "    \n",
    "    u, s, v = np.linalg.svd(mat)\n",
    "    \n",
    "    a = [u[:, i].reshape(2 ** (n // 2), 1) for i in range(2 ** (n // 2))]\n",
    "    b = [v[i, :].reshape(2 ** (n // 2), 1) for i in range(2 ** (n // 2))]    \n",
    "    \n",
    "    new_state = np.sum([np.kron(a[i], b[i]) * s[i] for i in range(2 ** (n // 2))], axis=0)    \n",
    "    assert np.isclose(state_fidelity(state, new_state), 1), \"Didnt work :(\"\n",
    "    \n",
    "    return a, b, s"
   ]
  },
  {
   "cell_type": "code",
   "execution_count": 3,
   "id": "2ca3d5e7",
   "metadata": {},
   "outputs": [],
   "source": [
    "n       = 2 # must be even\n",
    "state   = np.random.rand(2 ** n)\n",
    "state   = state / np.linalg.norm(state)\n",
    "a, b, s = schmidt_decomp_even(state)"
   ]
  },
  {
   "cell_type": "markdown",
   "id": "6c7a3fd7",
   "metadata": {},
   "source": [
    "This decomposition divides our $2k$-qubit state into the following form:\n",
    "\n",
    "$$\n",
    "|\\Psi\\rangle = \\sum_{i=1}^{2k} \\alpha_i |\\psi\\rangle_i |\\phi\\rangle_i\n",
    "$$\n",
    "\n",
    "From the function above, `a` is a list with all $|\\psi\\rangle_i$, `b` stores $|\\phi\\rangle_i$, and `s` stores the coefficients $\\alpha_i.$ \n",
    "\n",
    "Here we will continue with the two-qubit example to keep things simple at first. First, we need to prepare the following state:\n",
    "\n",
    "$$\n",
    "\\left( \\sum_{i=1}^{2^k}\\alpha_i|i\\rangle \\right)|0\\rangle\n",
    "$$"
   ]
  },
  {
   "cell_type": "code",
   "execution_count": 4,
   "id": "e6bd7439",
   "metadata": {},
   "outputs": [],
   "source": [
    "from qiskit import QuantumCircuit, transpile\n",
    "from qiskit.quantum_info import Statevector, random_statevector\n",
    "from sympy import Matrix"
   ]
  },
  {
   "cell_type": "code",
   "execution_count": 5,
   "id": "0ce646e3",
   "metadata": {},
   "outputs": [
    {
     "data": {
      "text/html": [
       "<pre style=\"word-wrap: normal;white-space: pre;background: #fff0;line-height: 1.1;font-family: &quot;Courier New&quot;,Courier,monospace\">     ┌─────────────┐\n",
       "q_0: ┤ RY(0.16854) ├\n",
       "     └─────────────┘\n",
       "q_1: ───────────────\n",
       "                    </pre>"
      ],
      "text/plain": [
       "     ┌─────────────┐\n",
       "q_0: ┤ RY(0.16854) ├\n",
       "     └─────────────┘\n",
       "q_1: ───────────────\n",
       "                    "
      ]
     },
     "execution_count": 5,
     "metadata": {},
     "output_type": "execute_result"
    }
   ],
   "source": [
    "qc = QuantumCircuit(n)\n",
    "qc.ry(2 * np.arccos(s[0]), 0)\n",
    "qc.draw()"
   ]
  },
  {
   "cell_type": "code",
   "execution_count": 6,
   "id": "ff5b00db",
   "metadata": {},
   "outputs": [
    {
     "data": {
      "text/latex": [
       "$\\displaystyle \\left[\\begin{matrix}0.99645\\\\0.08417\\\\0\\\\0\\end{matrix}\\right]$"
      ],
      "text/plain": [
       "Matrix([\n",
       "[0.99645],\n",
       "[0.08417],\n",
       "[      0],\n",
       "[      0]])"
      ]
     },
     "execution_count": 6,
     "metadata": {},
     "output_type": "execute_result"
    }
   ],
   "source": [
    "Matrix(np.round(Statevector(qc), 5))"
   ]
  },
  {
   "cell_type": "markdown",
   "id": "0d7ad276",
   "metadata": {},
   "source": [
    "Then, we apply a $\\rm CNOT$ gate to get the state $ \\sum_{i=1}^{2^k}\\alpha_i|i\\rangle |i\\rangle$."
   ]
  },
  {
   "cell_type": "code",
   "execution_count": 7,
   "id": "f3cdb9ff",
   "metadata": {},
   "outputs": [
    {
     "data": {
      "text/html": [
       "<pre style=\"word-wrap: normal;white-space: pre;background: #fff0;line-height: 1.1;font-family: &quot;Courier New&quot;,Courier,monospace\">     ┌─────────────┐     \n",
       "q_0: ┤ RY(0.16854) ├──■──\n",
       "     └─────────────┘┌─┴─┐\n",
       "q_1: ───────────────┤ X ├\n",
       "                    └───┘</pre>"
      ],
      "text/plain": [
       "     ┌─────────────┐     \n",
       "q_0: ┤ RY(0.16854) ├──■──\n",
       "     └─────────────┘┌─┴─┐\n",
       "q_1: ───────────────┤ X ├\n",
       "                    └───┘"
      ]
     },
     "execution_count": 7,
     "metadata": {},
     "output_type": "execute_result"
    }
   ],
   "source": [
    "qc.cx(0, 1)\n",
    "qc.draw()"
   ]
  },
  {
   "cell_type": "code",
   "execution_count": 8,
   "id": "13277e32",
   "metadata": {},
   "outputs": [
    {
     "data": {
      "text/latex": [
       "$\\displaystyle \\left[\\begin{matrix}0.99645\\\\0\\\\0\\\\0.08417\\end{matrix}\\right]$"
      ],
      "text/plain": [
       "Matrix([\n",
       "[0.99645],\n",
       "[      0],\n",
       "[      0],\n",
       "[0.08417]])"
      ]
     },
     "execution_count": 8,
     "metadata": {},
     "output_type": "execute_result"
    }
   ],
   "source": [
    "Matrix(np.round(Statevector(qc), 5))"
   ]
  },
  {
   "cell_type": "markdown",
   "id": "9d261afd",
   "metadata": {},
   "source": [
    "Now, we apply a transformation such that our state is $\\sum_{i=1}^{2^k}\\alpha_i|\\psi_i\\rangle |i\\rangle$."
   ]
  },
  {
   "cell_type": "code",
   "execution_count": 9,
   "id": "ad44bb4b",
   "metadata": {},
   "outputs": [],
   "source": [
    "theta = 2 * np.arccos(a[0][0][0])\n",
    "phi   = np.real(np.log(a[0][1][0] / np.sin(np.arccos(a[0][0][0])), dtype='complex') / 1j)\n",
    "lamb  = np.real(np.log(-a[1][0][0] / np.sin(np.arccos(a[0][0][0])), dtype='complex') / 1j)"
   ]
  },
  {
   "cell_type": "code",
   "execution_count": 10,
   "id": "0f88fda7",
   "metadata": {},
   "outputs": [
    {
     "data": {
      "text/html": [
       "<pre style=\"word-wrap: normal;white-space: pre;background: #fff0;line-height: 1.1;font-family: &quot;Courier New&quot;,Courier,monospace\">     ┌─────────────┐     ┌───────────────┐\n",
       "q_0: ┤ RY(0.16854) ├──■──┤ U(4.4543,π,0) ├\n",
       "     └─────────────┘┌─┴─┐└───────────────┘\n",
       "q_1: ───────────────┤ X ├─────────────────\n",
       "                    └───┘                 </pre>"
      ],
      "text/plain": [
       "     ┌─────────────┐     ┌───────────────┐\n",
       "q_0: ┤ RY(0.16854) ├──■──┤ U(4.4543,π,0) ├\n",
       "     └─────────────┘┌─┴─┐└───────────────┘\n",
       "q_1: ───────────────┤ X ├─────────────────\n",
       "                    └───┘                 "
      ]
     },
     "execution_count": 10,
     "metadata": {},
     "output_type": "execute_result"
    }
   ],
   "source": [
    "qc.u(theta, phi, lamb, 0)\n",
    "qc.draw()"
   ]
  },
  {
   "cell_type": "code",
   "execution_count": 11,
   "id": "fe1f5e5e",
   "metadata": {},
   "outputs": [
    {
     "data": {
      "text/latex": [
       "$\\displaystyle \\left[\\begin{matrix}-0.60807\\\\-0.78941\\\\-0.06668\\\\0.05136\\end{matrix}\\right]$"
      ],
      "text/plain": [
       "Matrix([\n",
       "[-0.60807],\n",
       "[-0.78941],\n",
       "[-0.06668],\n",
       "[ 0.05136]])"
      ]
     },
     "execution_count": 11,
     "metadata": {},
     "output_type": "execute_result"
    }
   ],
   "source": [
    "Matrix(np.round(Statevector(qc), 5))"
   ]
  },
  {
   "cell_type": "markdown",
   "id": "0f285a8a",
   "metadata": {},
   "source": [
    "And we do the same for the second qubit so we end up with $\\sum_{i=1}^{2^k}\\alpha_i|\\psi_i\\rangle |\\phi_i\\rangle$."
   ]
  },
  {
   "cell_type": "code",
   "execution_count": 12,
   "id": "1c1fd981",
   "metadata": {},
   "outputs": [],
   "source": [
    "theta = 2 * np.arccos(b[0][0][0])\n",
    "phi   = np.real(np.log(b[0][1][0] / np.sin(np.arccos(b[0][0][0])), dtype='complex') / 1j)\n",
    "lamb  = np.real(np.log(-b[1][0][0] / np.sin(np.arccos(b[0][0][0])), dtype='complex') / 1j)"
   ]
  },
  {
   "cell_type": "code",
   "execution_count": 13,
   "id": "4f2ea009",
   "metadata": {},
   "outputs": [
    {
     "data": {
      "text/html": [
       "<pre style=\"word-wrap: normal;white-space: pre;background: #fff0;line-height: 1.1;font-family: &quot;Courier New&quot;,Courier,monospace\">     ┌─────────────┐     ┌───────────────┐\n",
       "q_0: ┤ RY(0.16854) ├──■──┤ U(4.4543,π,0) ├\n",
       "     └─────────────┘┌─┴─┐├───────────────┤\n",
       "q_1: ───────────────┤ X ├┤ U(5.4637,π,0) ├\n",
       "                    └───┘└───────────────┘</pre>"
      ],
      "text/plain": [
       "     ┌─────────────┐     ┌───────────────┐\n",
       "q_0: ┤ RY(0.16854) ├──■──┤ U(4.4543,π,0) ├\n",
       "     └─────────────┘┌─┴─┐├───────────────┤\n",
       "q_1: ───────────────┤ X ├┤ U(5.4637,π,0) ├\n",
       "                    └───┘└───────────────┘"
      ]
     },
     "execution_count": 13,
     "metadata": {},
     "output_type": "execute_result"
    }
   ],
   "source": [
    "qc.u(theta, phi, lamb, 1)\n",
    "qc.draw()"
   ]
  },
  {
   "cell_type": "markdown",
   "id": "1c082208",
   "metadata": {},
   "source": [
    "Finally, we can verify that the final state is the same as the one we generated randomly at the start. "
   ]
  },
  {
   "cell_type": "markdown",
   "id": "5c5a2d8d",
   "metadata": {},
   "source": [
    "**State generated with circuit**"
   ]
  },
  {
   "cell_type": "code",
   "execution_count": 14,
   "id": "6a28b150",
   "metadata": {},
   "outputs": [
    {
     "data": {
      "text/latex": [
       "$\\displaystyle \\left[\\begin{matrix}0.5843\\\\0.18108\\\\0.7036\\\\0.36159\\end{matrix}\\right]$"
      ],
      "text/plain": [
       "Matrix([\n",
       "[ 0.5843],\n",
       "[0.18108],\n",
       "[ 0.7036],\n",
       "[0.36159]])"
      ]
     },
     "execution_count": 14,
     "metadata": {},
     "output_type": "execute_result"
    }
   ],
   "source": [
    "Matrix(np.round(Statevector(qc.reverse_bits()), 5))"
   ]
  },
  {
   "cell_type": "markdown",
   "id": "24af5529",
   "metadata": {},
   "source": [
    "**Randomly generated state**"
   ]
  },
  {
   "cell_type": "code",
   "execution_count": 15,
   "id": "e94b0db9",
   "metadata": {},
   "outputs": [
    {
     "data": {
      "text/latex": [
       "$\\displaystyle \\left[\\begin{matrix}0.5843\\\\0.18108\\\\0.7036\\\\0.36159\\end{matrix}\\right]$"
      ],
      "text/plain": [
       "Matrix([\n",
       "[ 0.5843],\n",
       "[0.18108],\n",
       "[ 0.7036],\n",
       "[0.36159]])"
      ]
     },
     "execution_count": 15,
     "metadata": {},
     "output_type": "execute_result"
    }
   ],
   "source": [
    "Matrix(np.round(state, 5))"
   ]
  },
  {
   "cell_type": "markdown",
   "id": "ab92adab",
   "metadata": {},
   "source": [
    "As you can see, we obtained exactly what we were looking for! (Except for the fact that we had to use `qc.reverse_bits()`, but that's just because of the discrepancy between the endian used in the paper and in Qiskit.) Thus, we can put this two-qubit state generator in a single function."
   ]
  },
  {
   "cell_type": "code",
   "execution_count": 23,
   "id": "2b327fd4",
   "metadata": {},
   "outputs": [],
   "source": [
    "def two_qubit_state(state):\n",
    "    qc = QuantumCircuit(2)\n",
    "    \n",
    "    # Normalize state and get Schmidt decomposition\n",
    "    state   = state / np.linalg.norm(state)\n",
    "    a, b, s = schmidt_decomp_even(state)\n",
    "\n",
    "    # Phase 1\n",
    "    qc.ry(2 * np.arccos(s[0]), 0)\n",
    "    \n",
    "    # Phase 2\n",
    "    qc.cx(0, 1)\n",
    "    \n",
    "    # Phase 3\n",
    "    qc.unitary(np.block([a[0].flatten().T, a[1].flatten().T]).reshape(2, 2).T, 0)\n",
    "    \n",
    "    # Phase 4\n",
    "    qc.unitary(np.block([b[0].flatten().T, b[1].flatten().T]).reshape(2, 2).T, 1)\n",
    "    \n",
    "    return qc"
   ]
  },
  {
   "cell_type": "code",
   "execution_count": 24,
   "id": "5254e315",
   "metadata": {},
   "outputs": [
    {
     "data": {
      "text/html": [
       "<pre style=\"word-wrap: normal;white-space: pre;background: #fff0;line-height: 1.1;font-family: &quot;Courier New&quot;,Courier,monospace\">global phase: -4.7278\n",
       "     ┌───────────────┐     ┌───────────────────────────┐\n",
       "q_0: ┤ R(1.0098,π/2) ├──■──┤ U3(1.7278,4.4604,-1.1656) ├\n",
       "     └───────────────┘┌─┴─┐└──┬─────────────────────┬──┘\n",
       "q_1: ─────────────────┤ X ├───┤ U3(2.1845,3.3378,0) ├───\n",
       "                      └───┘   └─────────────────────┘   </pre>"
      ],
      "text/plain": [
       "global phase: -4.7278\n",
       "     ┌───────────────┐     ┌───────────────────────────┐\n",
       "q_0: ┤ R(1.0098,π/2) ├──■──┤ U3(1.7278,4.4604,-1.1656) ├\n",
       "     └───────────────┘┌─┴─┐└──┬─────────────────────┬──┘\n",
       "q_1: ─────────────────┤ X ├───┤ U3(2.1845,3.3378,0) ├───\n",
       "                      └───┘   └─────────────────────┘   "
      ]
     },
     "execution_count": 24,
     "metadata": {},
     "output_type": "execute_result"
    }
   ],
   "source": [
    "state = random_statevector(4).data\n",
    "qc    = two_qubit_state(state)\n",
    "qc.decompose().draw()"
   ]
  },
  {
   "cell_type": "markdown",
   "id": "05c41d1c",
   "metadata": {},
   "source": [
    "**State generated with circuit**"
   ]
  },
  {
   "cell_type": "code",
   "execution_count": 25,
   "id": "71bf6d06",
   "metadata": {},
   "outputs": [
    {
     "data": {
      "text/latex": [
       "$\\displaystyle \\left[\\begin{matrix}0.30604 + 0.3858 i\\\\0.23186 - 0.40268 i\\\\0.25725 + 0.19526 i\\\\-0.63667 + 0.17869 i\\end{matrix}\\right]$"
      ],
      "text/plain": [
       "Matrix([\n",
       "[  0.30604 + 0.3858*I],\n",
       "[ 0.23186 - 0.40268*I],\n",
       "[ 0.25725 + 0.19526*I],\n",
       "[-0.63667 + 0.17869*I]])"
      ]
     },
     "execution_count": 25,
     "metadata": {},
     "output_type": "execute_result"
    }
   ],
   "source": [
    "circ = Statevector(qc.reverse_bits()).data\n",
    "Matrix(np.round(circ, 5))"
   ]
  },
  {
   "cell_type": "markdown",
   "id": "d9bf2dae",
   "metadata": {},
   "source": [
    "**Randomly generated state**"
   ]
  },
  {
   "cell_type": "code",
   "execution_count": 26,
   "id": "7ddab2fc",
   "metadata": {},
   "outputs": [
    {
     "data": {
      "text/latex": [
       "$\\displaystyle \\left[\\begin{matrix}0.30604 + 0.3858 i\\\\0.23186 - 0.40268 i\\\\0.25725 + 0.19526 i\\\\-0.63667 + 0.17869 i\\end{matrix}\\right]$"
      ],
      "text/plain": [
       "Matrix([\n",
       "[  0.30604 + 0.3858*I],\n",
       "[ 0.23186 - 0.40268*I],\n",
       "[ 0.25725 + 0.19526*I],\n",
       "[-0.63667 + 0.17869*I]])"
      ]
     },
     "execution_count": 26,
     "metadata": {},
     "output_type": "execute_result"
    }
   ],
   "source": [
    "Matrix(np.round(state, 5))"
   ]
  },
  {
   "cell_type": "markdown",
   "id": "be8b0fae",
   "metadata": {},
   "source": [
    "As it is evident, we were not considering complex statevectors in the simple walkthrough before. But considering them is not too hard as you can see from the function above. Instead of calculating the angles for a $U$ gate, we can just construct the unitary matrix from the statevectors $|\\psi_i\\rangle$ and $|\\phi_i\\rangle$. Qiskit then takes care of converting that into a $U$ gate and keeps track of global phase. To make sure this works, we can run it for a large amount of times and check the state generated is equal to the expected state. "
   ]
  },
  {
   "cell_type": "code",
   "execution_count": 27,
   "id": "4a42c2b8",
   "metadata": {},
   "outputs": [],
   "source": [
    "for _ in range(100):\n",
    "    state = random_statevector(4).data\n",
    "    qc    = two_qubit_state(state)\n",
    "    circ  = Statevector(qc.reverse_bits()).data\n",
    "        \n",
    "    assert np.allclose(circ, state)"
   ]
  },
  {
   "cell_type": "code",
   "execution_count": null,
   "id": "a356280a",
   "metadata": {},
   "outputs": [],
   "source": []
  }
 ],
 "metadata": {
  "kernelspec": {
   "display_name": "Python 3",
   "language": "python",
   "name": "python3"
  },
  "language_info": {
   "codemirror_mode": {
    "name": "ipython",
    "version": 3
   },
   "file_extension": ".py",
   "mimetype": "text/x-python",
   "name": "python",
   "nbconvert_exporter": "python",
   "pygments_lexer": "ipython3",
   "version": "3.8.8"
  }
 },
 "nbformat": 4,
 "nbformat_minor": 5
}
