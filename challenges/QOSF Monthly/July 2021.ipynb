{
 "cells": [
  {
   "cell_type": "markdown",
   "metadata": {},
   "source": [
    "# July 2021 Challenge: Quantum State Tomography\n",
    "\n",
    "[Quantum state tomography](https://en.wikipedia.org/wiki/Quantum_tomography) is the process of reconstructing an unknown quantum state by taking measurements in different bases, and using the result outcomes to estimate its probability amplitides. This is done under the assumption that the same state can be prepared or given to us repeatedly so the process can be performed enough times to build statistical significance. Resource [A] may be helpful as an introduction.\n",
    "\n",
    "For this challenge, your job is to write a program that performs state tomography for an input state, and also returns the [fidelity](https://en.wikipedia.org/wiki/Fidelity_of_quantum_states) of the predicted outcome with respect to the input quantum state. Resource [B] may be helpful to check your work against.\n",
    "\n",
    "**Level 1:** Implement a program to perform quantum state tomography for a 1-qubit state. Report the fidelity of the predicted state as function of the number of samples/shots [2].\n",
    "\n",
    "**Level 2:** Generalize the program to perform quantum state tomography on an n-qubit state. Report the fidelity of the predicted state as function of the number of samples/shots. Keep in mind that you might want to try this for a relatively small number of qubits when you decide to simulate your program. \n",
    "\n",
    "**Level 3:** Instead of trying to reconstructing the state through simple repeated measurements, consider implementing a program that uses variational approach to adjust the parameters of a quantum circuit to reconstruct the unknown state. **Hint**: Consider how using the [SWAP test](https://en.wikipedia.org/wiki/Swap_test) in different measurement bases can help acomplish this [1].\n",
    "\n",
    "**Resources**\n",
    "\n",
    "[A] Quantum state tomography as a numerical optimization problem. \n",
    "Niklas Rohling. https://www.youtube.com/watch?v=Wk6h6NyXkAg  \n",
    "[B] Qiskit Quantum Tomography Tutorial. https://qiskit.org/documentation/tutorials/noise/8_tomography.html  \n",
    "\n",
    "**References**\n",
    "\n",
    "[1] Variational Quantum Circuits for Quantum State Tomograph. Yong Liu, et. al. https://arxiv.org/pdf/1912.07286.pdf  \n",
    "[2] Quantum State Tomography of a Single Qubit: Comparison of Methods. Roman Schmied. https://arxiv.org/pdf/1407.4759.pdf  \n",
    "[3] Quantum State Tomography. J. B. Altepeter, et. al. http://research.physics.illinois.edu/QI/Photonics/tomography-files/tomo_chapter_2004.pdf  "
   ]
  },
  {
   "cell_type": "markdown",
   "metadata": {},
   "source": [
    "# Imports"
   ]
  },
  {
   "cell_type": "code",
   "execution_count": 6,
   "metadata": {},
   "outputs": [],
   "source": [
    "import numpy as np\n",
    "import matplotlib.pyplot as plt\n",
    "import itertools\n",
    "from qiskit import *\n",
    "from qiskit.visualization import plot_histogram\n",
    "from sympy import Matrix\n",
    "from scipy.optimize import curve_fit, minimize\n",
    "from scipy.linalg import eig as eig_solver\n",
    "from scipy.linalg import sqrtm\n",
    "from IPython.display import clear_output\n",
    "\n",
    "# np.seterr(all=\"ignore\")"
   ]
  },
  {
   "cell_type": "markdown",
   "metadata": {},
   "source": [
    "# Level 1\n",
    "We consider each combination of Pauli basis to measure each qubit, generally, this would yield $3^n$ measurements where $n$ is the number of qubits. Since we are working with a single qubit state, we will only perform three measurements. To implement these measurements, we use the circuits given [here](https://quantumcomputing.stackexchange.com/a/13611/16092).\n",
    "\n",
    "To use the measurements to construct the predicted density matrix, we first construct the $\\mu$ matrix detailed in [Maximum Likelihood, Minimum Effort](https://arxiv.org/abs/1106.5458) by John A. Smolin, Jay M. Gambetta, and Graeme Smith, and then perform the *Fast algorithm for Subproblem 1* outlined in the same paper."
   ]
  },
  {
   "cell_type": "code",
   "execution_count": 137,
   "metadata": {},
   "outputs": [],
   "source": [
    "def one_qubit_tomography(input_state, samples):\n",
    "    \"\"\"\n",
    "    Performs quantum state tomography in a single qubit.\n",
    "    \n",
    "    Parameters:\n",
    "        input_state: np.array\n",
    "            1-qubit state for which we want to perform quantum state tomography\n",
    "        samples: int\n",
    "            Number of samples available of the input state\n",
    "    \n",
    "    Returns:\n",
    "        predicted_state: np.array\n",
    "            Density matrix of state predicted via quantum state tomography\n",
    "        fidelity: float\n",
    "            Fidelity of predicted state in respected to input state\n",
    "    \"\"\"\n",
    "    input_state = np.array(input_state)\n",
    "    \n",
    "    circuits = []\n",
    "    \n",
    "    # Z basis measurement\n",
    "    qc = QuantumCircuit(1)\n",
    "    qc.initialize(input_state, 0)\n",
    "    qc.measure_all()\n",
    "    circuits.append(qc)\n",
    "    \n",
    "    # X basis measurement\n",
    "    qc = QuantumCircuit(1)\n",
    "    qc.initialize(input_state, 0)\n",
    "    qc.h(0)\n",
    "    qc.measure_all()\n",
    "    circuits.append(qc)\n",
    "    \n",
    "    # Y basis measurement\n",
    "    qc = QuantumCircuit(1)\n",
    "    qc.initialize(input_state, 0)\n",
    "    qc.sdg(0)\n",
    "    qc.h(0)\n",
    "    qc.measure_all()\n",
    "    circuits.append(qc)\n",
    "    \n",
    "    # run circuits\n",
    "    backend = Aer.get_backend('qasm_simulator')\n",
    "    job     = execute(circuits, backend, shots=samples)\n",
    "    counts  = job.result().get_counts()\n",
    "    \n",
    "    # get expectation values, ordered the same way as the circuits\n",
    "    expectation_vals = []\n",
    "    for count in counts:\n",
    "        m = (count.get('0', 0) - count.get('1', 0)) / samples\n",
    "        expectation_vals.append(m)\n",
    "    \n",
    "    # calculate µ matrix\n",
    "    Z  = np.array([[1, 0], [0, -1]])\n",
    "    X  = np.array([[0, 1], [1, 0]])\n",
    "    Y  = np.array([[0, -1j], [1j, 0]])\n",
    "    I  = np.array([[1, 0], [0, 1]])\n",
    "    mu = (I + expectation_vals[0] * Z + expectation_vals[1] * X + expectation_vals[2] * Y) / 2\n",
    "\n",
    "    # calculate eigenvalues of µ matrix\n",
    "    eigen = np.linalg.eig(mu)\n",
    "    vals  = eigen[0]\n",
    "    vecs  = eigen[1].transpose()\n",
    "\n",
    "    # order eigenvalues from largest to smallest\n",
    "    eig_vals = sorted(vals, reverse=True)\n",
    "    idx      = []\n",
    "    for val in eig_vals:\n",
    "        idx.append(np.where(vals == val)[0][0])\n",
    "    eig_vecs = []\n",
    "    for i in idx:\n",
    "        eig_vecs.append(vecs[i])\n",
    "        \n",
    "    # calculate eigenvalues of the density matrix\n",
    "    accumulator = 0\n",
    "    lamb_vals   = [None] * len(eig_vals)\n",
    "    for i in range(len(eig_vals) - 1, -1, -1):\n",
    "        if eig_vals[i] + (accumulator / (i + 1)) >= 0:\n",
    "            for j in range(i + 1):\n",
    "                lamb_vals[j] = eig_vals[j] +  (accumulator / (i + 1))\n",
    "            break\n",
    "        else:\n",
    "            lamb_vals[i] = 0\n",
    "            accumulator  += eig_vals[i]\n",
    "\n",
    "    # calculate density matrix\n",
    "    predicted_state = lamb_vals[0] * np.outer(eig_vecs[0], eig_vecs[0].conj()) \\\n",
    "                        + lamb_vals[1] * np.outer(eig_vecs[1], eig_vecs[1].conj())\n",
    "    \n",
    "    # calculate fidelity\n",
    "    fidelity = input_state.conj().dot(predicted_state).dot(input_state)\n",
    "    \n",
    "    return predicted_state, fidelity"
   ]
  },
  {
   "cell_type": "code",
   "execution_count": 319,
   "metadata": {},
   "outputs": [
    {
     "name": "stdout",
     "output_type": "stream",
     "text": [
      "Predicted density matrix:\n"
     ]
    },
    {
     "data": {
      "text/latex": [
       "$\\displaystyle \\left[\\begin{matrix}0.5 & 0.49752 + 0.04975 i\\\\0.49752 - 0.04975 i & 0.5\\end{matrix}\\right]$"
      ],
      "text/plain": [
       "Matrix([\n",
       "[                0.5, 0.49752 + 0.04975*I],\n",
       "[0.49752 - 0.04975*I,                 0.5]])"
      ]
     },
     "metadata": {},
     "output_type": "display_data"
    },
    {
     "name": "stdout",
     "output_type": "stream",
     "text": [
      "With fidelity: (0.99752+0j)\n"
     ]
    }
   ],
   "source": [
    "density, fidelity = one_qubit_tomography(np.array([np.sqrt(1 / 2), np.sqrt(1 / 2)]), 100)\n",
    "print('Predicted density matrix:')\n",
    "display(Matrix(np.round(density, 5)))\n",
    "print(f'With fidelity: {np.round(fidelity, 5)}') "
   ]
  },
  {
   "cell_type": "markdown",
   "metadata": {},
   "source": [
    "To calculate the fidelity based on the number of shots, I ran the function defined above for a wide range of shots. Remember that each measurement circuit is ran this number of shots, so in reality the total number of shots is the number passed to the function times three."
   ]
  },
  {
   "cell_type": "code",
   "execution_count": 320,
   "metadata": {},
   "outputs": [],
   "source": [
    "shots      = []\n",
    "fidelities = []\n",
    "\n",
    "initial_state = np.array([np.sqrt(1 / 2), np.sqrt(1 / 2)])\n",
    "\n",
    "for i in range(2, 1500):\n",
    "    shots.append(i)\n",
    "    density, fidelity = one_qubit_tomography(initial_state, i)\n",
    "    fidelities.append(fidelity)\n",
    "    \n",
    "shots = np.array(shots)"
   ]
  },
  {
   "cell_type": "code",
   "execution_count": 321,
   "metadata": {},
   "outputs": [
    {
     "data": {
      "image/png": "[encoded data removed]",
      "text/plain": [
       "<Figure size 1008x432 with 1 Axes>"
      ]
     },
     "metadata": {
      "needs_background": "light"
     },
     "output_type": "display_data"
    }
   ],
   "source": [
    "plt.figure(figsize=(14, 6))\n",
    "plt.plot(shots, np.real(fidelities))\n",
    "plt.ylabel('Fidelity')\n",
    "plt.xlabel('Shots per measurement')\n",
    "plt.title('Shots against fidelity for one qubit state tomography');"
   ]
  },
  {
   "cell_type": "code",
   "execution_count": 322,
   "metadata": {},
   "outputs": [
    {
     "data": {
      "image/png": "[encoded data removed]",
      "text/plain": [
       "<Figure size 1008x432 with 1 Axes>"
      ]
     },
     "metadata": {
      "needs_background": "light"
     },
     "output_type": "display_data"
    }
   ],
   "source": [
    "def func(t, a, b, c):\n",
    "    return a * np.log(t * b) + c\n",
    "popt, pcov = curve_fit(func, shots, np.real(fidelities), p0=(1, 1, 1))\n",
    "\n",
    "plt.figure(figsize=(14, 6))\n",
    "plt.plot(shots, np.real(fidelities), label=\"Original data\")\n",
    "plt.plot(shots, func(shots, *popt), 'r-', label=\"Fitted Curve\")\n",
    "plt.legend();"
   ]
  },
  {
   "cell_type": "code",
   "execution_count": 323,
   "metadata": {},
   "outputs": [
    {
     "name": "stdout",
     "output_type": "stream",
     "text": [
      "Peak fidelity found at 917 shots\n"
     ]
    }
   ],
   "source": [
    "for i in range(2, 1500):\n",
    "    if func(i, *popt) >= 1:\n",
    "        print(f'Peak fidelity found at {i} shots')\n",
    "        break"
   ]
  },
  {
   "cell_type": "markdown",
   "metadata": {},
   "source": [
    "After running this code for different states assigned to `initial_state`, the logarithm function that fits the fidelities mostly crossed the value 1 after around 900 shots for simple states like $|0\\rangle$ and $|+\\rangle$. However, for more complicated states like $\\begin{pmatrix} 1/\\sqrt{3} & \\sqrt{2/3} \\end{pmatrix}^T$, this fidelity was achieved after around 1100 shots. However, this is because the data in this case is more noise as shown in the graph above. It can easily be seen that fidelities of 1 are already being achieved steadily around the 1000 shots mark. Therefore, 1000 shots should be a good amount for any state.\n",
    "\n",
    "As you can see below, this number of shots produces good results for various types of initial states. In these I've rounded the expected density matrix up to only three decimals to show the closeness to the actual density matrix."
   ]
  },
  {
   "cell_type": "code",
   "execution_count": 267,
   "metadata": {},
   "outputs": [
    {
     "name": "stdout",
     "output_type": "stream",
     "text": [
      "Predicted density matrix:\n"
     ]
    },
    {
     "data": {
      "text/latex": [
       "$\\displaystyle \\left[\\begin{matrix}0.001 & -0.023 + 0.017 i\\\\-0.023 - 0.017 i & 0.999\\end{matrix}\\right]$"
      ],
      "text/plain": [
       "Matrix([\n",
       "[           0.001, -0.023 + 0.017*I],\n",
       "[-0.023 - 0.017*I,            0.999]])"
      ]
     },
     "metadata": {},
     "output_type": "display_data"
    },
    {
     "name": "stdout",
     "output_type": "stream",
     "text": [
      "With fidelity: (0.99918+0j)\n"
     ]
    }
   ],
   "source": [
    "density, fidelity = one_qubit_tomography(np.array([0, 1]), 1000)\n",
    "print('Predicted density matrix:')\n",
    "display(Matrix(np.round(density, 3)))\n",
    "print(f'With fidelity: {np.round(fidelity, 5)}') "
   ]
  },
  {
   "cell_type": "code",
   "execution_count": 263,
   "metadata": {},
   "outputs": [
    {
     "name": "stdout",
     "output_type": "stream",
     "text": [
      "Predicted density matrix:\n"
     ]
    },
    {
     "data": {
      "text/latex": [
       "$\\displaystyle \\left[\\begin{matrix}0.641 & -0.016 - 0.474 i\\\\-0.016 + 0.474 i & 0.359\\end{matrix}\\right]$"
      ],
      "text/plain": [
       "Matrix([\n",
       "[           0.641, -0.016 - 0.474*I],\n",
       "[-0.016 + 0.474*I,            0.359]])"
      ]
     },
     "metadata": {},
     "output_type": "display_data"
    },
    {
     "name": "stdout",
     "output_type": "stream",
     "text": [
      "With fidelity: (0.99389+0j)\n"
     ]
    }
   ],
   "source": [
    "density, fidelity = one_qubit_tomography(np.array([np.sqrt(2 / 3), 1j * np.sqrt(1 / 3)]), 1000)\n",
    "print('Predicted density matrix:')\n",
    "display(Matrix(np.round(density, 3)))\n",
    "print(f'With fidelity: {np.round(fidelity, 5)}') "
   ]
  },
  {
   "cell_type": "code",
   "execution_count": 304,
   "metadata": {},
   "outputs": [
    {
     "name": "stdout",
     "output_type": "stream",
     "text": [
      "Predicted density matrix:\n"
     ]
    },
    {
     "data": {
      "text/latex": [
       "$\\displaystyle \\left[\\begin{matrix}0.203 & 0.401 - 0.031 i\\\\0.401 + 0.031 i & 0.797\\end{matrix}\\right]$"
      ],
      "text/plain": [
       "Matrix([\n",
       "[          0.203, 0.401 - 0.031*I],\n",
       "[0.401 + 0.031*I,           0.797]])"
      ]
     },
     "metadata": {},
     "output_type": "display_data"
    },
    {
     "name": "stdout",
     "output_type": "stream",
     "text": [
      "With fidelity: (0.99905-0j)\n"
     ]
    }
   ],
   "source": [
    "density, fidelity = one_qubit_tomography(np.array([np.sqrt(1 / 5), np.sqrt(4 / 5)]), 1000)\n",
    "print('Predicted density matrix:')\n",
    "display(Matrix(np.round(density, 3)))\n",
    "print(f'With fidelity: {np.round(fidelity, 5)}') "
   ]
  },
  {
   "cell_type": "markdown",
   "metadata": {},
   "source": [
    "# Level 2\n",
    "For an easier time working on the generalized version of the above, I first breakdown the above function into smaller functions. Starting with adding the measurement gates for each of the single qubit basis. "
   ]
  },
  {
   "cell_type": "code",
   "execution_count": 3,
   "metadata": {},
   "outputs": [],
   "source": [
    "def measure_x_basis(qc, qubit):\n",
    "    \"\"\"\n",
    "    Add a measurement in the X basis to the given qubit\n",
    "    \n",
    "    Parameters:\n",
    "        qc: QuantumCircuit\n",
    "            Quantum circuit with the qubit to which you want to add the measurement\n",
    "        qubit: int\n",
    "            Index of qubit you want to add the measurement to\n",
    "    \"\"\"\n",
    "    qc.h(qubit)\n",
    "    qc.measure(qubit, qubit)"
   ]
  },
  {
   "cell_type": "code",
   "execution_count": 4,
   "metadata": {},
   "outputs": [],
   "source": [
    "def measure_y_basis(qc, qubit):\n",
    "    \"\"\"\n",
    "    Add a measurement in the Y basis to the given qubit\n",
    "    \n",
    "    Parameters:\n",
    "        qc: QuantumCircuit\n",
    "            Quantum circuit with the qubit to which you want to add the measurement\n",
    "        qubit: int\n",
    "            Index of qubit you want to add the measurement to\n",
    "    \"\"\"\n",
    "    qc.sdg(qubit)\n",
    "    qc.h(qubit)\n",
    "    qc.measure(qubit, qubit)"
   ]
  },
  {
   "cell_type": "code",
   "execution_count": 5,
   "metadata": {},
   "outputs": [],
   "source": [
    "def measure_z_basis(qc, qubit):\n",
    "    \"\"\"\n",
    "    Add a measurement in the Z basis to the given qubit\n",
    "    \n",
    "    Parameters:\n",
    "        qc: QuantumCircuit\n",
    "            Quantum circuit with the qubit to which you want to add the measurement\n",
    "        qubit: int\n",
    "            Index of qubit you want to add the measurement to\n",
    "    \"\"\"\n",
    "    qc.measure(qubit, qubit)"
   ]
  },
  {
   "cell_type": "markdown",
   "metadata": {},
   "source": [
    "Now a function that returns all the strings in $\\{X, Y, Z\\}^n$ (or any other set of values), which will help us get all the possible measurement bases for an $n$-qubit system."
   ]
  },
  {
   "cell_type": "code",
   "execution_count": 6,
   "metadata": {},
   "outputs": [],
   "source": [
    "def measurements_strings(n, arr=['X', 'Y', 'Z']):\n",
    "    strs  = []\n",
    "    combs = list(itertools.combinations_with_replacement(arr, n))\n",
    "    for comb in combs:\n",
    "        for item in set(list(itertools.permutations(comb))):\n",
    "            strs.append(item)\n",
    "    return strs"
   ]
  },
  {
   "cell_type": "code",
   "execution_count": 7,
   "metadata": {},
   "outputs": [
    {
     "data": {
      "text/plain": [
       "81"
      ]
     },
     "execution_count": 7,
     "metadata": {},
     "output_type": "execute_result"
    }
   ],
   "source": [
    "len(measurements_strings(4))"
   ]
  },
  {
   "cell_type": "markdown",
   "metadata": {},
   "source": [
    "Also a function that given an array of operators in $\\{I, X, Y, Z\\}$ computes their tensor product."
   ]
  },
  {
   "cell_type": "code",
   "execution_count": 8,
   "metadata": {},
   "outputs": [],
   "source": [
    "def tensor_operator(arr):\n",
    "    arr = list(arr)[::-1]\n",
    "    \n",
    "    I = np.array([[1, 0], [0, 1]])\n",
    "    X = np.array([[0, 1], [1, 0]])\n",
    "    Y  = np.array([[0, -1j], [1j, 0]])\n",
    "    Z = np.array([[1, 0], [0, -1]])\n",
    "    \n",
    "    first = arr.pop(0)\n",
    "    if first == 'I':\n",
    "        out = I\n",
    "    elif first == 'X':\n",
    "        out = X\n",
    "    elif first == 'Y':\n",
    "        out = Y\n",
    "    else:\n",
    "        out = Z\n",
    "        \n",
    "    for op in arr:\n",
    "        if op == 'I':\n",
    "            out = np.kron(out, I)\n",
    "        elif op == 'X':\n",
    "            out = np.kron(out, X)\n",
    "        elif op == 'Y':\n",
    "            out = np.kron(out, Y)\n",
    "        else:\n",
    "            out = np.kron(out, Z)\n",
    "\n",
    "    return out.astype('complex')"
   ]
  },
  {
   "cell_type": "code",
   "execution_count": 9,
   "metadata": {},
   "outputs": [
    {
     "data": {
      "text/plain": [
       "array([[ 0.+0.j,  1.+0.j,  0.+0.j,  0.+0.j],\n",
       "       [ 1.+0.j,  0.+0.j,  0.+0.j,  0.+0.j],\n",
       "       [ 0.+0.j,  0.+0.j,  0.+0.j, -1.+0.j],\n",
       "       [ 0.+0.j,  0.+0.j, -1.+0.j,  0.+0.j]])"
      ]
     },
     "execution_count": 9,
     "metadata": {},
     "output_type": "execute_result"
    }
   ],
   "source": [
    "tensor_operator(['X', 'Z'])"
   ]
  },
  {
   "cell_type": "markdown",
   "metadata": {},
   "source": [
    "We also need a function that is able to get the expectation value of a given operator. This function should also be able to get the expectation value for operators where the identity matrix is present, although this wasn't measured in any circuit. To achieve this, we default all appearances of the identity to $X$ and ignore the correspodning qubit in the counts."
   ]
  },
  {
   "cell_type": "code",
   "execution_count": 10,
   "metadata": {},
   "outputs": [],
   "source": [
    "def get_exp_value(operator_exp, operators_meas, counts, shots):\n",
    "    \"\"\"\n",
    "    Parameters:\n",
    "        operator_exp: tuple\n",
    "        operators_meas: list\n",
    "        counts: list\n",
    "        shots: int\n",
    "    \"\"\"\n",
    "    new_counts = {}\n",
    "    ignore = []\n",
    "    \n",
    "    # if the operator of the expectation value contains the identity in any qubit\n",
    "    if 'I' in operator_exp: \n",
    "        rep_op = []\n",
    "        for idx, x in enumerate(operator_exp):\n",
    "            if x == 'I':\n",
    "                ignore.append(idx)\n",
    "                rep_op.append('X')\n",
    "            else:\n",
    "                rep_op.append(x) \n",
    "    # if there aren't any identities in the expectation operator\n",
    "    else:                   \n",
    "        rep_op = operator_exp\n",
    "        \n",
    "    # get index of operator_exp in experiment operator_meas, which is the same as in counts\n",
    "    for idx, x in enumerate(operators_meas):\n",
    "        if x == tuple(rep_op):\n",
    "            count_idx = idx\n",
    "\n",
    "    # create new counts dictionary\n",
    "    for idx, value in counts[count_idx].items():\n",
    "        w = idx[::-1]\n",
    "        for i in ignore:\n",
    "            w = w[:i] + 'x' + w[i + 1:]\n",
    "        if w in new_counts.keys():\n",
    "            new_counts[w] += value\n",
    "        else:\n",
    "            new_counts[w] = value\n",
    "                \n",
    "    # get expectation value\n",
    "    exp_value = 0\n",
    "    for idx, num_meas in new_counts.items():\n",
    "        meas_val = 1\n",
    "        for x in idx:\n",
    "            if x == '1':\n",
    "                meas_val *= -1\n",
    "            else:\n",
    "                pass        \n",
    "        exp_value += meas_val * num_meas\n",
    "    exp_value /= shots\n",
    "        \n",
    "    return exp_value"
   ]
  },
  {
   "cell_type": "markdown",
   "metadata": {},
   "source": [
    "Finally, a function that applies the optimization procedure for the $\\mu$ matrix obtained from the expectation values and operators."
   ]
  },
  {
   "cell_type": "code",
   "execution_count": 11,
   "metadata": {},
   "outputs": [],
   "source": [
    "def mu_optimize(mu, n):\n",
    "    # calculate eigenvalues of µ matrix\n",
    "    eigen = np.linalg.eig(mu)\n",
    "    vals  = eigen[0]\n",
    "    vecs  = eigen[1].transpose()\n",
    "\n",
    "    # order eigenvalues from largest to smallest\n",
    "    eig_vals = sorted(vals, reverse=True)\n",
    "    idx      = []\n",
    "    for val in eig_vals:\n",
    "        idx.append(np.where(vals == val)[0][0])\n",
    "    eig_vecs = []\n",
    "    for i in idx:\n",
    "        eig_vecs.append(vecs[i])\n",
    "        \n",
    "    # calculate eigenvalues of the density matrix\n",
    "    accumulator = 0\n",
    "    lamb_vals   = [None] * len(eig_vals)\n",
    "    for i in range(len(eig_vals) - 1, -1, -1):\n",
    "        if eig_vals[i] + (accumulator / (i + 1)) >= 0:\n",
    "            for j in range(i + 1):\n",
    "                lamb_vals[j] = eig_vals[j] +  (accumulator / (i + 1))\n",
    "            break\n",
    "        else:\n",
    "            lamb_vals[i] = 0\n",
    "            accumulator  += eig_vals[i]\n",
    "\n",
    "    # calculate density matrix\n",
    "    predicted_state = np.zeros((2 ** n, 2 ** n), 'complex')\n",
    "    for idx, lamb_val in enumerate(lamb_vals):\n",
    "        predicted_state += lamb_vals[idx] * np.outer(eig_vecs[idx], eig_vecs[idx].conj())\n",
    "    \n",
    "    return predicted_state"
   ]
  },
  {
   "cell_type": "markdown",
   "metadata": {},
   "source": [
    "And now the main function."
   ]
  },
  {
   "cell_type": "code",
   "execution_count": 12,
   "metadata": {},
   "outputs": [],
   "source": [
    "def tomography(input_state, samples):\n",
    "    \"\"\"\n",
    "    Performs quantum state tomography in an n-qubit state.\n",
    "    \n",
    "    Parameters:\n",
    "        input_state: np.array\n",
    "            n-qubit state for which we want to perform quantum state tomography\n",
    "        samples: int\n",
    "            Number of samples available of the input state\n",
    "    \n",
    "    Returns:\n",
    "        predicted_state: np.array\n",
    "            Density matrix of state predicted via quantum state tomography\n",
    "        fidelity: float\n",
    "            Fidelity of predicted state in respected to input state\n",
    "    \"\"\"\n",
    "    # get number of qubits and bases to be measured in\n",
    "    n     = int(np.log(len(input_state)) / np.log(2))\n",
    "    bases = measurements_strings(n)\n",
    "    \n",
    "    # generate 3^n circuits with each measurement operator in {X, Y, Z}^n\n",
    "    circs = []\n",
    "    for base in bases:\n",
    "        qc = QuantumCircuit(n, n)\n",
    "        qc.initialize(input_state)\n",
    "        for idx, b in enumerate(base):\n",
    "            if b == 'X':\n",
    "                measure_x_basis(qc, idx)\n",
    "            elif b == 'Y':\n",
    "                measure_y_basis(qc, idx)\n",
    "            elif b == 'Z':\n",
    "                measure_z_basis(qc, idx)\n",
    "        circs.append(qc)\n",
    "    \n",
    "    # run circuits\n",
    "    backend = Aer.get_backend('qasm_simulator')\n",
    "    job     = execute(circs, backend, shots=samples) # each measurement basis gets a third of the available copies\n",
    "    counts  = job.result().get_counts()\n",
    "    \n",
    "    # get all expectation values\n",
    "    ops      = measurements_strings(n, arr=['I', 'X', 'Y', 'Z'])[1:] # we need to consider identity operator here\n",
    "    exp_vals = []\n",
    "    for op in ops:\n",
    "        exp_vals.append(get_exp_value(op, bases, counts, samples))\n",
    "\n",
    "    # calculate µ matrix \n",
    "    mu = tensor_operator(['I' for _ in range(n)])\n",
    "    for idx, op in enumerate(ops):\n",
    "        mu += exp_vals[idx] * tensor_operator(op)\n",
    "    mu /= (2 ** n)\n",
    "    \n",
    "    # optimize the µ matrix to get the predicted density matrix\n",
    "    predicted_state = mu_optimize(mu, n)\n",
    "    \n",
    "    # calculate fidelity\n",
    "    fidelity = input_state.conj().dot(predicted_state).dot(input_state)\n",
    "    \n",
    "    return predicted_state, fidelity"
   ]
  },
  {
   "cell_type": "code",
   "execution_count": 13,
   "metadata": {},
   "outputs": [
    {
     "name": "stdout",
     "output_type": "stream",
     "text": [
      "Predicted density matrix:\n"
     ]
    },
    {
     "data": {
      "text/latex": [
       "$\\displaystyle \\left[\\begin{matrix}0.503 & 0.5 - 0.014 i\\\\0.5 + 0.014 i & 0.497\\end{matrix}\\right]$"
      ],
      "text/plain": [
       "Matrix([\n",
       "[        0.503, 0.5 - 0.014*I],\n",
       "[0.5 + 0.014*I,         0.497]])"
      ]
     },
     "metadata": {},
     "output_type": "display_data"
    },
    {
     "name": "stdout",
     "output_type": "stream",
     "text": [
      "With fidelity: (0.9998+0j)\n"
     ]
    }
   ],
   "source": [
    "input_state = np.array([1 / np.sqrt(2), 1 / np.sqrt(2)])\n",
    "\n",
    "density, fidelity = tomography(input_state, 1000)\n",
    "print('Predicted density matrix:')\n",
    "display(Matrix(np.round(density, 3)))\n",
    "print(f'With fidelity: {np.round(fidelity, 5)}') "
   ]
  },
  {
   "cell_type": "markdown",
   "metadata": {},
   "source": [
    "To test the fidelity as a function of the number of shots for different number of qubits $n$, I run the tomography function for the equal superposition state of each $n$ qubits and for various number of shots."
   ]
  },
  {
   "cell_type": "code",
   "execution_count": 338,
   "metadata": {},
   "outputs": [],
   "source": [
    "results = []\n",
    "\n",
    "for i in range(1, 6):\n",
    "    n              = 2 ** i\n",
    "    input_state    = np.full((n,), 1 / np.sqrt(n))\n",
    "    \n",
    "    fidelities = []    \n",
    "    for j in range(100, 20000, 100):\n",
    "        density, fidelity = tomography(input_state, j)\n",
    "        fidelities.append(fidelity)\n",
    "    results.append(fidelities)"
   ]
  },
  {
   "cell_type": "code",
   "execution_count": 339,
   "metadata": {},
   "outputs": [
    {
     "data": {
      "image/png": "[encoded data removed]",
      "text/plain": [
       "<Figure size 1008x432 with 1 Axes>"
      ]
     },
     "metadata": {
      "needs_background": "light"
     },
     "output_type": "display_data"
    }
   ],
   "source": [
    "domain = np.array(list(range(100, 20000, 100)))\n",
    "plt.figure(figsize=(14, 6))\n",
    "for idx, result in enumerate(results):\n",
    "    plt.plot(domain, np.real(result), label=f'{idx + 1} qubits')\n",
    "    plt.legend()\n",
    "plt.xlabel('Shots per measurement')\n",
    "plt.ylabel('Fidelity of predicted state')\n",
    "plt.title('Fidelity against shots per measurement for states of different dimensions');"
   ]
  },
  {
   "cell_type": "markdown",
   "metadata": {},
   "source": [
    "As you can see, as the number of qubits (dimensions of the state) increases, more shots are needed to achieve a fidelity of 0.99 or higher."
   ]
  },
  {
   "cell_type": "code",
   "execution_count": 340,
   "metadata": {},
   "outputs": [
    {
     "name": "stdout",
     "output_type": "stream",
     "text": [
      "Parameters for 1 qubits: [2.25662320e-04 3.15624272e-03 9.99144752e-01]\n",
      "Parameters for 2 qubits: [0.00293599 0.02721386 0.98107582]\n",
      "Parameters for 3 qubits: [5.52056358e-03 7.28413656e+00 9.33027179e-01]\n",
      "Parameters for 4 qubits: [0.00876006 3.18059885 0.90072793]\n",
      "Parameters for 5 qubits: [0.0128114  8.60617427 0.84200285]\n"
     ]
    },
    {
     "data": {
      "image/png": "[encoded data removed]",
      "text/plain": [
       "<Figure size 1008x432 with 1 Axes>"
      ]
     },
     "metadata": {
      "needs_background": "light"
     },
     "output_type": "display_data"
    }
   ],
   "source": [
    "plt.figure(figsize=(14, 6))\n",
    "parameters = []\n",
    "\n",
    "def func(t, a, b, c):\n",
    "    return a * np.log(t * b) + c\n",
    "\n",
    "for idx, result in enumerate(results):\n",
    "    popt, pcov = curve_fit(func, domain, np.real(result), p0=(1, 1, 1))\n",
    "    parameters.append(popt)\n",
    "    print(f'Parameters for {idx + 1} qubits: {popt}')\n",
    "    # plt.plot(domain, np.real(result), label=f'{idx + 1} qubits')\n",
    "    plt.plot(domain, func(domain, *popt), label=f\"Fitted log for {idx+1} qubits\")\n",
    "    plt.legend()"
   ]
  },
  {
   "cell_type": "code",
   "execution_count": 341,
   "metadata": {},
   "outputs": [
    {
     "name": "stdout",
     "output_type": "stream",
     "text": [
      "From fitted data:\n",
      "Fidelity greater than or equal to 0.99 found at 1 shots for 1 qubits\n",
      "Fidelity greater than or equal to 0.99 found at 768 shots for 2 qubits\n",
      "Fidelity greater than or equal to 0.99 found at 4165 shots for 3 qubits\n",
      "Fidelity greater than or equal to 0.99 found at 8382 shots for 4 qubits\n",
      "Fidelity greater than or equal to 0.99 found at 12083 shots for 5 qubits\n",
      "\n",
      "From experimental data:\n",
      "Fidelity greater than or equal to 0.99 found at 100 shots for 1 qubits\n",
      "Fidelity greater than or equal to 0.99 found at 300 shots for 2 qubits\n",
      "Fidelity greater than or equal to 0.99 found at 1100 shots for 3 qubits\n",
      "Fidelity greater than or equal to 0.99 found at 5000 shots for 4 qubits\n",
      "Fidelity greater than or equal to 0.99 found at 11600 shots for 5 qubits\n"
     ]
    }
   ],
   "source": [
    "print('From fitted data:')\n",
    "for idx, popt in enumerate(parameters):\n",
    "    for i in range(1, 20000):\n",
    "        if func(i, *popt) >= 0.99:\n",
    "            print(f'Fidelity greater than or equal to 0.99 found at {i} shots for {idx + 1} qubits')\n",
    "            break\n",
    "\n",
    "print('\\nFrom experimental data:')\n",
    "for idx, result in enumerate(results):\n",
    "    for i, r in enumerate(result):\n",
    "        if r >= 0.99:\n",
    "            print(f'Fidelity greater than or equal to 0.99 found at {domain[i]} shots for {idx + 1} qubits')\n",
    "            break"
   ]
  },
  {
   "cell_type": "markdown",
   "metadata": {},
   "source": [
    "As you can see, a fitted logarithmic function isn't a great indicator of the number of shots needed to get a fidelity greater than or equal to 0.99, as it overestimates the actual value. This is due that to the fact that after a certain threshold, the fidelities takes value between 0.98 and 1 (this range gets smaller as the number of qubits decreases) that don't seem to follow any pattern/function. Therefore, a better indicator is to get the said threshold from the experimental data, as shown above.\n",
    "\n",
    "However, when we try to find a pattern in the number of shots needed depending on the number of qubits using the experimental data, no clear pattern arises. To see something, we may need to run the simulations for smaller steps than 100 shots, but that would be too computational intensive for the moment. The table for the experimental data is:\n",
    "\n",
    "| # qubits | # shots | first difference | second difference |\n",
    "|---|---|---|---|\n",
    "|1|100|N/A|N/A|\n",
    "|2|300|200|N/A|\n",
    "|3|1100|800|600|\n",
    "|4|5000|3900|3100|\n",
    "|5|11600|6600|2700|\n",
    "\n",
    "Using the fitted data, we get the following table:\n",
    "\n",
    "| # qubits | # shots | first difference | second difference |\n",
    "|---|---|---|---|\n",
    "|1|100|N/A|N/A|\n",
    "|2|768|668|N/A|\n",
    "|3|4165|3397|2729|\n",
    "|4|8382|4217|820|\n",
    "|5|12083|3701|-516|\n",
    "\n",
    "Again, no particularly interesting pattern arises from this table alone. But using the predicted number of shots for 5 qubits yields good results when trying it out in an equal superposition state, as it is shown below."
   ]
  },
  {
   "cell_type": "code",
   "execution_count": 16,
   "metadata": {},
   "outputs": [
    {
     "name": "stdout",
     "output_type": "stream",
     "text": [
      "Fidelity: (0.98879-0j)\n"
     ]
    }
   ],
   "source": [
    "n           = 2 ** 5\n",
    "input_state = np.full((n,), 1 / np.sqrt(n))\n",
    "\n",
    "density, fidelity = tomography(input_state, 12100)\n",
    "print(f'Fidelity: {np.round(fidelity, 5)}') "
   ]
  },
  {
   "cell_type": "markdown",
   "metadata": {},
   "source": [
    "# Level 3\n",
    "Here, a viariational algorithm for quantum state tomography is implemented based on the description for pure states given in section 2 of [*Variational Quantum Circuits for Quantum State Tomography*](https://arxiv.org/abs/1912.07286).\n",
    "\n",
    "First we define a function that builds a variational circuit (ansatz) using a set of parameters. The variational circuit implemented here consists of alternating $R_y$ and $R_x$ gates with alternating $CNOT$ gates in each layer to enable entanglement. This construction is based on that from section 2 of [*Variational Quantum Circuits for Quantum State Tomography*](https://arxiv.org/abs/1912.07286), but the structure of the $CNOT$ gates in each section is altered."
   ]
  },
  {
   "cell_type": "code",
   "execution_count": 2,
   "metadata": {},
   "outputs": [],
   "source": [
    "def ansatz(n, d, qc, reg, params):\n",
    "    \"\"\"\n",
    "    Build ansatz needed for variational circuit.\n",
    "    \n",
    "    Parameters:\n",
    "        n: int\n",
    "            Size of the ansatz circuit\n",
    "        d: int\n",
    "            Number of layers for the ansatz; depth\n",
    "        qc: QuantumCircuit\n",
    "            Qiskit quantum circuit in which to add the ansatz\n",
    "        reg: QuantumRegister\n",
    "            Register to which you want to add the ansatz\n",
    "        params: np.array\n",
    "            Numpy array with the parameters for the rotation gates in the ansatz\n",
    "    \"\"\"\n",
    "    arr_idx = 0\n",
    "    \n",
    "    for i in range(1, d + 1):\n",
    "        # even layers\n",
    "        if i % 2 == 0:\n",
    "            for j in range(n):\n",
    "                qc.ry(params[arr_idx], reg[j])\n",
    "                arr_idx += 1\n",
    "            for k in range(1, n):\n",
    "                if k + 1 > n:\n",
    "                    break\n",
    "                else:\n",
    "                    qc.cz(reg[0], reg[k])\n",
    "                    \n",
    "        # odd layers\n",
    "        else:\n",
    "            for j in range(n):\n",
    "                qc.ry(params[arr_idx], reg[j])\n",
    "                arr_idx += 1\n",
    "            for k in range(n - 2, -1, -1):\n",
    "                if k + 1 > n - 1:\n",
    "                    break\n",
    "                else:\n",
    "                    qc.cz(reg[-1], reg[k])\n",
    "    \n",
    "    # extra final layer\n",
    "    for i in range(n):\n",
    "        qc.rx(params[arr_idx], reg[i])\n",
    "        arr_idx += 1"
   ]
  },
  {
   "cell_type": "markdown",
   "metadata": {},
   "source": [
    "Then we define a function that is able to perform the swap test between two registers of equal size in the same circuit. We will use this to calculate the loss function of the algorithm later on. "
   ]
  },
  {
   "cell_type": "code",
   "execution_count": 3,
   "metadata": {},
   "outputs": [],
   "source": [
    "def swap_test(n, qc, reg_1, reg_2, aux, aux_c, basis=0):\n",
    "    \"\"\"\n",
    "    Add swap test circuit between two registers using an auxilary qubit.\n",
    "    \n",
    "    Paremetrs:\n",
    "        n: int\n",
    "            Size of both registers to which we apply the SWAP test\n",
    "        qc: QuantumCircuit\n",
    "            Quantum circuit containing all the qubits we are going to act on\n",
    "        reg_1: QuantumRegister\n",
    "            First register on the test\n",
    "        reg_2: QuantumRegister\n",
    "            Second register on the test\n",
    "        aux: QuantumRegister\n",
    "            Register with the ancilla qubit used in the SWAP test\n",
    "        aux_c: ClassicalRegister\n",
    "            Register to store measurement value of the aux quantum register\n",
    "        basis: int\n",
    "            Basis in which to perform the SWAP test; 0 for X, 1 for Y and 2 for Z\n",
    "    \"\"\"\n",
    "    # change states in registers to compare to the given basis\n",
    "    if basis == 0:\n",
    "        pass\n",
    "    elif basis == 1:\n",
    "        qc.sdg(reg_1)\n",
    "        qc.h(reg_1)\n",
    "        qc.sdg(reg_2)\n",
    "        qc.h(reg_2)\n",
    "    elif basis == 2:\n",
    "        qc.h(reg_1)\n",
    "        qc.h(reg_2)\n",
    "    \n",
    "    qc.h(aux)\n",
    "    for i in range(n):\n",
    "        qc.cswap(aux, reg_1[i], reg_2[i])\n",
    "    qc.h(aux)\n",
    "    qc.measure(aux, aux_c)"
   ]
  },
  {
   "cell_type": "markdown",
   "metadata": {},
   "source": [
    "Using the two functions above, we can construct a function that calculates the loss function as detailed in the paper already mentioned. This takes the target state and initializes that state into one register of size $n$. Another register of the same size is used to build the variational circuit with some parameters. Once these two steps are done, the SWAP test is performed and the following formula is used to calculate the loss function:\n",
    "\n",
    "$$\n",
    "loss = 1 - \\sqrt{1 - 2 p_1},\n",
    "$$\n",
    "\n",
    "where $p_1$ is the probability of the ancilla qubit used in the SWAP test to be in the state $|1\\rangle$."
   ]
  },
  {
   "cell_type": "code",
   "execution_count": 7,
   "metadata": {},
   "outputs": [],
   "source": [
    "def loss_func(params, ansatz, target_state, n, d, shots, backend):\n",
    "    \"\"\"\n",
    "    Calculate loss function of variational circuit used to reconstruct the target state via state tomography.\n",
    "    \n",
    "    Parameters:\n",
    "        params: np.array\n",
    "            Array with the parameters of the variational circuit to try\n",
    "        ansatz: func\n",
    "            Function that takes a circuit of size n and a set of parameters to add a parametrized circuit to it\n",
    "            Must be of the form: ansatz(n, d, qc, reg, params)\n",
    "        target_state: np.array\n",
    "            Statevector of the target state in which we are performing the tomography\n",
    "        n: int\n",
    "            Number of qubits needed to represent the target state\n",
    "        d: int\n",
    "            Desired depth of the variational circuit\n",
    "        shots: int\n",
    "            Number of times to run the quantum circuit\n",
    "        backend: IBMQBackend\n",
    "            Backend to run the quantum circuit in\n",
    "            \n",
    "    Returns:\n",
    "        loss: float\n",
    "            Calculated loss value through the SWAP test\n",
    "    \"\"\"\n",
    "    loss_vals = []\n",
    "    \n",
    "    for i in range(3):\n",
    "        # initialize all registers and quantum circuit\n",
    "        reg_1 = QuantumRegister(n, 'pure')\n",
    "        reg_2 = QuantumRegister(n, 'var')\n",
    "        aux   = QuantumRegister(1, 'aux')\n",
    "        aux_c = ClassicalRegister(1, 'c')\n",
    "        qc    = QuantumCircuit(reg_1, reg_2, aux, aux_c)\n",
    "\n",
    "        # initialize target state in register 1\n",
    "        init = QuantumCircuit(n) \n",
    "        init.initialize(target_state)\n",
    "        init = transpile(init, basis_gates=['cx', 'u'])\n",
    "        init_gate = init.to_gate(label=' init ')\n",
    "        qc.append(init_gate, reg_1)\n",
    "\n",
    "        # add variational circuit in register 2\n",
    "        ansatz(n, d, qc, reg_2, params)\n",
    "\n",
    "        # perform swap test between registers 1 and 2\n",
    "        swap_test(n, qc, reg_1, reg_2, aux, aux_c, basis=i+1)\n",
    "\n",
    "        # run circuit to calculate the loss function\n",
    "        job     = backend.run(transpile(qc, backend), shots=shots)\n",
    "        counts  = job.result().get_counts()\n",
    "        if 1 - 2 * (counts.get('1', 0) / shots) < 0: # avoid rounding errors\n",
    "            loss = 0\n",
    "        else:\n",
    "            loss = 1 - np.sqrt(1 - 2 * (counts.get('1', 0) / shots))\n",
    "        loss_vals.append(loss)\n",
    "    \n",
    "    clear_output(wait=True)\n",
    "    print(f'X: {loss_vals[0]}. Y: {loss_vals[1]}. Z: {loss_vals[2]}. Avg: {np.average(loss_vals)}')\n",
    "    \n",
    "    return np.average(loss_vals)"
   ]
  },
  {
   "cell_type": "markdown",
   "metadata": {},
   "source": [
    "To test that this loss function works, I'll use an already built optimizer from [SciPy](https://www.scipy.org) that has many optmization methods available. The target state will be randomly generated. The number of layers and shots is quite arbitrary at this point as well as the initial guess for the parameters, which simply is all $0$s. And we use the QASM simulator to run our circuits."
   ]
  },
  {
   "cell_type": "code",
   "execution_count": 8,
   "metadata": {},
   "outputs": [
    {
     "name": "stdout",
     "output_type": "stream",
     "text": [
      "X: 0.0004000800320159703. Y: 0.0006001801080810498. Z: 0.0003000450135051125. Avg: 0.00043343505120071085\n",
      "Target state: [0.17874835 0.47691638 0.54261976 0.66795479]\n",
      "Calculated parameters: [ 0.91775659  0.54839631  0.77820996  0.42159966  0.07590215 -0.05597055\n",
      "  0.0806014   1.41798112 -0.29500414  0.1108828   0.1156926   0.04097329]\n",
      "With loss value: 0.00043343505120071085\n"
     ]
    }
   ],
   "source": [
    "n = 2\n",
    "d = 5\n",
    "shots   = 10000\n",
    "target  = np.random.rand(2 ** n)\n",
    "target  = target / np.linalg.norm(target)\n",
    "# target = np.full(2 ** n, 1 / np.sqrt(2 ** n)) # equal superposition of all basis states\n",
    "guess   = [0 for _ in range(n * d + n)]\n",
    "backend = Aer.get_backend('qasm_simulator')    \n",
    "    \n",
    "op_result = minimize(loss_func, guess, args=(ansatz, target, n, d, shots, backend), method='COBYLA')\n",
    "print(f'Target state: {target}')\n",
    "print(f'Calculated parameters: {op_result.x}')\n",
    "print(f'With loss value: {op_result.fun}')"
   ]
  },
  {
   "cell_type": "markdown",
   "metadata": {},
   "source": [
    "As you can see, the function is able to optimize the parameters really good, as it returns parameters with a small final loss value. We can construct a variational circuit just as the one used in the loss function to check out what state the parameters found by the optimization produce."
   ]
  },
  {
   "cell_type": "code",
   "execution_count": 9,
   "metadata": {},
   "outputs": [
    {
     "data": {
      "image/png": "[encoded data removed]",
      "text/plain": [
       "<Figure size 770.141x144.48 with 1 Axes>"
      ]
     },
     "metadata": {},
     "output_type": "display_data"
    },
    {
     "name": "stdout",
     "output_type": "stream",
     "text": [
      "Ansatz has {'ry': 10, 'cz': 5, 'rx': 2}\n"
     ]
    },
    {
     "data": {
      "text/latex": [
       "$\\displaystyle \\left[\\begin{matrix}0.18303 - 0.03883 i & 0.47793 - 0.02423 i & 0.54171 - 0.04215 i & 0.66262 - 0.04121 i\\end{matrix}\\right]$"
      ],
      "text/plain": [
       "Matrix([[0.18303 - 0.03883*I, 0.47793 - 0.02423*I, 0.54171 - 0.04215*I, 0.66262 - 0.04121*I]])"
      ]
     },
     "execution_count": 9,
     "metadata": {},
     "output_type": "execute_result"
    }
   ],
   "source": [
    "reg = QuantumRegister(n, 'reg')\n",
    "qc  = QuantumCircuit(reg)\n",
    "\n",
    "ansatz(n, d, qc, reg, op_result.x)\n",
    "display(qc.draw('mpl'))\n",
    "\n",
    "backend = Aer.get_backend('statevector_simulator')\n",
    "result  = execute(qc, backend).result()\n",
    "vector  = result.get_statevector()[None]\n",
    "print(f'Ansatz has {dict(qc.count_ops())}')\n",
    "Matrix(np.round(vector, 5))"
   ]
  },
  {
   "cell_type": "markdown",
   "metadata": {},
   "source": [
    "Although we see some imaginary values in the statevector above while the target state contians only real values, the amount of the imaginary coefficients can be greatly reduced by factoring out a global phase out of the statevector. This would still leave a small coefficient for $i$ in the statevector, but the similarity of the state got from the circuit and the target state is good as indicated by the loss function. \n",
    "\n",
    "To see the similarity clearly, we can run the circuit using the QASM simulator to get the estimated probability distribution of the predicted and target states."
   ]
  },
  {
   "cell_type": "code",
   "execution_count": 10,
   "metadata": {},
   "outputs": [
    {
     "data": {
      "image/png": "[encoded data removed]",
      "text/plain": [
       "<Figure size 1008x360 with 1 Axes>"
      ]
     },
     "execution_count": 10,
     "metadata": {},
     "output_type": "execute_result"
    }
   ],
   "source": [
    "reg = QuantumRegister(n)\n",
    "qc  = QuantumCircuit(reg)\n",
    "\n",
    "ansatz(n, d, qc, reg, op_result.x)\n",
    "qc.measure_all()\n",
    "\n",
    "qc2 = QuantumCircuit(n)\n",
    "qc2.initialize(target)\n",
    "qc2.measure_all()\n",
    "\n",
    "backend = Aer.get_backend('qasm_simulator')\n",
    "result  = execute([qc, qc2], backend, shots=10000).result()\n",
    "counts  = result.get_counts()\n",
    "\n",
    "plot_histogram(counts, figsize=(14,5), legend=['Predicted', 'Target'])"
   ]
  },
  {
   "cell_type": "markdown",
   "metadata": {},
   "source": [
    "Although visualizing the counts might be a good indicator at first thought, it doesn't reflect the actual state of our quantum system to perfection, since the QASM simulator simulates the randomness of a quantum computer and therefore the counts for the predicted and target states will not be the same even if the states are exactly the same. Therefore, we can introduce another value.\n",
    "\n",
    "This other good indicator of the accuracy of the predicted state is the state fidelity. This is defined as:\n",
    "\n",
    "$$\n",
    "F(\\rho_1, \\rho_2) = Tr\\left[\\sqrt{\\sqrt{\\rho_1} \\rho_2 \\sqrt{\\rho_1}}\\right]^2,\n",
    "$$\n",
    "\n",
    "where $\\rho_1$ and $\\rho_2$ are the density matrices of the states we are comparing. Since we know that we will only be comparing pure states, the expression for fidelity can be simplified to\n",
    "\n",
    "$$\n",
    "F(\\rho_1, \\rho_2) = \\langle\\psi_1|\\psi_2\\rangle\\langle\\psi_2|\\psi_1\\rangle = |\\langle\\psi_2|\\psi_1\\rangle|^2,\n",
    "$$\n",
    "\n",
    "where $\\rho_i = |\\psi_i\\rangle\\langle\\psi_i|$."
   ]
  },
  {
   "cell_type": "code",
   "execution_count": 11,
   "metadata": {},
   "outputs": [
    {
     "name": "stdout",
     "output_type": "stream",
     "text": [
      "Fidelity of predicted state compared to target state: 0.9991361000514039\n"
     ]
    }
   ],
   "source": [
    "fidelity = np.abs(target.conj().dot(vector[0])) ** 2\n",
    "print(f'Fidelity of predicted state compared to target state: {fidelity}')"
   ]
  },
  {
   "cell_type": "markdown",
   "metadata": {},
   "source": [
    "Determining the number of layers $d$ optimal for each number of qubits $n$ is an interesting task. Through testing, the following roughly optimal values (optimal considering both runtime and fidelity of predicted state against target state) are found:\n",
    "\n",
    "|$n$|$d$|\n",
    "|---|---|\n",
    "|1|2|\n",
    "|2|3|\n",
    "|3|4|\n",
    "|4|5|\n",
    "\n",
    "However, although this values for $d$ work really well for most states, there are some target states for which this number of layers isn't sufficient. To account for this, we can add more layers to our variational circuit, or repeat the optimizing process while the loss function gives a value greater than or equal to $0.01$. There is no right or wrong choice for that, as the effectiveness of the algorithm depends on the ansatz choice which in turn depends on the target state and might need further experimentation to get right.\n",
    "\n",
    "To account for this flexibility, we can go ahead and already implement the general tomography function that only takes in a target state and tries to reproduce it."
   ]
  },
  {
   "cell_type": "code",
   "execution_count": 21,
   "metadata": {},
   "outputs": [],
   "source": [
    "def tomography(ansatz, layers, num_params, loss_func, target, shots, method='COBYLA', repeat=False):\n",
    "    \"\"\"\n",
    "    Performs state tomography on the target state using a variational algorithm.\n",
    "    \n",
    "    Parameters:\n",
    "        ansatz: func\n",
    "            Function that takes a circuit of size n and a set of parameters to add a parametrized circuit to it\n",
    "            Must be of the form: ansatz(n, layers, qc, reg, params)\n",
    "        layers: int\n",
    "            Number of layers of the ansatz to add to the variational circuit\n",
    "        num_params: int\n",
    "            Number of parameters the specified ansatz needs\n",
    "        loss_func: func\n",
    "            Function that adds the cost function to the circuit, which uses the SWAP test\n",
    "            Must be of the form: loss_func(params, ansatz, target_state, n, layers, shots, backend)\n",
    "        target: np.array\n",
    "            2^n normalized array with the target statevector\n",
    "        shots: int\n",
    "            Number of available shots for each measurement of the variational circuit\n",
    "        method: str\n",
    "            String with name of SciPy optimizer to use to optimize the parameters; defaults to COBYLA\n",
    "        repeat: bool\n",
    "            If True, it will repeat the optimization procedure until the final loss value is less than 0.01\n",
    "            \n",
    "    Returns:\n",
    "        op_result.x: np.array\n",
    "            Array with the optimized parameters\n",
    "        op_result.fun: float\n",
    "            Value of the given loss function with the found optimal parameters\n",
    "    \"\"\"\n",
    "    n = int(np.log(len(target)) / np.log(2))\n",
    "    \n",
    "    guess   = [0 for _ in range(num_params)]\n",
    "    backend = Aer.get_backend('qasm_simulator')    \n",
    "    \n",
    "    op_result = minimize(loss_func, guess, args=(ansatz, target, n, layers, shots, backend), method=method)\n",
    "    \n",
    "    if repeat:\n",
    "        loss_val  = op_result.fun\n",
    "        while loss_val >= 0.01:\n",
    "            params    = op_result.x            \n",
    "            op_result = minimize(loss_func, params, args=(ansatz, target, n, layers, shots, backend), method=method)\n",
    "            loss_val  = op_result.fun\n",
    "    \n",
    "    return op_result.x, op_result.fun"
   ]
  },
  {
   "cell_type": "code",
   "execution_count": 20,
   "metadata": {},
   "outputs": [
    {
     "name": "stdout",
     "output_type": "stream",
     "text": [
      "X: 0.0011006056664164543. Y: 0.0015011266906707066. Z: 0.0017014474617325082. Avg: 0.0014343932729398896\n"
     ]
    },
    {
     "data": {
      "text/plain": [
       "(array([ 1.85334458,  1.11375543,  1.01091467,  0.55874179,  0.16858715,\n",
       "        -0.13331855, -0.24708919, -0.51150903, -0.31604596,  0.13370372,\n",
       "        -0.25932827, -1.16169993,  0.13753899, -0.12170018, -0.02577196]),\n",
       " 0.0014343932729398896)"
      ]
     },
     "execution_count": 20,
     "metadata": {},
     "output_type": "execute_result"
    }
   ],
   "source": [
    "num_qubits = 3\n",
    "layers     = 4\n",
    "num_params = num_qubits * (layers + 1)\n",
    "target     = np.random.rand(2 ** num_qubits)\n",
    "target     = target / np.linalg.norm(target)\n",
    "shots      = 10000\n",
    "\n",
    "tomography(ansatz, layers, num_params, loss_func, target, shots, 'COBYLA', repeat=True)"
   ]
  },
  {
   "cell_type": "markdown",
   "metadata": {},
   "source": [
    "As you can see, the general tomography function that we have created has a lot of flexibility. It is done this way because variational algorithms heavily depend on the choice of ansatz and loss function, which can be chosen carefully if previous knowledge about the target state is given. This previous knowledge can help make the ansatz circuit smaller in depth and therefore improve the runtime and use of resources of the whole algorithm. \n",
    "\n",
    "Further work with this algorithm can be done to implement a specific optimization method for this problem, as now the COBYLA method we are using isn't the perfevt choice for what we want to achieve. Also, research in the ansatz design is an active field within variational algorithms and can have applications to our algorithm, given that we know something about the target state we can use an optimal ansatz and if no knowledge is known, at least we can use a somewhat efficient ansatz that is able to reach all states in $\\mathcal{H}^n$."
   ]
  },
  {
   "cell_type": "code",
   "execution_count": null,
   "metadata": {},
   "outputs": [],
   "source": []
  }
 ],
 "metadata": {
  "kernelspec": {
   "display_name": "Python 3",
   "language": "python",
   "name": "python3"
  },
  "language_info": {
   "codemirror_mode": {
    "name": "ipython",
    "version": 3
   },
   "file_extension": ".py",
   "mimetype": "text/x-python",
   "name": "python",
   "nbconvert_exporter": "python",
   "pygments_lexer": "ipython3",
   "version": "3.8.8"
  }
 },
 "nbformat": 4,
 "nbformat_minor": 4
}
